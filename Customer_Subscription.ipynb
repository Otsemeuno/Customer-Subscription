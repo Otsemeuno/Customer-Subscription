{
  "nbformat": 4,
  "nbformat_minor": 0,
  "metadata": {
    "colab": {
      "provenance": [],
      "authorship_tag": "ABX9TyPPIAOYIR8oiV0fD3d4jihE",
      "include_colab_link": true
    },
    "kernelspec": {
      "name": "python3",
      "display_name": "Python 3"
    },
    "language_info": {
      "name": "python"
    }
  },
  "cells": [
    {
      "cell_type": "markdown",
      "metadata": {
        "id": "view-in-github",
        "colab_type": "text"
      },
      "source": [
        "<a href=\"https://colab.research.google.com/github/Otsemeuno/Customer-Subscription/blob/main/Customer_Subscription.ipynb\" target=\"_parent\"><img src=\"https://colab.research.google.com/assets/colab-badge.svg\" alt=\"Open In Colab\"/></a>"
      ]
    },
    {
      "cell_type": "markdown",
      "source": [
        "##Customer Subscription\n",
        "$(Adapted from Kaggle)$"
      ],
      "metadata": {
        "id": "psycZWevvbGs"
      }
    },
    {
      "cell_type": "markdown",
      "source": [
        "\n",
        "## Project Statement\n",
        "This data is about a subscription-based digital product offering for financial advisory that includes newsletters, webinars, and investment recommendations. The offering has a couple of varieties, annual subscription, and digital subscription. The product also provides daytime support for customers to reach out to a care team that can help them with any product-related questions and signup/cancellation-related queries.\n",
        "\n",
        "The data set contains the following information:\n",
        "\n",
        "<ul><li>customer sign-up and cancellation dates at the product level\n",
        "<li>call center activity\n",
        "<li>customer demographics\n",
        "<li>product pricing info<ul>"
      ],
      "metadata": {
        "id": "0h4tCrvJvZSZ"
      }
    },
    {
      "cell_type": "markdown",
      "source": [
        "## Objectives\n",
        "\n",
        "Forecast 2022 year revenue if the company expects to add the same number of new customers as the previous year\n",
        "\n",
        "In 2022, one of the company's key initiatives is to improve the customer experience, one of the capabilities is superior customer care service, and they are thinking about enhancing in-product support better but that takes beyond 2022 to happen. It is very important to forecast call center case volume accurately so that they can make appropriate staffing decisions. Need to predict daily call volumes and make recommendations on how to staff on an hourly basis."
      ],
      "metadata": {
        "id": "cyt6YUp2hymw"
      }
    },
    {
      "cell_type": "code",
      "source": [
        "#importing drive\n",
        "from google.colab import drive"
      ],
      "metadata": {
        "id": "KhfRRXSmcbq8"
      },
      "execution_count": 1,
      "outputs": []
    },
    {
      "cell_type": "code",
      "source": [
        "#importing all necessary libraries\n"
      ],
      "metadata": {
        "id": "xGIZU3VojMgC"
      },
      "execution_count": null,
      "outputs": []
    }
  ]
}