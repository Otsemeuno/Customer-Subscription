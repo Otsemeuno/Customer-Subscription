{
  "cells": [
    {
      "cell_type": "markdown",
      "metadata": {
        "id": "view-in-github",
        "colab_type": "text"
      },
      "source": [
        "<a href=\"https://colab.research.google.com/github/Otsemeuno/Customer-Subscription/blob/main/Customer_Subscription.ipynb\" target=\"_parent\"><img src=\"https://colab.research.google.com/assets/colab-badge.svg\" alt=\"Open In Colab\"/></a>"
      ]
    },
    {
      "cell_type": "markdown",
      "metadata": {
        "id": "psycZWevvbGs"
      },
      "source": [
        "##Customer Subscription\n",
        "$(Adapted from Kaggle)$"
      ]
    },
    {
      "cell_type": "markdown",
      "metadata": {
        "id": "0h4tCrvJvZSZ"
      },
      "source": [
        "\n",
        "## Project Statement\n",
        "This data is about a subscription-based digital product offering for financial advisory that includes newsletters, webinars, and investment recommendations. The offering has a couple of varieties, annual subscription, and digital subscription. The product also provides daytime support for customers to reach out to a care team that can help them with any product-related questions and signup/cancellation-related queries.\n",
        "\n",
        "The data set contains the following information:\n",
        "\n",
        "<ul><li>customer sign-up and cancellation dates at the product level\n",
        "<li>call center activity\n",
        "<li>customer demographics\n",
        "<li>product pricing info<ul>"
      ]
    },
    {
      "cell_type": "markdown",
      "metadata": {
        "id": "cyt6YUp2hymw"
      },
      "source": [
        "## Objectives\n",
        "\n",
        "Forecast 2022 year revenue if the company expects to add the same number of new customers as the previous year\n",
        "\n",
        "In 2022, one of the company's key initiatives is to improve the customer experience, one of the capabilities is superior customer care service, and they are thinking about enhancing in-product support better but that takes beyond 2022 to happen. It is very important to forecast call center case volume accurately so that they can make appropriate staffing decisions. Need to predict daily call volumes and make recommendations on how to staff on an hourly basis."
      ]
    },
    {
      "cell_type": "markdown",
      "source": [
        "## Importing necessaries files"
      ],
      "metadata": {
        "id": "OuA6mTXX-lHp"
      }
    },
    {
      "cell_type": "code",
      "execution_count": 1,
      "metadata": {
        "id": "KhfRRXSmcbq8"
      },
      "outputs": [],
      "source": [
        "#importing drive\n",
        "from google.colab import drive"
      ]
    },
    {
      "cell_type": "code",
      "execution_count": 2,
      "metadata": {
        "id": "xGIZU3VojMgC"
      },
      "outputs": [],
      "source": [
        "#importing all necessary libraries\n",
        "import pandas as pd\n",
        "import numpy as np\n",
        "from datetime import datetime\n",
        "import math\n",
        "\n",
        "import matplotlib.pyplot as plt\n",
        "import matplotlib.dates as mdates\n",
        "import seaborn as sns\n",
        "\n",
        "from statsmodels.tsa.seasonal import seasonal_decompose\n",
        "from sklearn.linear_model import LinearRegression\n",
        "from sklearn.metrics import mean_squared_error, mean_absolute_error\n",
        "from sklearn.preprocessing import MinMaxScaler\n",
        "\n",
        "from tensorflow.keras.models import Sequential\n",
        "from tensorflow.keras.layers import Dense\n",
        "from tensorflow.keras.layers import LSTM\n",
        "from keras.preprocessing.sequence import TimeseriesGenerator"
      ]
    },
    {
      "cell_type": "code",
      "source": [
        "#suppress all warnings\n",
        "import warnings\n",
        "warnings.filterwarnings(\"ignore\")"
      ],
      "metadata": {
        "id": "amZ2Nzb8XFd1"
      },
      "execution_count": 3,
      "outputs": []
    },
    {
      "cell_type": "markdown",
      "metadata": {
        "id": "iG21qF_wkax2"
      },
      "source": [
        "##Data Preparation"
      ]
    },
    {
      "cell_type": "markdown",
      "metadata": {
        "id": "HVhyCMbjkglw"
      },
      "source": [
        "####Load the dataset"
      ]
    },
    {
      "cell_type": "code",
      "execution_count": 4,
      "metadata": {
        "colab": {
          "base_uri": "https://localhost:8080/"
        },
        "id": "NG7JKEJskpo3",
        "outputId": "a7a9199d-343b-4832-ea4a-9e5b68b21a9d"
      },
      "outputs": [
        {
          "output_type": "stream",
          "name": "stdout",
          "text": [
            "Mounted at /content/drive\n"
          ]
        }
      ],
      "source": [
        "# Mount Google Drive on Kernel\n",
        "drive.mount('/content/drive')"
      ]
    },
    {
      "cell_type": "code",
      "execution_count": 5,
      "metadata": {
        "id": "abhZC8DMkzy6"
      },
      "outputs": [],
      "source": [
        "customer_cases = pd.read_csv('/content/drive/MyDrive/Kaggle project/customer_cases.csv', index_col =[0])"
      ]
    },
    {
      "cell_type": "code",
      "execution_count": 6,
      "metadata": {
        "id": "PcNotRM1mODM"
      },
      "outputs": [],
      "source": [
        "customer_info = pd.read_csv('/content/drive/MyDrive/Kaggle project/customer_info.csv', index_col =[0])"
      ]
    },
    {
      "cell_type": "code",
      "execution_count": 7,
      "metadata": {
        "id": "aQk7owaCmXet"
      },
      "outputs": [],
      "source": [
        "customer_product = pd.read_csv('/content/drive/MyDrive/Kaggle project/customer_product.csv', index_col =[0])"
      ]
    },
    {
      "cell_type": "code",
      "execution_count": 8,
      "metadata": {
        "id": "0tp8WoBbmhOb"
      },
      "outputs": [],
      "source": [
        "product_info = pd.read_csv('/content/drive/MyDrive/Kaggle project/product_info.csv', index_col =[0])"
      ]
    },
    {
      "cell_type": "code",
      "execution_count": 9,
      "metadata": {
        "colab": {
          "base_uri": "https://localhost:8080/",
          "height": 0
        },
        "id": "9cT2wXa4sGUR",
        "outputId": "ddc70ada-3653-4492-981b-79042746f82c"
      },
      "outputs": [
        {
          "output_type": "execute_result",
          "data": {
            "text/plain": [
              "  case_id            date_time customer_id channel  reason\n",
              "1   CC101  2017-01-01 10:32:03       C2448   phone  signup\n",
              "2   CC102  2017-01-01 11:35:47       C2449   phone  signup\n",
              "3   CC103  2017-01-01 11:37:09       C2450   phone  signup\n",
              "4   CC104  2017-01-01 13:28:14       C2451   phone  signup\n",
              "5   CC105  2017-01-01 13:52:22       C2452   phone  signup"
            ],
            "text/html": [
              "\n",
              "  <div id=\"df-a1e6c987-edb9-48fe-883d-091406770a42\">\n",
              "    <div class=\"colab-df-container\">\n",
              "      <div>\n",
              "<style scoped>\n",
              "    .dataframe tbody tr th:only-of-type {\n",
              "        vertical-align: middle;\n",
              "    }\n",
              "\n",
              "    .dataframe tbody tr th {\n",
              "        vertical-align: top;\n",
              "    }\n",
              "\n",
              "    .dataframe thead th {\n",
              "        text-align: right;\n",
              "    }\n",
              "</style>\n",
              "<table border=\"1\" class=\"dataframe\">\n",
              "  <thead>\n",
              "    <tr style=\"text-align: right;\">\n",
              "      <th></th>\n",
              "      <th>case_id</th>\n",
              "      <th>date_time</th>\n",
              "      <th>customer_id</th>\n",
              "      <th>channel</th>\n",
              "      <th>reason</th>\n",
              "    </tr>\n",
              "  </thead>\n",
              "  <tbody>\n",
              "    <tr>\n",
              "      <th>1</th>\n",
              "      <td>CC101</td>\n",
              "      <td>2017-01-01 10:32:03</td>\n",
              "      <td>C2448</td>\n",
              "      <td>phone</td>\n",
              "      <td>signup</td>\n",
              "    </tr>\n",
              "    <tr>\n",
              "      <th>2</th>\n",
              "      <td>CC102</td>\n",
              "      <td>2017-01-01 11:35:47</td>\n",
              "      <td>C2449</td>\n",
              "      <td>phone</td>\n",
              "      <td>signup</td>\n",
              "    </tr>\n",
              "    <tr>\n",
              "      <th>3</th>\n",
              "      <td>CC103</td>\n",
              "      <td>2017-01-01 11:37:09</td>\n",
              "      <td>C2450</td>\n",
              "      <td>phone</td>\n",
              "      <td>signup</td>\n",
              "    </tr>\n",
              "    <tr>\n",
              "      <th>4</th>\n",
              "      <td>CC104</td>\n",
              "      <td>2017-01-01 13:28:14</td>\n",
              "      <td>C2451</td>\n",
              "      <td>phone</td>\n",
              "      <td>signup</td>\n",
              "    </tr>\n",
              "    <tr>\n",
              "      <th>5</th>\n",
              "      <td>CC105</td>\n",
              "      <td>2017-01-01 13:52:22</td>\n",
              "      <td>C2452</td>\n",
              "      <td>phone</td>\n",
              "      <td>signup</td>\n",
              "    </tr>\n",
              "  </tbody>\n",
              "</table>\n",
              "</div>\n",
              "      <button class=\"colab-df-convert\" onclick=\"convertToInteractive('df-a1e6c987-edb9-48fe-883d-091406770a42')\"\n",
              "              title=\"Convert this dataframe to an interactive table.\"\n",
              "              style=\"display:none;\">\n",
              "        \n",
              "  <svg xmlns=\"http://www.w3.org/2000/svg\" height=\"24px\"viewBox=\"0 0 24 24\"\n",
              "       width=\"24px\">\n",
              "    <path d=\"M0 0h24v24H0V0z\" fill=\"none\"/>\n",
              "    <path d=\"M18.56 5.44l.94 2.06.94-2.06 2.06-.94-2.06-.94-.94-2.06-.94 2.06-2.06.94zm-11 1L8.5 8.5l.94-2.06 2.06-.94-2.06-.94L8.5 2.5l-.94 2.06-2.06.94zm10 10l.94 2.06.94-2.06 2.06-.94-2.06-.94-.94-2.06-.94 2.06-2.06.94z\"/><path d=\"M17.41 7.96l-1.37-1.37c-.4-.4-.92-.59-1.43-.59-.52 0-1.04.2-1.43.59L10.3 9.45l-7.72 7.72c-.78.78-.78 2.05 0 2.83L4 21.41c.39.39.9.59 1.41.59.51 0 1.02-.2 1.41-.59l7.78-7.78 2.81-2.81c.8-.78.8-2.07 0-2.86zM5.41 20L4 18.59l7.72-7.72 1.47 1.35L5.41 20z\"/>\n",
              "  </svg>\n",
              "      </button>\n",
              "      \n",
              "  <style>\n",
              "    .colab-df-container {\n",
              "      display:flex;\n",
              "      flex-wrap:wrap;\n",
              "      gap: 12px;\n",
              "    }\n",
              "\n",
              "    .colab-df-convert {\n",
              "      background-color: #E8F0FE;\n",
              "      border: none;\n",
              "      border-radius: 50%;\n",
              "      cursor: pointer;\n",
              "      display: none;\n",
              "      fill: #1967D2;\n",
              "      height: 32px;\n",
              "      padding: 0 0 0 0;\n",
              "      width: 32px;\n",
              "    }\n",
              "\n",
              "    .colab-df-convert:hover {\n",
              "      background-color: #E2EBFA;\n",
              "      box-shadow: 0px 1px 2px rgba(60, 64, 67, 0.3), 0px 1px 3px 1px rgba(60, 64, 67, 0.15);\n",
              "      fill: #174EA6;\n",
              "    }\n",
              "\n",
              "    [theme=dark] .colab-df-convert {\n",
              "      background-color: #3B4455;\n",
              "      fill: #D2E3FC;\n",
              "    }\n",
              "\n",
              "    [theme=dark] .colab-df-convert:hover {\n",
              "      background-color: #434B5C;\n",
              "      box-shadow: 0px 1px 3px 1px rgba(0, 0, 0, 0.15);\n",
              "      filter: drop-shadow(0px 1px 2px rgba(0, 0, 0, 0.3));\n",
              "      fill: #FFFFFF;\n",
              "    }\n",
              "  </style>\n",
              "\n",
              "      <script>\n",
              "        const buttonEl =\n",
              "          document.querySelector('#df-a1e6c987-edb9-48fe-883d-091406770a42 button.colab-df-convert');\n",
              "        buttonEl.style.display =\n",
              "          google.colab.kernel.accessAllowed ? 'block' : 'none';\n",
              "\n",
              "        async function convertToInteractive(key) {\n",
              "          const element = document.querySelector('#df-a1e6c987-edb9-48fe-883d-091406770a42');\n",
              "          const dataTable =\n",
              "            await google.colab.kernel.invokeFunction('convertToInteractive',\n",
              "                                                     [key], {});\n",
              "          if (!dataTable) return;\n",
              "\n",
              "          const docLinkHtml = 'Like what you see? Visit the ' +\n",
              "            '<a target=\"_blank\" href=https://colab.research.google.com/notebooks/data_table.ipynb>data table notebook</a>'\n",
              "            + ' to learn more about interactive tables.';\n",
              "          element.innerHTML = '';\n",
              "          dataTable['output_type'] = 'display_data';\n",
              "          await google.colab.output.renderOutput(dataTable, element);\n",
              "          const docLink = document.createElement('div');\n",
              "          docLink.innerHTML = docLinkHtml;\n",
              "          element.appendChild(docLink);\n",
              "        }\n",
              "      </script>\n",
              "    </div>\n",
              "  </div>\n",
              "  "
            ]
          },
          "metadata": {},
          "execution_count": 9
        }
      ],
      "source": [
        "#display top 5 rows in the dataset\n",
        "customer_cases.head()"
      ]
    },
    {
      "cell_type": "code",
      "execution_count": 10,
      "metadata": {
        "colab": {
          "base_uri": "https://localhost:8080/",
          "height": 0
        },
        "id": "IiGxPnr1qPmn",
        "outputId": "350ec072-24d1-4087-ab0e-69d22f2d320b"
      },
      "outputs": [
        {
          "output_type": "execute_result",
          "data": {
            "text/plain": [
              "  customer_id  age  gender\n",
              "1       C2448   76  female\n",
              "2       C2449   61    male\n",
              "3       C2450   58  female\n",
              "4       C2451   62  female\n",
              "5       C2452   71    male"
            ],
            "text/html": [
              "\n",
              "  <div id=\"df-29703882-5b3d-4b05-b40b-ccdff5e5c495\">\n",
              "    <div class=\"colab-df-container\">\n",
              "      <div>\n",
              "<style scoped>\n",
              "    .dataframe tbody tr th:only-of-type {\n",
              "        vertical-align: middle;\n",
              "    }\n",
              "\n",
              "    .dataframe tbody tr th {\n",
              "        vertical-align: top;\n",
              "    }\n",
              "\n",
              "    .dataframe thead th {\n",
              "        text-align: right;\n",
              "    }\n",
              "</style>\n",
              "<table border=\"1\" class=\"dataframe\">\n",
              "  <thead>\n",
              "    <tr style=\"text-align: right;\">\n",
              "      <th></th>\n",
              "      <th>customer_id</th>\n",
              "      <th>age</th>\n",
              "      <th>gender</th>\n",
              "    </tr>\n",
              "  </thead>\n",
              "  <tbody>\n",
              "    <tr>\n",
              "      <th>1</th>\n",
              "      <td>C2448</td>\n",
              "      <td>76</td>\n",
              "      <td>female</td>\n",
              "    </tr>\n",
              "    <tr>\n",
              "      <th>2</th>\n",
              "      <td>C2449</td>\n",
              "      <td>61</td>\n",
              "      <td>male</td>\n",
              "    </tr>\n",
              "    <tr>\n",
              "      <th>3</th>\n",
              "      <td>C2450</td>\n",
              "      <td>58</td>\n",
              "      <td>female</td>\n",
              "    </tr>\n",
              "    <tr>\n",
              "      <th>4</th>\n",
              "      <td>C2451</td>\n",
              "      <td>62</td>\n",
              "      <td>female</td>\n",
              "    </tr>\n",
              "    <tr>\n",
              "      <th>5</th>\n",
              "      <td>C2452</td>\n",
              "      <td>71</td>\n",
              "      <td>male</td>\n",
              "    </tr>\n",
              "  </tbody>\n",
              "</table>\n",
              "</div>\n",
              "      <button class=\"colab-df-convert\" onclick=\"convertToInteractive('df-29703882-5b3d-4b05-b40b-ccdff5e5c495')\"\n",
              "              title=\"Convert this dataframe to an interactive table.\"\n",
              "              style=\"display:none;\">\n",
              "        \n",
              "  <svg xmlns=\"http://www.w3.org/2000/svg\" height=\"24px\"viewBox=\"0 0 24 24\"\n",
              "       width=\"24px\">\n",
              "    <path d=\"M0 0h24v24H0V0z\" fill=\"none\"/>\n",
              "    <path d=\"M18.56 5.44l.94 2.06.94-2.06 2.06-.94-2.06-.94-.94-2.06-.94 2.06-2.06.94zm-11 1L8.5 8.5l.94-2.06 2.06-.94-2.06-.94L8.5 2.5l-.94 2.06-2.06.94zm10 10l.94 2.06.94-2.06 2.06-.94-2.06-.94-.94-2.06-.94 2.06-2.06.94z\"/><path d=\"M17.41 7.96l-1.37-1.37c-.4-.4-.92-.59-1.43-.59-.52 0-1.04.2-1.43.59L10.3 9.45l-7.72 7.72c-.78.78-.78 2.05 0 2.83L4 21.41c.39.39.9.59 1.41.59.51 0 1.02-.2 1.41-.59l7.78-7.78 2.81-2.81c.8-.78.8-2.07 0-2.86zM5.41 20L4 18.59l7.72-7.72 1.47 1.35L5.41 20z\"/>\n",
              "  </svg>\n",
              "      </button>\n",
              "      \n",
              "  <style>\n",
              "    .colab-df-container {\n",
              "      display:flex;\n",
              "      flex-wrap:wrap;\n",
              "      gap: 12px;\n",
              "    }\n",
              "\n",
              "    .colab-df-convert {\n",
              "      background-color: #E8F0FE;\n",
              "      border: none;\n",
              "      border-radius: 50%;\n",
              "      cursor: pointer;\n",
              "      display: none;\n",
              "      fill: #1967D2;\n",
              "      height: 32px;\n",
              "      padding: 0 0 0 0;\n",
              "      width: 32px;\n",
              "    }\n",
              "\n",
              "    .colab-df-convert:hover {\n",
              "      background-color: #E2EBFA;\n",
              "      box-shadow: 0px 1px 2px rgba(60, 64, 67, 0.3), 0px 1px 3px 1px rgba(60, 64, 67, 0.15);\n",
              "      fill: #174EA6;\n",
              "    }\n",
              "\n",
              "    [theme=dark] .colab-df-convert {\n",
              "      background-color: #3B4455;\n",
              "      fill: #D2E3FC;\n",
              "    }\n",
              "\n",
              "    [theme=dark] .colab-df-convert:hover {\n",
              "      background-color: #434B5C;\n",
              "      box-shadow: 0px 1px 3px 1px rgba(0, 0, 0, 0.15);\n",
              "      filter: drop-shadow(0px 1px 2px rgba(0, 0, 0, 0.3));\n",
              "      fill: #FFFFFF;\n",
              "    }\n",
              "  </style>\n",
              "\n",
              "      <script>\n",
              "        const buttonEl =\n",
              "          document.querySelector('#df-29703882-5b3d-4b05-b40b-ccdff5e5c495 button.colab-df-convert');\n",
              "        buttonEl.style.display =\n",
              "          google.colab.kernel.accessAllowed ? 'block' : 'none';\n",
              "\n",
              "        async function convertToInteractive(key) {\n",
              "          const element = document.querySelector('#df-29703882-5b3d-4b05-b40b-ccdff5e5c495');\n",
              "          const dataTable =\n",
              "            await google.colab.kernel.invokeFunction('convertToInteractive',\n",
              "                                                     [key], {});\n",
              "          if (!dataTable) return;\n",
              "\n",
              "          const docLinkHtml = 'Like what you see? Visit the ' +\n",
              "            '<a target=\"_blank\" href=https://colab.research.google.com/notebooks/data_table.ipynb>data table notebook</a>'\n",
              "            + ' to learn more about interactive tables.';\n",
              "          element.innerHTML = '';\n",
              "          dataTable['output_type'] = 'display_data';\n",
              "          await google.colab.output.renderOutput(dataTable, element);\n",
              "          const docLink = document.createElement('div');\n",
              "          docLink.innerHTML = docLinkHtml;\n",
              "          element.appendChild(docLink);\n",
              "        }\n",
              "      </script>\n",
              "    </div>\n",
              "  </div>\n",
              "  "
            ]
          },
          "metadata": {},
          "execution_count": 10
        }
      ],
      "source": [
        "#display top 5 rows in the dataset\n",
        "customer_info.head()"
      ]
    },
    {
      "cell_type": "code",
      "execution_count": 11,
      "metadata": {
        "colab": {
          "base_uri": "https://localhost:8080/",
          "height": 0
        },
        "id": "kG7vzhMpsNib",
        "outputId": "6c594a47-555e-4ab8-f3ea-08e341db1534"
      },
      "outputs": [
        {
          "output_type": "execute_result",
          "data": {
            "text/plain": [
              "  customer_id product     signup_date_time     cancel_date_time\n",
              "1       C2448   prd_1  2017-01-01 10:35:09                  NaN\n",
              "2       C2449   prd_1  2017-01-01 11:39:29  2021-09-05 10:00:02\n",
              "3       C2450   prd_1  2017-01-01 11:42:00  2019-01-13 16:24:55\n",
              "4       C2451   prd_2  2017-01-01 13:32:08                  NaN\n",
              "5       C2452   prd_1  2017-01-01 13:57:30  2021-06-28 18:06:01"
            ],
            "text/html": [
              "\n",
              "  <div id=\"df-df225ee4-7a6c-420f-96d3-da367c47b8dc\">\n",
              "    <div class=\"colab-df-container\">\n",
              "      <div>\n",
              "<style scoped>\n",
              "    .dataframe tbody tr th:only-of-type {\n",
              "        vertical-align: middle;\n",
              "    }\n",
              "\n",
              "    .dataframe tbody tr th {\n",
              "        vertical-align: top;\n",
              "    }\n",
              "\n",
              "    .dataframe thead th {\n",
              "        text-align: right;\n",
              "    }\n",
              "</style>\n",
              "<table border=\"1\" class=\"dataframe\">\n",
              "  <thead>\n",
              "    <tr style=\"text-align: right;\">\n",
              "      <th></th>\n",
              "      <th>customer_id</th>\n",
              "      <th>product</th>\n",
              "      <th>signup_date_time</th>\n",
              "      <th>cancel_date_time</th>\n",
              "    </tr>\n",
              "  </thead>\n",
              "  <tbody>\n",
              "    <tr>\n",
              "      <th>1</th>\n",
              "      <td>C2448</td>\n",
              "      <td>prd_1</td>\n",
              "      <td>2017-01-01 10:35:09</td>\n",
              "      <td>NaN</td>\n",
              "    </tr>\n",
              "    <tr>\n",
              "      <th>2</th>\n",
              "      <td>C2449</td>\n",
              "      <td>prd_1</td>\n",
              "      <td>2017-01-01 11:39:29</td>\n",
              "      <td>2021-09-05 10:00:02</td>\n",
              "    </tr>\n",
              "    <tr>\n",
              "      <th>3</th>\n",
              "      <td>C2450</td>\n",
              "      <td>prd_1</td>\n",
              "      <td>2017-01-01 11:42:00</td>\n",
              "      <td>2019-01-13 16:24:55</td>\n",
              "    </tr>\n",
              "    <tr>\n",
              "      <th>4</th>\n",
              "      <td>C2451</td>\n",
              "      <td>prd_2</td>\n",
              "      <td>2017-01-01 13:32:08</td>\n",
              "      <td>NaN</td>\n",
              "    </tr>\n",
              "    <tr>\n",
              "      <th>5</th>\n",
              "      <td>C2452</td>\n",
              "      <td>prd_1</td>\n",
              "      <td>2017-01-01 13:57:30</td>\n",
              "      <td>2021-06-28 18:06:01</td>\n",
              "    </tr>\n",
              "  </tbody>\n",
              "</table>\n",
              "</div>\n",
              "      <button class=\"colab-df-convert\" onclick=\"convertToInteractive('df-df225ee4-7a6c-420f-96d3-da367c47b8dc')\"\n",
              "              title=\"Convert this dataframe to an interactive table.\"\n",
              "              style=\"display:none;\">\n",
              "        \n",
              "  <svg xmlns=\"http://www.w3.org/2000/svg\" height=\"24px\"viewBox=\"0 0 24 24\"\n",
              "       width=\"24px\">\n",
              "    <path d=\"M0 0h24v24H0V0z\" fill=\"none\"/>\n",
              "    <path d=\"M18.56 5.44l.94 2.06.94-2.06 2.06-.94-2.06-.94-.94-2.06-.94 2.06-2.06.94zm-11 1L8.5 8.5l.94-2.06 2.06-.94-2.06-.94L8.5 2.5l-.94 2.06-2.06.94zm10 10l.94 2.06.94-2.06 2.06-.94-2.06-.94-.94-2.06-.94 2.06-2.06.94z\"/><path d=\"M17.41 7.96l-1.37-1.37c-.4-.4-.92-.59-1.43-.59-.52 0-1.04.2-1.43.59L10.3 9.45l-7.72 7.72c-.78.78-.78 2.05 0 2.83L4 21.41c.39.39.9.59 1.41.59.51 0 1.02-.2 1.41-.59l7.78-7.78 2.81-2.81c.8-.78.8-2.07 0-2.86zM5.41 20L4 18.59l7.72-7.72 1.47 1.35L5.41 20z\"/>\n",
              "  </svg>\n",
              "      </button>\n",
              "      \n",
              "  <style>\n",
              "    .colab-df-container {\n",
              "      display:flex;\n",
              "      flex-wrap:wrap;\n",
              "      gap: 12px;\n",
              "    }\n",
              "\n",
              "    .colab-df-convert {\n",
              "      background-color: #E8F0FE;\n",
              "      border: none;\n",
              "      border-radius: 50%;\n",
              "      cursor: pointer;\n",
              "      display: none;\n",
              "      fill: #1967D2;\n",
              "      height: 32px;\n",
              "      padding: 0 0 0 0;\n",
              "      width: 32px;\n",
              "    }\n",
              "\n",
              "    .colab-df-convert:hover {\n",
              "      background-color: #E2EBFA;\n",
              "      box-shadow: 0px 1px 2px rgba(60, 64, 67, 0.3), 0px 1px 3px 1px rgba(60, 64, 67, 0.15);\n",
              "      fill: #174EA6;\n",
              "    }\n",
              "\n",
              "    [theme=dark] .colab-df-convert {\n",
              "      background-color: #3B4455;\n",
              "      fill: #D2E3FC;\n",
              "    }\n",
              "\n",
              "    [theme=dark] .colab-df-convert:hover {\n",
              "      background-color: #434B5C;\n",
              "      box-shadow: 0px 1px 3px 1px rgba(0, 0, 0, 0.15);\n",
              "      filter: drop-shadow(0px 1px 2px rgba(0, 0, 0, 0.3));\n",
              "      fill: #FFFFFF;\n",
              "    }\n",
              "  </style>\n",
              "\n",
              "      <script>\n",
              "        const buttonEl =\n",
              "          document.querySelector('#df-df225ee4-7a6c-420f-96d3-da367c47b8dc button.colab-df-convert');\n",
              "        buttonEl.style.display =\n",
              "          google.colab.kernel.accessAllowed ? 'block' : 'none';\n",
              "\n",
              "        async function convertToInteractive(key) {\n",
              "          const element = document.querySelector('#df-df225ee4-7a6c-420f-96d3-da367c47b8dc');\n",
              "          const dataTable =\n",
              "            await google.colab.kernel.invokeFunction('convertToInteractive',\n",
              "                                                     [key], {});\n",
              "          if (!dataTable) return;\n",
              "\n",
              "          const docLinkHtml = 'Like what you see? Visit the ' +\n",
              "            '<a target=\"_blank\" href=https://colab.research.google.com/notebooks/data_table.ipynb>data table notebook</a>'\n",
              "            + ' to learn more about interactive tables.';\n",
              "          element.innerHTML = '';\n",
              "          dataTable['output_type'] = 'display_data';\n",
              "          await google.colab.output.renderOutput(dataTable, element);\n",
              "          const docLink = document.createElement('div');\n",
              "          docLink.innerHTML = docLinkHtml;\n",
              "          element.appendChild(docLink);\n",
              "        }\n",
              "      </script>\n",
              "    </div>\n",
              "  </div>\n",
              "  "
            ]
          },
          "metadata": {},
          "execution_count": 11
        }
      ],
      "source": [
        "#display top 5 rows in the dataset\n",
        "customer_product.head() "
      ]
    },
    {
      "cell_type": "code",
      "execution_count": 12,
      "metadata": {
        "colab": {
          "base_uri": "https://localhost:8080/",
          "height": 0
        },
        "id": "EUWeJI2rsRUc",
        "outputId": "fe6ba3d6-1c6b-4292-d99e-a4d51b597988"
      },
      "outputs": [
        {
          "output_type": "execute_result",
          "data": {
            "text/plain": [
              "                            name  price  billing_cycle\n",
              "product_id                                            \n",
              "prd_1        annual_subscription   1200             12\n",
              "prd_2       monthly_subscription    125              1"
            ],
            "text/html": [
              "\n",
              "  <div id=\"df-0dfa2fa8-f12d-4e70-8def-c5723f803c82\">\n",
              "    <div class=\"colab-df-container\">\n",
              "      <div>\n",
              "<style scoped>\n",
              "    .dataframe tbody tr th:only-of-type {\n",
              "        vertical-align: middle;\n",
              "    }\n",
              "\n",
              "    .dataframe tbody tr th {\n",
              "        vertical-align: top;\n",
              "    }\n",
              "\n",
              "    .dataframe thead th {\n",
              "        text-align: right;\n",
              "    }\n",
              "</style>\n",
              "<table border=\"1\" class=\"dataframe\">\n",
              "  <thead>\n",
              "    <tr style=\"text-align: right;\">\n",
              "      <th></th>\n",
              "      <th>name</th>\n",
              "      <th>price</th>\n",
              "      <th>billing_cycle</th>\n",
              "    </tr>\n",
              "    <tr>\n",
              "      <th>product_id</th>\n",
              "      <th></th>\n",
              "      <th></th>\n",
              "      <th></th>\n",
              "    </tr>\n",
              "  </thead>\n",
              "  <tbody>\n",
              "    <tr>\n",
              "      <th>prd_1</th>\n",
              "      <td>annual_subscription</td>\n",
              "      <td>1200</td>\n",
              "      <td>12</td>\n",
              "    </tr>\n",
              "    <tr>\n",
              "      <th>prd_2</th>\n",
              "      <td>monthly_subscription</td>\n",
              "      <td>125</td>\n",
              "      <td>1</td>\n",
              "    </tr>\n",
              "  </tbody>\n",
              "</table>\n",
              "</div>\n",
              "      <button class=\"colab-df-convert\" onclick=\"convertToInteractive('df-0dfa2fa8-f12d-4e70-8def-c5723f803c82')\"\n",
              "              title=\"Convert this dataframe to an interactive table.\"\n",
              "              style=\"display:none;\">\n",
              "        \n",
              "  <svg xmlns=\"http://www.w3.org/2000/svg\" height=\"24px\"viewBox=\"0 0 24 24\"\n",
              "       width=\"24px\">\n",
              "    <path d=\"M0 0h24v24H0V0z\" fill=\"none\"/>\n",
              "    <path d=\"M18.56 5.44l.94 2.06.94-2.06 2.06-.94-2.06-.94-.94-2.06-.94 2.06-2.06.94zm-11 1L8.5 8.5l.94-2.06 2.06-.94-2.06-.94L8.5 2.5l-.94 2.06-2.06.94zm10 10l.94 2.06.94-2.06 2.06-.94-2.06-.94-.94-2.06-.94 2.06-2.06.94z\"/><path d=\"M17.41 7.96l-1.37-1.37c-.4-.4-.92-.59-1.43-.59-.52 0-1.04.2-1.43.59L10.3 9.45l-7.72 7.72c-.78.78-.78 2.05 0 2.83L4 21.41c.39.39.9.59 1.41.59.51 0 1.02-.2 1.41-.59l7.78-7.78 2.81-2.81c.8-.78.8-2.07 0-2.86zM5.41 20L4 18.59l7.72-7.72 1.47 1.35L5.41 20z\"/>\n",
              "  </svg>\n",
              "      </button>\n",
              "      \n",
              "  <style>\n",
              "    .colab-df-container {\n",
              "      display:flex;\n",
              "      flex-wrap:wrap;\n",
              "      gap: 12px;\n",
              "    }\n",
              "\n",
              "    .colab-df-convert {\n",
              "      background-color: #E8F0FE;\n",
              "      border: none;\n",
              "      border-radius: 50%;\n",
              "      cursor: pointer;\n",
              "      display: none;\n",
              "      fill: #1967D2;\n",
              "      height: 32px;\n",
              "      padding: 0 0 0 0;\n",
              "      width: 32px;\n",
              "    }\n",
              "\n",
              "    .colab-df-convert:hover {\n",
              "      background-color: #E2EBFA;\n",
              "      box-shadow: 0px 1px 2px rgba(60, 64, 67, 0.3), 0px 1px 3px 1px rgba(60, 64, 67, 0.15);\n",
              "      fill: #174EA6;\n",
              "    }\n",
              "\n",
              "    [theme=dark] .colab-df-convert {\n",
              "      background-color: #3B4455;\n",
              "      fill: #D2E3FC;\n",
              "    }\n",
              "\n",
              "    [theme=dark] .colab-df-convert:hover {\n",
              "      background-color: #434B5C;\n",
              "      box-shadow: 0px 1px 3px 1px rgba(0, 0, 0, 0.15);\n",
              "      filter: drop-shadow(0px 1px 2px rgba(0, 0, 0, 0.3));\n",
              "      fill: #FFFFFF;\n",
              "    }\n",
              "  </style>\n",
              "\n",
              "      <script>\n",
              "        const buttonEl =\n",
              "          document.querySelector('#df-0dfa2fa8-f12d-4e70-8def-c5723f803c82 button.colab-df-convert');\n",
              "        buttonEl.style.display =\n",
              "          google.colab.kernel.accessAllowed ? 'block' : 'none';\n",
              "\n",
              "        async function convertToInteractive(key) {\n",
              "          const element = document.querySelector('#df-0dfa2fa8-f12d-4e70-8def-c5723f803c82');\n",
              "          const dataTable =\n",
              "            await google.colab.kernel.invokeFunction('convertToInteractive',\n",
              "                                                     [key], {});\n",
              "          if (!dataTable) return;\n",
              "\n",
              "          const docLinkHtml = 'Like what you see? Visit the ' +\n",
              "            '<a target=\"_blank\" href=https://colab.research.google.com/notebooks/data_table.ipynb>data table notebook</a>'\n",
              "            + ' to learn more about interactive tables.';\n",
              "          element.innerHTML = '';\n",
              "          dataTable['output_type'] = 'display_data';\n",
              "          await google.colab.output.renderOutput(dataTable, element);\n",
              "          const docLink = document.createElement('div');\n",
              "          docLink.innerHTML = docLinkHtml;\n",
              "          element.appendChild(docLink);\n",
              "        }\n",
              "      </script>\n",
              "    </div>\n",
              "  </div>\n",
              "  "
            ]
          },
          "metadata": {},
          "execution_count": 12
        }
      ],
      "source": [
        "#display top 5 rows in the dataset\n",
        "product_info.head()"
      ]
    },
    {
      "cell_type": "code",
      "execution_count": 13,
      "metadata": {
        "colab": {
          "base_uri": "https://localhost:8080/"
        },
        "id": "BxznHlEfxoiO",
        "outputId": "fcb9acf5-372e-45c8-954f-e9a62551b72b"
      },
      "outputs": [
        {
          "output_type": "execute_result",
          "data": {
            "text/plain": [
              "(330512, 5)"
            ]
          },
          "metadata": {},
          "execution_count": 13
        }
      ],
      "source": [
        "customer_cases.shape"
      ]
    },
    {
      "cell_type": "markdown",
      "source": [
        "The customer cases data set has 5 attributes and 330512 observations"
      ],
      "metadata": {
        "id": "5cLnVKBtjDSc"
      }
    },
    {
      "cell_type": "code",
      "execution_count": 14,
      "metadata": {
        "colab": {
          "base_uri": "https://localhost:8080/"
        },
        "id": "FHeXyprlxw2s",
        "outputId": "cfab46b8-13e4-4f0e-80c1-9debe3e042ad"
      },
      "outputs": [
        {
          "output_type": "execute_result",
          "data": {
            "text/plain": [
              "(508932, 3)"
            ]
          },
          "metadata": {},
          "execution_count": 14
        }
      ],
      "source": [
        "customer_info.shape"
      ]
    },
    {
      "cell_type": "markdown",
      "source": [
        "The data on customer info has 3 attributes and 508932 observations"
      ],
      "metadata": {
        "id": "eBH2E6u2jQYG"
      }
    },
    {
      "cell_type": "code",
      "execution_count": 15,
      "metadata": {
        "colab": {
          "base_uri": "https://localhost:8080/"
        },
        "id": "gjZLxS9VyJ1S",
        "outputId": "52407bf0-ce7b-4c0c-ee03-e4e17ded4e4e"
      },
      "outputs": [
        {
          "output_type": "execute_result",
          "data": {
            "text/plain": [
              "(508932, 4)"
            ]
          },
          "metadata": {},
          "execution_count": 15
        }
      ],
      "source": [
        "customer_product.shape"
      ]
    },
    {
      "cell_type": "markdown",
      "source": [
        "Customer product has 508932 records and 4 features"
      ],
      "metadata": {
        "id": "RxaC9EPljao-"
      }
    },
    {
      "cell_type": "code",
      "execution_count": 16,
      "metadata": {
        "colab": {
          "base_uri": "https://localhost:8080/"
        },
        "id": "Rj5DtHfVyMhr",
        "outputId": "9b62d039-30e9-414c-f614-6d3064991075"
      },
      "outputs": [
        {
          "output_type": "execute_result",
          "data": {
            "text/plain": [
              "(2, 3)"
            ]
          },
          "metadata": {},
          "execution_count": 16
        }
      ],
      "source": [
        "product_info.shape"
      ]
    },
    {
      "cell_type": "markdown",
      "source": [
        "Data provided has information on two products"
      ],
      "metadata": {
        "id": "2q6-u26Qjkn-"
      }
    },
    {
      "cell_type": "markdown",
      "metadata": {
        "id": "_H5LP_HO1M6u"
      },
      "source": [
        "###Missing Variables"
      ]
    },
    {
      "cell_type": "code",
      "execution_count": 17,
      "metadata": {
        "colab": {
          "base_uri": "https://localhost:8080/"
        },
        "id": "tMXA3WKo1nAa",
        "outputId": "c18ee460-1121-44b5-9cc8-425aecdcdc66"
      },
      "outputs": [
        {
          "output_type": "execute_result",
          "data": {
            "text/plain": [
              "case_id        0\n",
              "date_time      0\n",
              "customer_id    0\n",
              "channel        0\n",
              "reason         0\n",
              "dtype: int64"
            ]
          },
          "metadata": {},
          "execution_count": 17
        }
      ],
      "source": [
        "customer_cases.isna().sum()"
      ]
    },
    {
      "cell_type": "code",
      "execution_count": 18,
      "metadata": {
        "colab": {
          "base_uri": "https://localhost:8080/"
        },
        "id": "11HilSCz15wE",
        "outputId": "f6526783-9469-40c8-ac05-c552f24b7675"
      },
      "outputs": [
        {
          "output_type": "execute_result",
          "data": {
            "text/plain": [
              "customer_id    0\n",
              "age            0\n",
              "gender         0\n",
              "dtype: int64"
            ]
          },
          "metadata": {},
          "execution_count": 18
        }
      ],
      "source": [
        "customer_info.isna().sum()"
      ]
    },
    {
      "cell_type": "code",
      "execution_count": 19,
      "metadata": {
        "colab": {
          "base_uri": "https://localhost:8080/"
        },
        "id": "4wohqo0M0TCb",
        "outputId": "a7d31ea0-bd7d-4431-da53-f800b59865db"
      },
      "outputs": [
        {
          "output_type": "execute_result",
          "data": {
            "text/plain": [
              "customer_id              0\n",
              "product                  0\n",
              "signup_date_time         0\n",
              "cancel_date_time    396447\n",
              "dtype: int64"
            ]
          },
          "metadata": {},
          "execution_count": 19
        }
      ],
      "source": [
        "customer_product.isna().sum()"
      ]
    },
    {
      "cell_type": "code",
      "execution_count": 20,
      "metadata": {
        "colab": {
          "base_uri": "https://localhost:8080/"
        },
        "id": "jOI3Nitd1-4q",
        "outputId": "1f4db850-50c9-4592-c42f-7e13444f94a8"
      },
      "outputs": [
        {
          "output_type": "execute_result",
          "data": {
            "text/plain": [
              "name             0\n",
              "price            0\n",
              "billing_cycle    0\n",
              "dtype: int64"
            ]
          },
          "metadata": {},
          "execution_count": 20
        }
      ],
      "source": [
        "product_info.isna().sum()"
      ]
    },
    {
      "cell_type": "markdown",
      "source": [
        "Customer_produc has missing values. This missing values are from the cancel_date_time attribute. The values are missing because the customers are yet to cancel their current plan and are still with the company."
      ],
      "metadata": {
        "id": "oRMPsJWjkQnB"
      }
    },
    {
      "cell_type": "markdown",
      "metadata": {
        "id": "igv3DqOI2QAp"
      },
      "source": [
        "##Feature Engineering"
      ]
    },
    {
      "cell_type": "code",
      "source": [
        "customer_product['customer'] = customer_product.cancel_date_time.apply(lambda x: 1 if x is np.nan else 0)"
      ],
      "metadata": {
        "id": "oJWr1y9G74r5"
      },
      "execution_count": 21,
      "outputs": []
    },
    {
      "cell_type": "code",
      "source": [
        "customer_product.columns"
      ],
      "metadata": {
        "colab": {
          "base_uri": "https://localhost:8080/"
        },
        "id": "ecEwdEN9_zLE",
        "outputId": "12382a39-e657-4d00-cb88-7f119165486c"
      },
      "execution_count": 22,
      "outputs": [
        {
          "output_type": "execute_result",
          "data": {
            "text/plain": [
              "Index(['customer_id', 'product', 'signup_date_time', 'cancel_date_time',\n",
              "       'customer'],\n",
              "      dtype='object')"
            ]
          },
          "metadata": {},
          "execution_count": 22
        }
      ]
    },
    {
      "cell_type": "markdown",
      "source": [
        "## Forecasting Revenue"
      ],
      "metadata": {
        "id": "r_-iUkhDnQ4M"
      }
    },
    {
      "cell_type": "markdown",
      "source": [
        "Merge the two dataset to get all  the prices of each product subscribed by the customer."
      ],
      "metadata": {
        "id": "-eAtx9Hypk5f"
      }
    },
    {
      "cell_type": "code",
      "source": [
        "df_rev = customer_product.merge(product_info, left_on = 'product', right_on = 'product_id')"
      ],
      "metadata": {
        "id": "qhTT8wCCnNMv"
      },
      "execution_count": 23,
      "outputs": []
    },
    {
      "cell_type": "markdown",
      "source": [
        "  Replace the null values with the last day of the year 2021"
      ],
      "metadata": {
        "id": "X-Of2D17zoom"
      }
    },
    {
      "cell_type": "code",
      "source": [
        "#Convert the signup date and cancellation dates to datetime\n",
        "df_rev['signup_date_time'] = pd.to_datetime(df_rev['signup_date_time']).dt.date\n",
        "df_rev['cancel_date_time'] = pd.to_datetime(df_rev['cancel_date_time']).dt.date"
      ],
      "metadata": {
        "id": "ODnxqw5OvY7z"
      },
      "execution_count": 24,
      "outputs": []
    },
    {
      "cell_type": "code",
      "source": [
        "# Define the proposed date\n",
        "proposed_date = pd.to_datetime('2021-12-31')\n",
        "\n",
        "# Replace the NaT value with the proposed date\n",
        "df_rev['cancel_date_time'] = df_rev['cancel_date_time'].fillna(proposed_date)\n"
      ],
      "metadata": {
        "id": "9fOz5PuZ1y9h"
      },
      "execution_count": 25,
      "outputs": []
    },
    {
      "cell_type": "code",
      "source": [
        "#get date from date time\n",
        "df_rev['cancel_date_time'] = pd.to_datetime(df_rev['cancel_date_time']).dt.date"
      ],
      "metadata": {
        "id": "jGZ4tqtQYaIT"
      },
      "execution_count": 26,
      "outputs": []
    },
    {
      "cell_type": "code",
      "source": [
        "df_rev.head()"
      ],
      "metadata": {
        "colab": {
          "base_uri": "https://localhost:8080/",
          "height": 270
        },
        "id": "AW5dUn6jYfUo",
        "outputId": "f4ce58b0-16eb-4ff1-da5d-c542a3f4dad0"
      },
      "execution_count": 27,
      "outputs": [
        {
          "output_type": "execute_result",
          "data": {
            "text/plain": [
              "  customer_id product signup_date_time cancel_date_time  customer  \\\n",
              "0       C2448   prd_1       2017-01-01       2021-12-31         1   \n",
              "1       C2449   prd_1       2017-01-01       2021-09-05         0   \n",
              "2       C2450   prd_1       2017-01-01       2019-01-13         0   \n",
              "3       C2452   prd_1       2017-01-01       2021-06-28         0   \n",
              "4       C2453   prd_1       2017-01-01       2021-12-31         1   \n",
              "\n",
              "                  name  price  billing_cycle  \n",
              "0  annual_subscription   1200             12  \n",
              "1  annual_subscription   1200             12  \n",
              "2  annual_subscription   1200             12  \n",
              "3  annual_subscription   1200             12  \n",
              "4  annual_subscription   1200             12  "
            ],
            "text/html": [
              "\n",
              "  <div id=\"df-127ec3f9-01fe-4e23-a120-2d3c9f9db271\">\n",
              "    <div class=\"colab-df-container\">\n",
              "      <div>\n",
              "<style scoped>\n",
              "    .dataframe tbody tr th:only-of-type {\n",
              "        vertical-align: middle;\n",
              "    }\n",
              "\n",
              "    .dataframe tbody tr th {\n",
              "        vertical-align: top;\n",
              "    }\n",
              "\n",
              "    .dataframe thead th {\n",
              "        text-align: right;\n",
              "    }\n",
              "</style>\n",
              "<table border=\"1\" class=\"dataframe\">\n",
              "  <thead>\n",
              "    <tr style=\"text-align: right;\">\n",
              "      <th></th>\n",
              "      <th>customer_id</th>\n",
              "      <th>product</th>\n",
              "      <th>signup_date_time</th>\n",
              "      <th>cancel_date_time</th>\n",
              "      <th>customer</th>\n",
              "      <th>name</th>\n",
              "      <th>price</th>\n",
              "      <th>billing_cycle</th>\n",
              "    </tr>\n",
              "  </thead>\n",
              "  <tbody>\n",
              "    <tr>\n",
              "      <th>0</th>\n",
              "      <td>C2448</td>\n",
              "      <td>prd_1</td>\n",
              "      <td>2017-01-01</td>\n",
              "      <td>2021-12-31</td>\n",
              "      <td>1</td>\n",
              "      <td>annual_subscription</td>\n",
              "      <td>1200</td>\n",
              "      <td>12</td>\n",
              "    </tr>\n",
              "    <tr>\n",
              "      <th>1</th>\n",
              "      <td>C2449</td>\n",
              "      <td>prd_1</td>\n",
              "      <td>2017-01-01</td>\n",
              "      <td>2021-09-05</td>\n",
              "      <td>0</td>\n",
              "      <td>annual_subscription</td>\n",
              "      <td>1200</td>\n",
              "      <td>12</td>\n",
              "    </tr>\n",
              "    <tr>\n",
              "      <th>2</th>\n",
              "      <td>C2450</td>\n",
              "      <td>prd_1</td>\n",
              "      <td>2017-01-01</td>\n",
              "      <td>2019-01-13</td>\n",
              "      <td>0</td>\n",
              "      <td>annual_subscription</td>\n",
              "      <td>1200</td>\n",
              "      <td>12</td>\n",
              "    </tr>\n",
              "    <tr>\n",
              "      <th>3</th>\n",
              "      <td>C2452</td>\n",
              "      <td>prd_1</td>\n",
              "      <td>2017-01-01</td>\n",
              "      <td>2021-06-28</td>\n",
              "      <td>0</td>\n",
              "      <td>annual_subscription</td>\n",
              "      <td>1200</td>\n",
              "      <td>12</td>\n",
              "    </tr>\n",
              "    <tr>\n",
              "      <th>4</th>\n",
              "      <td>C2453</td>\n",
              "      <td>prd_1</td>\n",
              "      <td>2017-01-01</td>\n",
              "      <td>2021-12-31</td>\n",
              "      <td>1</td>\n",
              "      <td>annual_subscription</td>\n",
              "      <td>1200</td>\n",
              "      <td>12</td>\n",
              "    </tr>\n",
              "  </tbody>\n",
              "</table>\n",
              "</div>\n",
              "      <button class=\"colab-df-convert\" onclick=\"convertToInteractive('df-127ec3f9-01fe-4e23-a120-2d3c9f9db271')\"\n",
              "              title=\"Convert this dataframe to an interactive table.\"\n",
              "              style=\"display:none;\">\n",
              "        \n",
              "  <svg xmlns=\"http://www.w3.org/2000/svg\" height=\"24px\"viewBox=\"0 0 24 24\"\n",
              "       width=\"24px\">\n",
              "    <path d=\"M0 0h24v24H0V0z\" fill=\"none\"/>\n",
              "    <path d=\"M18.56 5.44l.94 2.06.94-2.06 2.06-.94-2.06-.94-.94-2.06-.94 2.06-2.06.94zm-11 1L8.5 8.5l.94-2.06 2.06-.94-2.06-.94L8.5 2.5l-.94 2.06-2.06.94zm10 10l.94 2.06.94-2.06 2.06-.94-2.06-.94-.94-2.06-.94 2.06-2.06.94z\"/><path d=\"M17.41 7.96l-1.37-1.37c-.4-.4-.92-.59-1.43-.59-.52 0-1.04.2-1.43.59L10.3 9.45l-7.72 7.72c-.78.78-.78 2.05 0 2.83L4 21.41c.39.39.9.59 1.41.59.51 0 1.02-.2 1.41-.59l7.78-7.78 2.81-2.81c.8-.78.8-2.07 0-2.86zM5.41 20L4 18.59l7.72-7.72 1.47 1.35L5.41 20z\"/>\n",
              "  </svg>\n",
              "      </button>\n",
              "      \n",
              "  <style>\n",
              "    .colab-df-container {\n",
              "      display:flex;\n",
              "      flex-wrap:wrap;\n",
              "      gap: 12px;\n",
              "    }\n",
              "\n",
              "    .colab-df-convert {\n",
              "      background-color: #E8F0FE;\n",
              "      border: none;\n",
              "      border-radius: 50%;\n",
              "      cursor: pointer;\n",
              "      display: none;\n",
              "      fill: #1967D2;\n",
              "      height: 32px;\n",
              "      padding: 0 0 0 0;\n",
              "      width: 32px;\n",
              "    }\n",
              "\n",
              "    .colab-df-convert:hover {\n",
              "      background-color: #E2EBFA;\n",
              "      box-shadow: 0px 1px 2px rgba(60, 64, 67, 0.3), 0px 1px 3px 1px rgba(60, 64, 67, 0.15);\n",
              "      fill: #174EA6;\n",
              "    }\n",
              "\n",
              "    [theme=dark] .colab-df-convert {\n",
              "      background-color: #3B4455;\n",
              "      fill: #D2E3FC;\n",
              "    }\n",
              "\n",
              "    [theme=dark] .colab-df-convert:hover {\n",
              "      background-color: #434B5C;\n",
              "      box-shadow: 0px 1px 3px 1px rgba(0, 0, 0, 0.15);\n",
              "      filter: drop-shadow(0px 1px 2px rgba(0, 0, 0, 0.3));\n",
              "      fill: #FFFFFF;\n",
              "    }\n",
              "  </style>\n",
              "\n",
              "      <script>\n",
              "        const buttonEl =\n",
              "          document.querySelector('#df-127ec3f9-01fe-4e23-a120-2d3c9f9db271 button.colab-df-convert');\n",
              "        buttonEl.style.display =\n",
              "          google.colab.kernel.accessAllowed ? 'block' : 'none';\n",
              "\n",
              "        async function convertToInteractive(key) {\n",
              "          const element = document.querySelector('#df-127ec3f9-01fe-4e23-a120-2d3c9f9db271');\n",
              "          const dataTable =\n",
              "            await google.colab.kernel.invokeFunction('convertToInteractive',\n",
              "                                                     [key], {});\n",
              "          if (!dataTable) return;\n",
              "\n",
              "          const docLinkHtml = 'Like what you see? Visit the ' +\n",
              "            '<a target=\"_blank\" href=https://colab.research.google.com/notebooks/data_table.ipynb>data table notebook</a>'\n",
              "            + ' to learn more about interactive tables.';\n",
              "          element.innerHTML = '';\n",
              "          dataTable['output_type'] = 'display_data';\n",
              "          await google.colab.output.renderOutput(dataTable, element);\n",
              "          const docLink = document.createElement('div');\n",
              "          docLink.innerHTML = docLinkHtml;\n",
              "          element.appendChild(docLink);\n",
              "        }\n",
              "      </script>\n",
              "    </div>\n",
              "  </div>\n",
              "  "
            ]
          },
          "metadata": {},
          "execution_count": 27
        }
      ]
    },
    {
      "cell_type": "code",
      "source": [
        "df_rev.head()"
      ],
      "metadata": {
        "colab": {
          "base_uri": "https://localhost:8080/",
          "height": 270
        },
        "id": "jkrCzBd32Zem",
        "outputId": "2af5e95e-51a0-4565-8e97-91dfed21f071"
      },
      "execution_count": 28,
      "outputs": [
        {
          "output_type": "execute_result",
          "data": {
            "text/plain": [
              "  customer_id product signup_date_time cancel_date_time  customer  \\\n",
              "0       C2448   prd_1       2017-01-01       2021-12-31         1   \n",
              "1       C2449   prd_1       2017-01-01       2021-09-05         0   \n",
              "2       C2450   prd_1       2017-01-01       2019-01-13         0   \n",
              "3       C2452   prd_1       2017-01-01       2021-06-28         0   \n",
              "4       C2453   prd_1       2017-01-01       2021-12-31         1   \n",
              "\n",
              "                  name  price  billing_cycle  \n",
              "0  annual_subscription   1200             12  \n",
              "1  annual_subscription   1200             12  \n",
              "2  annual_subscription   1200             12  \n",
              "3  annual_subscription   1200             12  \n",
              "4  annual_subscription   1200             12  "
            ],
            "text/html": [
              "\n",
              "  <div id=\"df-6987bfd2-9eee-4f3b-8ae4-d546ae8a862e\">\n",
              "    <div class=\"colab-df-container\">\n",
              "      <div>\n",
              "<style scoped>\n",
              "    .dataframe tbody tr th:only-of-type {\n",
              "        vertical-align: middle;\n",
              "    }\n",
              "\n",
              "    .dataframe tbody tr th {\n",
              "        vertical-align: top;\n",
              "    }\n",
              "\n",
              "    .dataframe thead th {\n",
              "        text-align: right;\n",
              "    }\n",
              "</style>\n",
              "<table border=\"1\" class=\"dataframe\">\n",
              "  <thead>\n",
              "    <tr style=\"text-align: right;\">\n",
              "      <th></th>\n",
              "      <th>customer_id</th>\n",
              "      <th>product</th>\n",
              "      <th>signup_date_time</th>\n",
              "      <th>cancel_date_time</th>\n",
              "      <th>customer</th>\n",
              "      <th>name</th>\n",
              "      <th>price</th>\n",
              "      <th>billing_cycle</th>\n",
              "    </tr>\n",
              "  </thead>\n",
              "  <tbody>\n",
              "    <tr>\n",
              "      <th>0</th>\n",
              "      <td>C2448</td>\n",
              "      <td>prd_1</td>\n",
              "      <td>2017-01-01</td>\n",
              "      <td>2021-12-31</td>\n",
              "      <td>1</td>\n",
              "      <td>annual_subscription</td>\n",
              "      <td>1200</td>\n",
              "      <td>12</td>\n",
              "    </tr>\n",
              "    <tr>\n",
              "      <th>1</th>\n",
              "      <td>C2449</td>\n",
              "      <td>prd_1</td>\n",
              "      <td>2017-01-01</td>\n",
              "      <td>2021-09-05</td>\n",
              "      <td>0</td>\n",
              "      <td>annual_subscription</td>\n",
              "      <td>1200</td>\n",
              "      <td>12</td>\n",
              "    </tr>\n",
              "    <tr>\n",
              "      <th>2</th>\n",
              "      <td>C2450</td>\n",
              "      <td>prd_1</td>\n",
              "      <td>2017-01-01</td>\n",
              "      <td>2019-01-13</td>\n",
              "      <td>0</td>\n",
              "      <td>annual_subscription</td>\n",
              "      <td>1200</td>\n",
              "      <td>12</td>\n",
              "    </tr>\n",
              "    <tr>\n",
              "      <th>3</th>\n",
              "      <td>C2452</td>\n",
              "      <td>prd_1</td>\n",
              "      <td>2017-01-01</td>\n",
              "      <td>2021-06-28</td>\n",
              "      <td>0</td>\n",
              "      <td>annual_subscription</td>\n",
              "      <td>1200</td>\n",
              "      <td>12</td>\n",
              "    </tr>\n",
              "    <tr>\n",
              "      <th>4</th>\n",
              "      <td>C2453</td>\n",
              "      <td>prd_1</td>\n",
              "      <td>2017-01-01</td>\n",
              "      <td>2021-12-31</td>\n",
              "      <td>1</td>\n",
              "      <td>annual_subscription</td>\n",
              "      <td>1200</td>\n",
              "      <td>12</td>\n",
              "    </tr>\n",
              "  </tbody>\n",
              "</table>\n",
              "</div>\n",
              "      <button class=\"colab-df-convert\" onclick=\"convertToInteractive('df-6987bfd2-9eee-4f3b-8ae4-d546ae8a862e')\"\n",
              "              title=\"Convert this dataframe to an interactive table.\"\n",
              "              style=\"display:none;\">\n",
              "        \n",
              "  <svg xmlns=\"http://www.w3.org/2000/svg\" height=\"24px\"viewBox=\"0 0 24 24\"\n",
              "       width=\"24px\">\n",
              "    <path d=\"M0 0h24v24H0V0z\" fill=\"none\"/>\n",
              "    <path d=\"M18.56 5.44l.94 2.06.94-2.06 2.06-.94-2.06-.94-.94-2.06-.94 2.06-2.06.94zm-11 1L8.5 8.5l.94-2.06 2.06-.94-2.06-.94L8.5 2.5l-.94 2.06-2.06.94zm10 10l.94 2.06.94-2.06 2.06-.94-2.06-.94-.94-2.06-.94 2.06-2.06.94z\"/><path d=\"M17.41 7.96l-1.37-1.37c-.4-.4-.92-.59-1.43-.59-.52 0-1.04.2-1.43.59L10.3 9.45l-7.72 7.72c-.78.78-.78 2.05 0 2.83L4 21.41c.39.39.9.59 1.41.59.51 0 1.02-.2 1.41-.59l7.78-7.78 2.81-2.81c.8-.78.8-2.07 0-2.86zM5.41 20L4 18.59l7.72-7.72 1.47 1.35L5.41 20z\"/>\n",
              "  </svg>\n",
              "      </button>\n",
              "      \n",
              "  <style>\n",
              "    .colab-df-container {\n",
              "      display:flex;\n",
              "      flex-wrap:wrap;\n",
              "      gap: 12px;\n",
              "    }\n",
              "\n",
              "    .colab-df-convert {\n",
              "      background-color: #E8F0FE;\n",
              "      border: none;\n",
              "      border-radius: 50%;\n",
              "      cursor: pointer;\n",
              "      display: none;\n",
              "      fill: #1967D2;\n",
              "      height: 32px;\n",
              "      padding: 0 0 0 0;\n",
              "      width: 32px;\n",
              "    }\n",
              "\n",
              "    .colab-df-convert:hover {\n",
              "      background-color: #E2EBFA;\n",
              "      box-shadow: 0px 1px 2px rgba(60, 64, 67, 0.3), 0px 1px 3px 1px rgba(60, 64, 67, 0.15);\n",
              "      fill: #174EA6;\n",
              "    }\n",
              "\n",
              "    [theme=dark] .colab-df-convert {\n",
              "      background-color: #3B4455;\n",
              "      fill: #D2E3FC;\n",
              "    }\n",
              "\n",
              "    [theme=dark] .colab-df-convert:hover {\n",
              "      background-color: #434B5C;\n",
              "      box-shadow: 0px 1px 3px 1px rgba(0, 0, 0, 0.15);\n",
              "      filter: drop-shadow(0px 1px 2px rgba(0, 0, 0, 0.3));\n",
              "      fill: #FFFFFF;\n",
              "    }\n",
              "  </style>\n",
              "\n",
              "      <script>\n",
              "        const buttonEl =\n",
              "          document.querySelector('#df-6987bfd2-9eee-4f3b-8ae4-d546ae8a862e button.colab-df-convert');\n",
              "        buttonEl.style.display =\n",
              "          google.colab.kernel.accessAllowed ? 'block' : 'none';\n",
              "\n",
              "        async function convertToInteractive(key) {\n",
              "          const element = document.querySelector('#df-6987bfd2-9eee-4f3b-8ae4-d546ae8a862e');\n",
              "          const dataTable =\n",
              "            await google.colab.kernel.invokeFunction('convertToInteractive',\n",
              "                                                     [key], {});\n",
              "          if (!dataTable) return;\n",
              "\n",
              "          const docLinkHtml = 'Like what you see? Visit the ' +\n",
              "            '<a target=\"_blank\" href=https://colab.research.google.com/notebooks/data_table.ipynb>data table notebook</a>'\n",
              "            + ' to learn more about interactive tables.';\n",
              "          element.innerHTML = '';\n",
              "          dataTable['output_type'] = 'display_data';\n",
              "          await google.colab.output.renderOutput(dataTable, element);\n",
              "          const docLink = document.createElement('div');\n",
              "          docLink.innerHTML = docLinkHtml;\n",
              "          element.appendChild(docLink);\n",
              "        }\n",
              "      </script>\n",
              "    </div>\n",
              "  </div>\n",
              "  "
            ]
          },
          "metadata": {},
          "execution_count": 28
        }
      ]
    },
    {
      "cell_type": "markdown",
      "source": [
        "Separate the data into monthly subscription and yearly subscription"
      ],
      "metadata": {
        "id": "hbcz1h0I3FDU"
      }
    },
    {
      "cell_type": "code",
      "source": [
        "df_rev_month = df_rev[df_rev['name'] == 'monthly_subscription']"
      ],
      "metadata": {
        "id": "baTXVx3L3OJ-"
      },
      "execution_count": 29,
      "outputs": []
    },
    {
      "cell_type": "code",
      "source": [
        "df_rev_year = df_rev[df_rev['name'] == 'annual_subscription']\n",
        "df_rev_year.head()\n"
      ],
      "metadata": {
        "colab": {
          "base_uri": "https://localhost:8080/",
          "height": 270
        },
        "id": "ljlcrr3u4glj",
        "outputId": "a9c86aad-e01a-45dc-eed0-adbe5857fa7a"
      },
      "execution_count": 30,
      "outputs": [
        {
          "output_type": "execute_result",
          "data": {
            "text/plain": [
              "  customer_id product signup_date_time cancel_date_time  customer  \\\n",
              "0       C2448   prd_1       2017-01-01       2021-12-31         1   \n",
              "1       C2449   prd_1       2017-01-01       2021-09-05         0   \n",
              "2       C2450   prd_1       2017-01-01       2019-01-13         0   \n",
              "3       C2452   prd_1       2017-01-01       2021-06-28         0   \n",
              "4       C2453   prd_1       2017-01-01       2021-12-31         1   \n",
              "\n",
              "                  name  price  billing_cycle  \n",
              "0  annual_subscription   1200             12  \n",
              "1  annual_subscription   1200             12  \n",
              "2  annual_subscription   1200             12  \n",
              "3  annual_subscription   1200             12  \n",
              "4  annual_subscription   1200             12  "
            ],
            "text/html": [
              "\n",
              "  <div id=\"df-ae336053-51af-4023-b7eb-3963b5d20dfa\">\n",
              "    <div class=\"colab-df-container\">\n",
              "      <div>\n",
              "<style scoped>\n",
              "    .dataframe tbody tr th:only-of-type {\n",
              "        vertical-align: middle;\n",
              "    }\n",
              "\n",
              "    .dataframe tbody tr th {\n",
              "        vertical-align: top;\n",
              "    }\n",
              "\n",
              "    .dataframe thead th {\n",
              "        text-align: right;\n",
              "    }\n",
              "</style>\n",
              "<table border=\"1\" class=\"dataframe\">\n",
              "  <thead>\n",
              "    <tr style=\"text-align: right;\">\n",
              "      <th></th>\n",
              "      <th>customer_id</th>\n",
              "      <th>product</th>\n",
              "      <th>signup_date_time</th>\n",
              "      <th>cancel_date_time</th>\n",
              "      <th>customer</th>\n",
              "      <th>name</th>\n",
              "      <th>price</th>\n",
              "      <th>billing_cycle</th>\n",
              "    </tr>\n",
              "  </thead>\n",
              "  <tbody>\n",
              "    <tr>\n",
              "      <th>0</th>\n",
              "      <td>C2448</td>\n",
              "      <td>prd_1</td>\n",
              "      <td>2017-01-01</td>\n",
              "      <td>2021-12-31</td>\n",
              "      <td>1</td>\n",
              "      <td>annual_subscription</td>\n",
              "      <td>1200</td>\n",
              "      <td>12</td>\n",
              "    </tr>\n",
              "    <tr>\n",
              "      <th>1</th>\n",
              "      <td>C2449</td>\n",
              "      <td>prd_1</td>\n",
              "      <td>2017-01-01</td>\n",
              "      <td>2021-09-05</td>\n",
              "      <td>0</td>\n",
              "      <td>annual_subscription</td>\n",
              "      <td>1200</td>\n",
              "      <td>12</td>\n",
              "    </tr>\n",
              "    <tr>\n",
              "      <th>2</th>\n",
              "      <td>C2450</td>\n",
              "      <td>prd_1</td>\n",
              "      <td>2017-01-01</td>\n",
              "      <td>2019-01-13</td>\n",
              "      <td>0</td>\n",
              "      <td>annual_subscription</td>\n",
              "      <td>1200</td>\n",
              "      <td>12</td>\n",
              "    </tr>\n",
              "    <tr>\n",
              "      <th>3</th>\n",
              "      <td>C2452</td>\n",
              "      <td>prd_1</td>\n",
              "      <td>2017-01-01</td>\n",
              "      <td>2021-06-28</td>\n",
              "      <td>0</td>\n",
              "      <td>annual_subscription</td>\n",
              "      <td>1200</td>\n",
              "      <td>12</td>\n",
              "    </tr>\n",
              "    <tr>\n",
              "      <th>4</th>\n",
              "      <td>C2453</td>\n",
              "      <td>prd_1</td>\n",
              "      <td>2017-01-01</td>\n",
              "      <td>2021-12-31</td>\n",
              "      <td>1</td>\n",
              "      <td>annual_subscription</td>\n",
              "      <td>1200</td>\n",
              "      <td>12</td>\n",
              "    </tr>\n",
              "  </tbody>\n",
              "</table>\n",
              "</div>\n",
              "      <button class=\"colab-df-convert\" onclick=\"convertToInteractive('df-ae336053-51af-4023-b7eb-3963b5d20dfa')\"\n",
              "              title=\"Convert this dataframe to an interactive table.\"\n",
              "              style=\"display:none;\">\n",
              "        \n",
              "  <svg xmlns=\"http://www.w3.org/2000/svg\" height=\"24px\"viewBox=\"0 0 24 24\"\n",
              "       width=\"24px\">\n",
              "    <path d=\"M0 0h24v24H0V0z\" fill=\"none\"/>\n",
              "    <path d=\"M18.56 5.44l.94 2.06.94-2.06 2.06-.94-2.06-.94-.94-2.06-.94 2.06-2.06.94zm-11 1L8.5 8.5l.94-2.06 2.06-.94-2.06-.94L8.5 2.5l-.94 2.06-2.06.94zm10 10l.94 2.06.94-2.06 2.06-.94-2.06-.94-.94-2.06-.94 2.06-2.06.94z\"/><path d=\"M17.41 7.96l-1.37-1.37c-.4-.4-.92-.59-1.43-.59-.52 0-1.04.2-1.43.59L10.3 9.45l-7.72 7.72c-.78.78-.78 2.05 0 2.83L4 21.41c.39.39.9.59 1.41.59.51 0 1.02-.2 1.41-.59l7.78-7.78 2.81-2.81c.8-.78.8-2.07 0-2.86zM5.41 20L4 18.59l7.72-7.72 1.47 1.35L5.41 20z\"/>\n",
              "  </svg>\n",
              "      </button>\n",
              "      \n",
              "  <style>\n",
              "    .colab-df-container {\n",
              "      display:flex;\n",
              "      flex-wrap:wrap;\n",
              "      gap: 12px;\n",
              "    }\n",
              "\n",
              "    .colab-df-convert {\n",
              "      background-color: #E8F0FE;\n",
              "      border: none;\n",
              "      border-radius: 50%;\n",
              "      cursor: pointer;\n",
              "      display: none;\n",
              "      fill: #1967D2;\n",
              "      height: 32px;\n",
              "      padding: 0 0 0 0;\n",
              "      width: 32px;\n",
              "    }\n",
              "\n",
              "    .colab-df-convert:hover {\n",
              "      background-color: #E2EBFA;\n",
              "      box-shadow: 0px 1px 2px rgba(60, 64, 67, 0.3), 0px 1px 3px 1px rgba(60, 64, 67, 0.15);\n",
              "      fill: #174EA6;\n",
              "    }\n",
              "\n",
              "    [theme=dark] .colab-df-convert {\n",
              "      background-color: #3B4455;\n",
              "      fill: #D2E3FC;\n",
              "    }\n",
              "\n",
              "    [theme=dark] .colab-df-convert:hover {\n",
              "      background-color: #434B5C;\n",
              "      box-shadow: 0px 1px 3px 1px rgba(0, 0, 0, 0.15);\n",
              "      filter: drop-shadow(0px 1px 2px rgba(0, 0, 0, 0.3));\n",
              "      fill: #FFFFFF;\n",
              "    }\n",
              "  </style>\n",
              "\n",
              "      <script>\n",
              "        const buttonEl =\n",
              "          document.querySelector('#df-ae336053-51af-4023-b7eb-3963b5d20dfa button.colab-df-convert');\n",
              "        buttonEl.style.display =\n",
              "          google.colab.kernel.accessAllowed ? 'block' : 'none';\n",
              "\n",
              "        async function convertToInteractive(key) {\n",
              "          const element = document.querySelector('#df-ae336053-51af-4023-b7eb-3963b5d20dfa');\n",
              "          const dataTable =\n",
              "            await google.colab.kernel.invokeFunction('convertToInteractive',\n",
              "                                                     [key], {});\n",
              "          if (!dataTable) return;\n",
              "\n",
              "          const docLinkHtml = 'Like what you see? Visit the ' +\n",
              "            '<a target=\"_blank\" href=https://colab.research.google.com/notebooks/data_table.ipynb>data table notebook</a>'\n",
              "            + ' to learn more about interactive tables.';\n",
              "          element.innerHTML = '';\n",
              "          dataTable['output_type'] = 'display_data';\n",
              "          await google.colab.output.renderOutput(dataTable, element);\n",
              "          const docLink = document.createElement('div');\n",
              "          docLink.innerHTML = docLinkHtml;\n",
              "          element.appendChild(docLink);\n",
              "        }\n",
              "      </script>\n",
              "    </div>\n",
              "  </div>\n",
              "  "
            ]
          },
          "metadata": {},
          "execution_count": 30
        }
      ]
    },
    {
      "cell_type": "markdown",
      "source": [
        "### Revenue generated monthly from the monthly subscription"
      ],
      "metadata": {
        "id": "b6QeHNAkGNQF"
      }
    },
    {
      "cell_type": "markdown",
      "source": [
        "For the monthly subscription, we need to find the number of active months subscribed."
      ],
      "metadata": {
        "id": "smU8RbJP-TA3"
      }
    },
    {
      "cell_type": "code",
      "source": [
        "df_rev_month.loc[:, 'months'] = df_rev_month.apply(lambda row: len(pd.period_range(start=row['signup_date_time'], end=row['cancel_date_time'], freq='M')), axis=1)"
      ],
      "metadata": {
        "id": "9l1XmkDp9mPk"
      },
      "execution_count": 31,
      "outputs": []
    },
    {
      "cell_type": "code",
      "source": [
        "# identify the months in the range of dataset\n",
        "start_date = pd.to_datetime('2017-01-01')\n",
        "end_date = pd.to_datetime('2021-12-31')\n",
        "date_range = pd.date_range(start_date, end_date, freq = 'M')\n",
        "monthly_revenue = pd.DataFrame(index = date_range)\n",
        "monthly_revenue.head()\n"
      ],
      "metadata": {
        "colab": {
          "base_uri": "https://localhost:8080/",
          "height": 188
        },
        "id": "1012qMsNB1oj",
        "outputId": "6f4e349b-a523-4edf-9f58-02b2119ddba9"
      },
      "execution_count": 32,
      "outputs": [
        {
          "output_type": "execute_result",
          "data": {
            "text/plain": [
              "Empty DataFrame\n",
              "Columns: []\n",
              "Index: [2017-01-31 00:00:00, 2017-02-28 00:00:00, 2017-03-31 00:00:00, 2017-04-30 00:00:00, 2017-05-31 00:00:00]"
            ],
            "text/html": [
              "\n",
              "  <div id=\"df-cbdad819-60ee-459d-9f50-ebe713965d38\">\n",
              "    <div class=\"colab-df-container\">\n",
              "      <div>\n",
              "<style scoped>\n",
              "    .dataframe tbody tr th:only-of-type {\n",
              "        vertical-align: middle;\n",
              "    }\n",
              "\n",
              "    .dataframe tbody tr th {\n",
              "        vertical-align: top;\n",
              "    }\n",
              "\n",
              "    .dataframe thead th {\n",
              "        text-align: right;\n",
              "    }\n",
              "</style>\n",
              "<table border=\"1\" class=\"dataframe\">\n",
              "  <thead>\n",
              "    <tr style=\"text-align: right;\">\n",
              "      <th></th>\n",
              "    </tr>\n",
              "  </thead>\n",
              "  <tbody>\n",
              "    <tr>\n",
              "      <th>2017-01-31</th>\n",
              "    </tr>\n",
              "    <tr>\n",
              "      <th>2017-02-28</th>\n",
              "    </tr>\n",
              "    <tr>\n",
              "      <th>2017-03-31</th>\n",
              "    </tr>\n",
              "    <tr>\n",
              "      <th>2017-04-30</th>\n",
              "    </tr>\n",
              "    <tr>\n",
              "      <th>2017-05-31</th>\n",
              "    </tr>\n",
              "  </tbody>\n",
              "</table>\n",
              "</div>\n",
              "      <button class=\"colab-df-convert\" onclick=\"convertToInteractive('df-cbdad819-60ee-459d-9f50-ebe713965d38')\"\n",
              "              title=\"Convert this dataframe to an interactive table.\"\n",
              "              style=\"display:none;\">\n",
              "        \n",
              "  <svg xmlns=\"http://www.w3.org/2000/svg\" height=\"24px\"viewBox=\"0 0 24 24\"\n",
              "       width=\"24px\">\n",
              "    <path d=\"M0 0h24v24H0V0z\" fill=\"none\"/>\n",
              "    <path d=\"M18.56 5.44l.94 2.06.94-2.06 2.06-.94-2.06-.94-.94-2.06-.94 2.06-2.06.94zm-11 1L8.5 8.5l.94-2.06 2.06-.94-2.06-.94L8.5 2.5l-.94 2.06-2.06.94zm10 10l.94 2.06.94-2.06 2.06-.94-2.06-.94-.94-2.06-.94 2.06-2.06.94z\"/><path d=\"M17.41 7.96l-1.37-1.37c-.4-.4-.92-.59-1.43-.59-.52 0-1.04.2-1.43.59L10.3 9.45l-7.72 7.72c-.78.78-.78 2.05 0 2.83L4 21.41c.39.39.9.59 1.41.59.51 0 1.02-.2 1.41-.59l7.78-7.78 2.81-2.81c.8-.78.8-2.07 0-2.86zM5.41 20L4 18.59l7.72-7.72 1.47 1.35L5.41 20z\"/>\n",
              "  </svg>\n",
              "      </button>\n",
              "      \n",
              "  <style>\n",
              "    .colab-df-container {\n",
              "      display:flex;\n",
              "      flex-wrap:wrap;\n",
              "      gap: 12px;\n",
              "    }\n",
              "\n",
              "    .colab-df-convert {\n",
              "      background-color: #E8F0FE;\n",
              "      border: none;\n",
              "      border-radius: 50%;\n",
              "      cursor: pointer;\n",
              "      display: none;\n",
              "      fill: #1967D2;\n",
              "      height: 32px;\n",
              "      padding: 0 0 0 0;\n",
              "      width: 32px;\n",
              "    }\n",
              "\n",
              "    .colab-df-convert:hover {\n",
              "      background-color: #E2EBFA;\n",
              "      box-shadow: 0px 1px 2px rgba(60, 64, 67, 0.3), 0px 1px 3px 1px rgba(60, 64, 67, 0.15);\n",
              "      fill: #174EA6;\n",
              "    }\n",
              "\n",
              "    [theme=dark] .colab-df-convert {\n",
              "      background-color: #3B4455;\n",
              "      fill: #D2E3FC;\n",
              "    }\n",
              "\n",
              "    [theme=dark] .colab-df-convert:hover {\n",
              "      background-color: #434B5C;\n",
              "      box-shadow: 0px 1px 3px 1px rgba(0, 0, 0, 0.15);\n",
              "      filter: drop-shadow(0px 1px 2px rgba(0, 0, 0, 0.3));\n",
              "      fill: #FFFFFF;\n",
              "    }\n",
              "  </style>\n",
              "\n",
              "      <script>\n",
              "        const buttonEl =\n",
              "          document.querySelector('#df-cbdad819-60ee-459d-9f50-ebe713965d38 button.colab-df-convert');\n",
              "        buttonEl.style.display =\n",
              "          google.colab.kernel.accessAllowed ? 'block' : 'none';\n",
              "\n",
              "        async function convertToInteractive(key) {\n",
              "          const element = document.querySelector('#df-cbdad819-60ee-459d-9f50-ebe713965d38');\n",
              "          const dataTable =\n",
              "            await google.colab.kernel.invokeFunction('convertToInteractive',\n",
              "                                                     [key], {});\n",
              "          if (!dataTable) return;\n",
              "\n",
              "          const docLinkHtml = 'Like what you see? Visit the ' +\n",
              "            '<a target=\"_blank\" href=https://colab.research.google.com/notebooks/data_table.ipynb>data table notebook</a>'\n",
              "            + ' to learn more about interactive tables.';\n",
              "          element.innerHTML = '';\n",
              "          dataTable['output_type'] = 'display_data';\n",
              "          await google.colab.output.renderOutput(dataTable, element);\n",
              "          const docLink = document.createElement('div');\n",
              "          docLink.innerHTML = docLinkHtml;\n",
              "          element.appendChild(docLink);\n",
              "        }\n",
              "      </script>\n",
              "    </div>\n",
              "  </div>\n",
              "  "
            ]
          },
          "metadata": {},
          "execution_count": 32
        }
      ]
    },
    {
      "cell_type": "code",
      "source": [
        "for i, month in enumerate(monthly_revenue.index):\n",
        "  active_customers = df_rev_month[(df_rev_month['signup_date_time'] <= month) & \n",
        "                                  (df_rev_month['cancel_date_time'] >= month)]\n",
        "  monthly_revenue.loc[month, 'Revenue'] = (active_customers['price']).sum()\n",
        "\n",
        "monthly_revenue.head()"
      ],
      "metadata": {
        "colab": {
          "base_uri": "https://localhost:8080/",
          "height": 206
        },
        "id": "n5iO-4i2EjpE",
        "outputId": "857222dd-213c-4841-e66f-ee2e592fc32e"
      },
      "execution_count": 33,
      "outputs": [
        {
          "output_type": "execute_result",
          "data": {
            "text/plain": [
              "             Revenue\n",
              "2017-01-31   84125.0\n",
              "2017-02-28  154625.0\n",
              "2017-03-31  239625.0\n",
              "2017-04-30  318500.0\n",
              "2017-05-31  392750.0"
            ],
            "text/html": [
              "\n",
              "  <div id=\"df-72828339-cd85-4a8a-85e3-ddceaa1f1c6f\">\n",
              "    <div class=\"colab-df-container\">\n",
              "      <div>\n",
              "<style scoped>\n",
              "    .dataframe tbody tr th:only-of-type {\n",
              "        vertical-align: middle;\n",
              "    }\n",
              "\n",
              "    .dataframe tbody tr th {\n",
              "        vertical-align: top;\n",
              "    }\n",
              "\n",
              "    .dataframe thead th {\n",
              "        text-align: right;\n",
              "    }\n",
              "</style>\n",
              "<table border=\"1\" class=\"dataframe\">\n",
              "  <thead>\n",
              "    <tr style=\"text-align: right;\">\n",
              "      <th></th>\n",
              "      <th>Revenue</th>\n",
              "    </tr>\n",
              "  </thead>\n",
              "  <tbody>\n",
              "    <tr>\n",
              "      <th>2017-01-31</th>\n",
              "      <td>84125.0</td>\n",
              "    </tr>\n",
              "    <tr>\n",
              "      <th>2017-02-28</th>\n",
              "      <td>154625.0</td>\n",
              "    </tr>\n",
              "    <tr>\n",
              "      <th>2017-03-31</th>\n",
              "      <td>239625.0</td>\n",
              "    </tr>\n",
              "    <tr>\n",
              "      <th>2017-04-30</th>\n",
              "      <td>318500.0</td>\n",
              "    </tr>\n",
              "    <tr>\n",
              "      <th>2017-05-31</th>\n",
              "      <td>392750.0</td>\n",
              "    </tr>\n",
              "  </tbody>\n",
              "</table>\n",
              "</div>\n",
              "      <button class=\"colab-df-convert\" onclick=\"convertToInteractive('df-72828339-cd85-4a8a-85e3-ddceaa1f1c6f')\"\n",
              "              title=\"Convert this dataframe to an interactive table.\"\n",
              "              style=\"display:none;\">\n",
              "        \n",
              "  <svg xmlns=\"http://www.w3.org/2000/svg\" height=\"24px\"viewBox=\"0 0 24 24\"\n",
              "       width=\"24px\">\n",
              "    <path d=\"M0 0h24v24H0V0z\" fill=\"none\"/>\n",
              "    <path d=\"M18.56 5.44l.94 2.06.94-2.06 2.06-.94-2.06-.94-.94-2.06-.94 2.06-2.06.94zm-11 1L8.5 8.5l.94-2.06 2.06-.94-2.06-.94L8.5 2.5l-.94 2.06-2.06.94zm10 10l.94 2.06.94-2.06 2.06-.94-2.06-.94-.94-2.06-.94 2.06-2.06.94z\"/><path d=\"M17.41 7.96l-1.37-1.37c-.4-.4-.92-.59-1.43-.59-.52 0-1.04.2-1.43.59L10.3 9.45l-7.72 7.72c-.78.78-.78 2.05 0 2.83L4 21.41c.39.39.9.59 1.41.59.51 0 1.02-.2 1.41-.59l7.78-7.78 2.81-2.81c.8-.78.8-2.07 0-2.86zM5.41 20L4 18.59l7.72-7.72 1.47 1.35L5.41 20z\"/>\n",
              "  </svg>\n",
              "      </button>\n",
              "      \n",
              "  <style>\n",
              "    .colab-df-container {\n",
              "      display:flex;\n",
              "      flex-wrap:wrap;\n",
              "      gap: 12px;\n",
              "    }\n",
              "\n",
              "    .colab-df-convert {\n",
              "      background-color: #E8F0FE;\n",
              "      border: none;\n",
              "      border-radius: 50%;\n",
              "      cursor: pointer;\n",
              "      display: none;\n",
              "      fill: #1967D2;\n",
              "      height: 32px;\n",
              "      padding: 0 0 0 0;\n",
              "      width: 32px;\n",
              "    }\n",
              "\n",
              "    .colab-df-convert:hover {\n",
              "      background-color: #E2EBFA;\n",
              "      box-shadow: 0px 1px 2px rgba(60, 64, 67, 0.3), 0px 1px 3px 1px rgba(60, 64, 67, 0.15);\n",
              "      fill: #174EA6;\n",
              "    }\n",
              "\n",
              "    [theme=dark] .colab-df-convert {\n",
              "      background-color: #3B4455;\n",
              "      fill: #D2E3FC;\n",
              "    }\n",
              "\n",
              "    [theme=dark] .colab-df-convert:hover {\n",
              "      background-color: #434B5C;\n",
              "      box-shadow: 0px 1px 3px 1px rgba(0, 0, 0, 0.15);\n",
              "      filter: drop-shadow(0px 1px 2px rgba(0, 0, 0, 0.3));\n",
              "      fill: #FFFFFF;\n",
              "    }\n",
              "  </style>\n",
              "\n",
              "      <script>\n",
              "        const buttonEl =\n",
              "          document.querySelector('#df-72828339-cd85-4a8a-85e3-ddceaa1f1c6f button.colab-df-convert');\n",
              "        buttonEl.style.display =\n",
              "          google.colab.kernel.accessAllowed ? 'block' : 'none';\n",
              "\n",
              "        async function convertToInteractive(key) {\n",
              "          const element = document.querySelector('#df-72828339-cd85-4a8a-85e3-ddceaa1f1c6f');\n",
              "          const dataTable =\n",
              "            await google.colab.kernel.invokeFunction('convertToInteractive',\n",
              "                                                     [key], {});\n",
              "          if (!dataTable) return;\n",
              "\n",
              "          const docLinkHtml = 'Like what you see? Visit the ' +\n",
              "            '<a target=\"_blank\" href=https://colab.research.google.com/notebooks/data_table.ipynb>data table notebook</a>'\n",
              "            + ' to learn more about interactive tables.';\n",
              "          element.innerHTML = '';\n",
              "          dataTable['output_type'] = 'display_data';\n",
              "          await google.colab.output.renderOutput(dataTable, element);\n",
              "          const docLink = document.createElement('div');\n",
              "          docLink.innerHTML = docLinkHtml;\n",
              "          element.appendChild(docLink);\n",
              "        }\n",
              "      </script>\n",
              "    </div>\n",
              "  </div>\n",
              "  "
            ]
          },
          "metadata": {},
          "execution_count": 33
        }
      ]
    },
    {
      "cell_type": "markdown",
      "source": [
        "### Revenue generated monthly from the annual subscription"
      ],
      "metadata": {
        "id": "EsnS_LABLQUN"
      }
    },
    {
      "cell_type": "markdown",
      "source": [
        "Number of years subscribed for each customer "
      ],
      "metadata": {
        "id": "z2FiQzgqL_AH"
      }
    },
    {
      "cell_type": "code",
      "source": [
        "df_rev_year['year'] = ((df_rev_year['cancel_date_time'] - df_rev_year['signup_date_time']).dt.days//365)\n",
        "df_rev_year['year'] = df_rev_year['year'].apply(lambda x: math.ceil(x))"
      ],
      "metadata": {
        "id": "Sr_39EyjNCoQ"
      },
      "execution_count": 34,
      "outputs": []
    },
    {
      "cell_type": "code",
      "source": [
        "df_rev_year['signup_date_time'] = pd.to_datetime(df_rev_year['signup_date_time'])"
      ],
      "metadata": {
        "id": "pz7efXXFSkw2"
      },
      "execution_count": 35,
      "outputs": []
    },
    {
      "cell_type": "code",
      "source": [
        "yearly_revenue = pd.DataFrame(index=date_range)"
      ],
      "metadata": {
        "id": "fWpvcwy9Qqxo"
      },
      "execution_count": 36,
      "outputs": []
    },
    {
      "cell_type": "code",
      "source": [
        "for i, month in enumerate(monthly_revenue.index):\n",
        "  active_customers_year = df_rev_year[(df_rev_year['signup_date_time'] <= month) & \n",
        "                                  (df_rev_year['cancel_date_time'] >= month) &\n",
        "                                  (df_rev_year['signup_date_time'].dt.month == month.month)]\n",
        "  yearly_revenue.loc[month, 'Revenue'] = (active_customers_year['price']).sum()"
      ],
      "metadata": {
        "id": "8izlepm2Q3f2"
      },
      "execution_count": 37,
      "outputs": []
    },
    {
      "cell_type": "markdown",
      "source": [
        "The total revenue generated in each month will be the sum of revenue generated for both the monthly and annual subscription."
      ],
      "metadata": {
        "id": "BTcjnrCHVZ3B"
      }
    },
    {
      "cell_type": "code",
      "source": [
        "total_month_rev = yearly_revenue + monthly_revenue\n",
        "total_month_rev.head()"
      ],
      "metadata": {
        "colab": {
          "base_uri": "https://localhost:8080/",
          "height": 206
        },
        "id": "17aVlJsxUOY7",
        "outputId": "dff85f1f-7b79-4a5e-fd64-bf0d20870f70"
      },
      "execution_count": 38,
      "outputs": [
        {
          "output_type": "execute_result",
          "data": {
            "text/plain": [
              "              Revenue\n",
              "2017-01-31  3786125.0\n",
              "2017-02-28  3629825.0\n",
              "2017-03-31  4150425.0\n",
              "2017-04-30  3859700.0\n",
              "2017-05-31  4022750.0"
            ],
            "text/html": [
              "\n",
              "  <div id=\"df-813f4f27-56b0-4f9a-aee1-64ef9b57a4f3\">\n",
              "    <div class=\"colab-df-container\">\n",
              "      <div>\n",
              "<style scoped>\n",
              "    .dataframe tbody tr th:only-of-type {\n",
              "        vertical-align: middle;\n",
              "    }\n",
              "\n",
              "    .dataframe tbody tr th {\n",
              "        vertical-align: top;\n",
              "    }\n",
              "\n",
              "    .dataframe thead th {\n",
              "        text-align: right;\n",
              "    }\n",
              "</style>\n",
              "<table border=\"1\" class=\"dataframe\">\n",
              "  <thead>\n",
              "    <tr style=\"text-align: right;\">\n",
              "      <th></th>\n",
              "      <th>Revenue</th>\n",
              "    </tr>\n",
              "  </thead>\n",
              "  <tbody>\n",
              "    <tr>\n",
              "      <th>2017-01-31</th>\n",
              "      <td>3786125.0</td>\n",
              "    </tr>\n",
              "    <tr>\n",
              "      <th>2017-02-28</th>\n",
              "      <td>3629825.0</td>\n",
              "    </tr>\n",
              "    <tr>\n",
              "      <th>2017-03-31</th>\n",
              "      <td>4150425.0</td>\n",
              "    </tr>\n",
              "    <tr>\n",
              "      <th>2017-04-30</th>\n",
              "      <td>3859700.0</td>\n",
              "    </tr>\n",
              "    <tr>\n",
              "      <th>2017-05-31</th>\n",
              "      <td>4022750.0</td>\n",
              "    </tr>\n",
              "  </tbody>\n",
              "</table>\n",
              "</div>\n",
              "      <button class=\"colab-df-convert\" onclick=\"convertToInteractive('df-813f4f27-56b0-4f9a-aee1-64ef9b57a4f3')\"\n",
              "              title=\"Convert this dataframe to an interactive table.\"\n",
              "              style=\"display:none;\">\n",
              "        \n",
              "  <svg xmlns=\"http://www.w3.org/2000/svg\" height=\"24px\"viewBox=\"0 0 24 24\"\n",
              "       width=\"24px\">\n",
              "    <path d=\"M0 0h24v24H0V0z\" fill=\"none\"/>\n",
              "    <path d=\"M18.56 5.44l.94 2.06.94-2.06 2.06-.94-2.06-.94-.94-2.06-.94 2.06-2.06.94zm-11 1L8.5 8.5l.94-2.06 2.06-.94-2.06-.94L8.5 2.5l-.94 2.06-2.06.94zm10 10l.94 2.06.94-2.06 2.06-.94-2.06-.94-.94-2.06-.94 2.06-2.06.94z\"/><path d=\"M17.41 7.96l-1.37-1.37c-.4-.4-.92-.59-1.43-.59-.52 0-1.04.2-1.43.59L10.3 9.45l-7.72 7.72c-.78.78-.78 2.05 0 2.83L4 21.41c.39.39.9.59 1.41.59.51 0 1.02-.2 1.41-.59l7.78-7.78 2.81-2.81c.8-.78.8-2.07 0-2.86zM5.41 20L4 18.59l7.72-7.72 1.47 1.35L5.41 20z\"/>\n",
              "  </svg>\n",
              "      </button>\n",
              "      \n",
              "  <style>\n",
              "    .colab-df-container {\n",
              "      display:flex;\n",
              "      flex-wrap:wrap;\n",
              "      gap: 12px;\n",
              "    }\n",
              "\n",
              "    .colab-df-convert {\n",
              "      background-color: #E8F0FE;\n",
              "      border: none;\n",
              "      border-radius: 50%;\n",
              "      cursor: pointer;\n",
              "      display: none;\n",
              "      fill: #1967D2;\n",
              "      height: 32px;\n",
              "      padding: 0 0 0 0;\n",
              "      width: 32px;\n",
              "    }\n",
              "\n",
              "    .colab-df-convert:hover {\n",
              "      background-color: #E2EBFA;\n",
              "      box-shadow: 0px 1px 2px rgba(60, 64, 67, 0.3), 0px 1px 3px 1px rgba(60, 64, 67, 0.15);\n",
              "      fill: #174EA6;\n",
              "    }\n",
              "\n",
              "    [theme=dark] .colab-df-convert {\n",
              "      background-color: #3B4455;\n",
              "      fill: #D2E3FC;\n",
              "    }\n",
              "\n",
              "    [theme=dark] .colab-df-convert:hover {\n",
              "      background-color: #434B5C;\n",
              "      box-shadow: 0px 1px 3px 1px rgba(0, 0, 0, 0.15);\n",
              "      filter: drop-shadow(0px 1px 2px rgba(0, 0, 0, 0.3));\n",
              "      fill: #FFFFFF;\n",
              "    }\n",
              "  </style>\n",
              "\n",
              "      <script>\n",
              "        const buttonEl =\n",
              "          document.querySelector('#df-813f4f27-56b0-4f9a-aee1-64ef9b57a4f3 button.colab-df-convert');\n",
              "        buttonEl.style.display =\n",
              "          google.colab.kernel.accessAllowed ? 'block' : 'none';\n",
              "\n",
              "        async function convertToInteractive(key) {\n",
              "          const element = document.querySelector('#df-813f4f27-56b0-4f9a-aee1-64ef9b57a4f3');\n",
              "          const dataTable =\n",
              "            await google.colab.kernel.invokeFunction('convertToInteractive',\n",
              "                                                     [key], {});\n",
              "          if (!dataTable) return;\n",
              "\n",
              "          const docLinkHtml = 'Like what you see? Visit the ' +\n",
              "            '<a target=\"_blank\" href=https://colab.research.google.com/notebooks/data_table.ipynb>data table notebook</a>'\n",
              "            + ' to learn more about interactive tables.';\n",
              "          element.innerHTML = '';\n",
              "          dataTable['output_type'] = 'display_data';\n",
              "          await google.colab.output.renderOutput(dataTable, element);\n",
              "          const docLink = document.createElement('div');\n",
              "          docLink.innerHTML = docLinkHtml;\n",
              "          element.appendChild(docLink);\n",
              "        }\n",
              "      </script>\n",
              "    </div>\n",
              "  </div>\n",
              "  "
            ]
          },
          "metadata": {},
          "execution_count": 38
        }
      ]
    },
    {
      "cell_type": "markdown",
      "source": [
        "### Descriptive Statistics"
      ],
      "metadata": {
        "id": "p8xyThl9rM2c"
      }
    },
    {
      "cell_type": "code",
      "source": [
        "total_month_rev.describe(). round()"
      ],
      "metadata": {
        "colab": {
          "base_uri": "https://localhost:8080/",
          "height": 300
        },
        "id": "7iFhHvxYrS_N",
        "outputId": "043658aa-fcb9-492e-9667-8eed6ce555e8"
      },
      "execution_count": 39,
      "outputs": [
        {
          "output_type": "execute_result",
          "data": {
            "text/plain": [
              "          Revenue\n",
              "count        60.0\n",
              "mean   20448208.0\n",
              "std    14963095.0\n",
              "min     1302300.0\n",
              "25%     6544612.0\n",
              "50%    19550062.0\n",
              "75%    32957175.0\n",
              "max    48086475.0"
            ],
            "text/html": [
              "\n",
              "  <div id=\"df-83d3bec5-0215-4b04-a4a4-9df8402deda9\">\n",
              "    <div class=\"colab-df-container\">\n",
              "      <div>\n",
              "<style scoped>\n",
              "    .dataframe tbody tr th:only-of-type {\n",
              "        vertical-align: middle;\n",
              "    }\n",
              "\n",
              "    .dataframe tbody tr th {\n",
              "        vertical-align: top;\n",
              "    }\n",
              "\n",
              "    .dataframe thead th {\n",
              "        text-align: right;\n",
              "    }\n",
              "</style>\n",
              "<table border=\"1\" class=\"dataframe\">\n",
              "  <thead>\n",
              "    <tr style=\"text-align: right;\">\n",
              "      <th></th>\n",
              "      <th>Revenue</th>\n",
              "    </tr>\n",
              "  </thead>\n",
              "  <tbody>\n",
              "    <tr>\n",
              "      <th>count</th>\n",
              "      <td>60.0</td>\n",
              "    </tr>\n",
              "    <tr>\n",
              "      <th>mean</th>\n",
              "      <td>20448208.0</td>\n",
              "    </tr>\n",
              "    <tr>\n",
              "      <th>std</th>\n",
              "      <td>14963095.0</td>\n",
              "    </tr>\n",
              "    <tr>\n",
              "      <th>min</th>\n",
              "      <td>1302300.0</td>\n",
              "    </tr>\n",
              "    <tr>\n",
              "      <th>25%</th>\n",
              "      <td>6544612.0</td>\n",
              "    </tr>\n",
              "    <tr>\n",
              "      <th>50%</th>\n",
              "      <td>19550062.0</td>\n",
              "    </tr>\n",
              "    <tr>\n",
              "      <th>75%</th>\n",
              "      <td>32957175.0</td>\n",
              "    </tr>\n",
              "    <tr>\n",
              "      <th>max</th>\n",
              "      <td>48086475.0</td>\n",
              "    </tr>\n",
              "  </tbody>\n",
              "</table>\n",
              "</div>\n",
              "      <button class=\"colab-df-convert\" onclick=\"convertToInteractive('df-83d3bec5-0215-4b04-a4a4-9df8402deda9')\"\n",
              "              title=\"Convert this dataframe to an interactive table.\"\n",
              "              style=\"display:none;\">\n",
              "        \n",
              "  <svg xmlns=\"http://www.w3.org/2000/svg\" height=\"24px\"viewBox=\"0 0 24 24\"\n",
              "       width=\"24px\">\n",
              "    <path d=\"M0 0h24v24H0V0z\" fill=\"none\"/>\n",
              "    <path d=\"M18.56 5.44l.94 2.06.94-2.06 2.06-.94-2.06-.94-.94-2.06-.94 2.06-2.06.94zm-11 1L8.5 8.5l.94-2.06 2.06-.94-2.06-.94L8.5 2.5l-.94 2.06-2.06.94zm10 10l.94 2.06.94-2.06 2.06-.94-2.06-.94-.94-2.06-.94 2.06-2.06.94z\"/><path d=\"M17.41 7.96l-1.37-1.37c-.4-.4-.92-.59-1.43-.59-.52 0-1.04.2-1.43.59L10.3 9.45l-7.72 7.72c-.78.78-.78 2.05 0 2.83L4 21.41c.39.39.9.59 1.41.59.51 0 1.02-.2 1.41-.59l7.78-7.78 2.81-2.81c.8-.78.8-2.07 0-2.86zM5.41 20L4 18.59l7.72-7.72 1.47 1.35L5.41 20z\"/>\n",
              "  </svg>\n",
              "      </button>\n",
              "      \n",
              "  <style>\n",
              "    .colab-df-container {\n",
              "      display:flex;\n",
              "      flex-wrap:wrap;\n",
              "      gap: 12px;\n",
              "    }\n",
              "\n",
              "    .colab-df-convert {\n",
              "      background-color: #E8F0FE;\n",
              "      border: none;\n",
              "      border-radius: 50%;\n",
              "      cursor: pointer;\n",
              "      display: none;\n",
              "      fill: #1967D2;\n",
              "      height: 32px;\n",
              "      padding: 0 0 0 0;\n",
              "      width: 32px;\n",
              "    }\n",
              "\n",
              "    .colab-df-convert:hover {\n",
              "      background-color: #E2EBFA;\n",
              "      box-shadow: 0px 1px 2px rgba(60, 64, 67, 0.3), 0px 1px 3px 1px rgba(60, 64, 67, 0.15);\n",
              "      fill: #174EA6;\n",
              "    }\n",
              "\n",
              "    [theme=dark] .colab-df-convert {\n",
              "      background-color: #3B4455;\n",
              "      fill: #D2E3FC;\n",
              "    }\n",
              "\n",
              "    [theme=dark] .colab-df-convert:hover {\n",
              "      background-color: #434B5C;\n",
              "      box-shadow: 0px 1px 3px 1px rgba(0, 0, 0, 0.15);\n",
              "      filter: drop-shadow(0px 1px 2px rgba(0, 0, 0, 0.3));\n",
              "      fill: #FFFFFF;\n",
              "    }\n",
              "  </style>\n",
              "\n",
              "      <script>\n",
              "        const buttonEl =\n",
              "          document.querySelector('#df-83d3bec5-0215-4b04-a4a4-9df8402deda9 button.colab-df-convert');\n",
              "        buttonEl.style.display =\n",
              "          google.colab.kernel.accessAllowed ? 'block' : 'none';\n",
              "\n",
              "        async function convertToInteractive(key) {\n",
              "          const element = document.querySelector('#df-83d3bec5-0215-4b04-a4a4-9df8402deda9');\n",
              "          const dataTable =\n",
              "            await google.colab.kernel.invokeFunction('convertToInteractive',\n",
              "                                                     [key], {});\n",
              "          if (!dataTable) return;\n",
              "\n",
              "          const docLinkHtml = 'Like what you see? Visit the ' +\n",
              "            '<a target=\"_blank\" href=https://colab.research.google.com/notebooks/data_table.ipynb>data table notebook</a>'\n",
              "            + ' to learn more about interactive tables.';\n",
              "          element.innerHTML = '';\n",
              "          dataTable['output_type'] = 'display_data';\n",
              "          await google.colab.output.renderOutput(dataTable, element);\n",
              "          const docLink = document.createElement('div');\n",
              "          docLink.innerHTML = docLinkHtml;\n",
              "          element.appendChild(docLink);\n",
              "        }\n",
              "      </script>\n",
              "    </div>\n",
              "  </div>\n",
              "  "
            ]
          },
          "metadata": {},
          "execution_count": 39
        }
      ]
    },
    {
      "cell_type": "markdown",
      "source": [
        "### Decomposition Techniques\n",
        "Decomposition is the process of breaking down a complex object of function into simpler components. Time series data is composed of four main components, these are trend, cyclic component,seasonal component and noise noise. To understand more on this, read <a href = 'https://medium.com/@otsemeuno/how-to-use-time-series-methods-decomposition-technique-ea196b0ba09d'>my medium post</a>"
      ],
      "metadata": {
        "id": "ktyt8VAin0Rd"
      }
    },
    {
      "cell_type": "markdown",
      "source": [
        "Plot a line chart to observe the revenue made each month from 2017 to 2021"
      ],
      "metadata": {
        "id": "nCFrvSVxq2rG"
      }
    },
    {
      "cell_type": "code",
      "source": [
        "#create an axis object and a figure\n",
        "fig, axis1 = plt.subplots(figsize =(10,8))\n",
        "\n",
        "#plot the time series data\n",
        "axis1.plot(total_month_rev.index, total_month_rev['Revenue'], label = 'Monthly Revenue')\n",
        "\n",
        "#set axis labels\n",
        "axis1.set_xlabel('Years')\n",
        "axis1.set_ylabel('Revenue in ten million Dollars')\n",
        "axis1.set_title('Revenue Generated from 2017 to 2021')\n",
        "axis1.legend(loc= 'upper left')\n",
        "\n",
        "\n",
        "#lines to observe trend\n",
        "line_dates = pd.to_datetime(['2017-12-31', '2018-12-31', '2019-12-31','2020-12-31'])\n",
        "for date in line_dates:\n",
        "  axis1.axvline(x= date, color = 'gray', linestyle = 'dashed')\n",
        "plt.show()"
      ],
      "metadata": {
        "colab": {
          "base_uri": "https://localhost:8080/",
          "height": 560
        },
        "id": "rdavAy0yqpKH",
        "outputId": "95e79d71-d2ea-458e-91ac-c83312bbddb4"
      },
      "execution_count": 40,
      "outputs": [
        {
          "output_type": "display_data",
          "data": {
            "text/plain": [
              "<Figure size 1000x800 with 1 Axes>"
            ],
            "image/png": "[encoded data removed]"
          },
          "metadata": {}
        }
      ]
    },
    {
      "cell_type": "markdown",
      "source": [
        "The plot above shows that it is seasonal and the seasonal flunctuation increases proportionally with an increase in the level of the series. This is observed from the bell like shape in the plot above. A multiplicative model is the appropriate model for this time series as multiplicative models are effective when the seasonal value changes over time."
      ],
      "metadata": {
        "id": "o8J4WVp_2ZGV"
      }
    },
    {
      "cell_type": "markdown",
      "source": [
        "In multiplicative decomposition, the time series data, y(t), is the multiplication of the decomposed components.\n",
        "\n",
        "\n",
        "> y(t) = m(t) * s(t) * e(t)\n",
        "<p> where:\n",
        "<p> m(t) is the trend component\n",
        "<p> s(t) is the seasonal component\n",
        "<p> e(t) is the noise component\n"
      ],
      "metadata": {
        "id": "42xNTIlz3fQ3"
      }
    },
    {
      "cell_type": "code",
      "source": [
        "# get multiplicative decomposition component\n",
        "decomposition = seasonal_decompose(total_month_rev[['Revenue']], model = 'multiplicative', period = 12)"
      ],
      "metadata": {
        "id": "iUs-xjE_5Mvy"
      },
      "execution_count": 41,
      "outputs": []
    },
    {
      "cell_type": "markdown",
      "source": [
        "Plot the results from decomposition\n"
      ],
      "metadata": {
        "id": "YXiUYRQh6-DZ"
      }
    },
    {
      "cell_type": "code",
      "source": [
        "\n",
        "plt.figure(figsize=(10,10))\n",
        "plt.subplot(411)\n",
        "plt.plot(total_month_rev[['Revenue']], label='Original')\n",
        "plt.legend(loc='best')\n",
        "plt.subplot(412)\n",
        "plt.plot(decomposition.trend, label='Trend')\n",
        "plt.legend(loc='best')\n",
        "plt.subplot(413)\n",
        "plt.plot(decomposition.seasonal,label='Seasonality')\n",
        "plt.legend(loc='best')\n",
        "plt.subplot(414)\n",
        "plt.plot(decomposition.resid, label='Residuals')\n",
        "plt.legend(loc='best')\n",
        "plt.tight_layout()\n",
        "plt.show()\n"
      ],
      "metadata": {
        "id": "Bo9z9Vsc69NC",
        "colab": {
          "base_uri": "https://localhost:8080/",
          "height": 662
        },
        "outputId": "9039ac51-c7f7-4b56-fa7e-9a53e8b98125"
      },
      "execution_count": 42,
      "outputs": [
        {
          "output_type": "display_data",
          "data": {
            "text/plain": [
              "<Figure size 1000x1000 with 4 Axes>"
            ],
            "image/png": "[encoded data removed]"
          },
          "metadata": {}
        }
      ]
    },
    {
      "cell_type": "markdown",
      "source": [
        "It should be noted that model building and further analysis need to be done on the deseasonalised data."
      ],
      "metadata": {
        "id": "ZY6vLtEv-ncs"
      }
    },
    {
      "cell_type": "code",
      "source": [
        "#obtain the deseasonalised date\n",
        "deseasonal = (total_month_rev['Revenue'] / decomposition.seasonal).round()\n",
        "\n",
        "deseasonal = pd.DataFrame(deseasonal, columns = ['d_Revenue'])\n",
        "deseasonal.head()\n"
      ],
      "metadata": {
        "colab": {
          "base_uri": "https://localhost:8080/",
          "height": 206
        },
        "id": "-rV-rLGJ-x5e",
        "outputId": "cf44ecba-c361-4b78-b7a5-94635e65aeae"
      },
      "execution_count": 43,
      "outputs": [
        {
          "output_type": "execute_result",
          "data": {
            "text/plain": [
              "            d_Revenue\n",
              "2017-01-31  2633795.0\n",
              "2017-02-28  2807939.0\n",
              "2017-03-31  3051793.0\n",
              "2017-04-30  2945050.0\n",
              "2017-05-31  3139408.0"
            ],
            "text/html": [
              "\n",
              "  <div id=\"df-783a5e66-b068-46e0-81ca-05e04d364e76\">\n",
              "    <div class=\"colab-df-container\">\n",
              "      <div>\n",
              "<style scoped>\n",
              "    .dataframe tbody tr th:only-of-type {\n",
              "        vertical-align: middle;\n",
              "    }\n",
              "\n",
              "    .dataframe tbody tr th {\n",
              "        vertical-align: top;\n",
              "    }\n",
              "\n",
              "    .dataframe thead th {\n",
              "        text-align: right;\n",
              "    }\n",
              "</style>\n",
              "<table border=\"1\" class=\"dataframe\">\n",
              "  <thead>\n",
              "    <tr style=\"text-align: right;\">\n",
              "      <th></th>\n",
              "      <th>d_Revenue</th>\n",
              "    </tr>\n",
              "  </thead>\n",
              "  <tbody>\n",
              "    <tr>\n",
              "      <th>2017-01-31</th>\n",
              "      <td>2633795.0</td>\n",
              "    </tr>\n",
              "    <tr>\n",
              "      <th>2017-02-28</th>\n",
              "      <td>2807939.0</td>\n",
              "    </tr>\n",
              "    <tr>\n",
              "      <th>2017-03-31</th>\n",
              "      <td>3051793.0</td>\n",
              "    </tr>\n",
              "    <tr>\n",
              "      <th>2017-04-30</th>\n",
              "      <td>2945050.0</td>\n",
              "    </tr>\n",
              "    <tr>\n",
              "      <th>2017-05-31</th>\n",
              "      <td>3139408.0</td>\n",
              "    </tr>\n",
              "  </tbody>\n",
              "</table>\n",
              "</div>\n",
              "      <button class=\"colab-df-convert\" onclick=\"convertToInteractive('df-783a5e66-b068-46e0-81ca-05e04d364e76')\"\n",
              "              title=\"Convert this dataframe to an interactive table.\"\n",
              "              style=\"display:none;\">\n",
              "        \n",
              "  <svg xmlns=\"http://www.w3.org/2000/svg\" height=\"24px\"viewBox=\"0 0 24 24\"\n",
              "       width=\"24px\">\n",
              "    <path d=\"M0 0h24v24H0V0z\" fill=\"none\"/>\n",
              "    <path d=\"M18.56 5.44l.94 2.06.94-2.06 2.06-.94-2.06-.94-.94-2.06-.94 2.06-2.06.94zm-11 1L8.5 8.5l.94-2.06 2.06-.94-2.06-.94L8.5 2.5l-.94 2.06-2.06.94zm10 10l.94 2.06.94-2.06 2.06-.94-2.06-.94-.94-2.06-.94 2.06-2.06.94z\"/><path d=\"M17.41 7.96l-1.37-1.37c-.4-.4-.92-.59-1.43-.59-.52 0-1.04.2-1.43.59L10.3 9.45l-7.72 7.72c-.78.78-.78 2.05 0 2.83L4 21.41c.39.39.9.59 1.41.59.51 0 1.02-.2 1.41-.59l7.78-7.78 2.81-2.81c.8-.78.8-2.07 0-2.86zM5.41 20L4 18.59l7.72-7.72 1.47 1.35L5.41 20z\"/>\n",
              "  </svg>\n",
              "      </button>\n",
              "      \n",
              "  <style>\n",
              "    .colab-df-container {\n",
              "      display:flex;\n",
              "      flex-wrap:wrap;\n",
              "      gap: 12px;\n",
              "    }\n",
              "\n",
              "    .colab-df-convert {\n",
              "      background-color: #E8F0FE;\n",
              "      border: none;\n",
              "      border-radius: 50%;\n",
              "      cursor: pointer;\n",
              "      display: none;\n",
              "      fill: #1967D2;\n",
              "      height: 32px;\n",
              "      padding: 0 0 0 0;\n",
              "      width: 32px;\n",
              "    }\n",
              "\n",
              "    .colab-df-convert:hover {\n",
              "      background-color: #E2EBFA;\n",
              "      box-shadow: 0px 1px 2px rgba(60, 64, 67, 0.3), 0px 1px 3px 1px rgba(60, 64, 67, 0.15);\n",
              "      fill: #174EA6;\n",
              "    }\n",
              "\n",
              "    [theme=dark] .colab-df-convert {\n",
              "      background-color: #3B4455;\n",
              "      fill: #D2E3FC;\n",
              "    }\n",
              "\n",
              "    [theme=dark] .colab-df-convert:hover {\n",
              "      background-color: #434B5C;\n",
              "      box-shadow: 0px 1px 3px 1px rgba(0, 0, 0, 0.15);\n",
              "      filter: drop-shadow(0px 1px 2px rgba(0, 0, 0, 0.3));\n",
              "      fill: #FFFFFF;\n",
              "    }\n",
              "  </style>\n",
              "\n",
              "      <script>\n",
              "        const buttonEl =\n",
              "          document.querySelector('#df-783a5e66-b068-46e0-81ca-05e04d364e76 button.colab-df-convert');\n",
              "        buttonEl.style.display =\n",
              "          google.colab.kernel.accessAllowed ? 'block' : 'none';\n",
              "\n",
              "        async function convertToInteractive(key) {\n",
              "          const element = document.querySelector('#df-783a5e66-b068-46e0-81ca-05e04d364e76');\n",
              "          const dataTable =\n",
              "            await google.colab.kernel.invokeFunction('convertToInteractive',\n",
              "                                                     [key], {});\n",
              "          if (!dataTable) return;\n",
              "\n",
              "          const docLinkHtml = 'Like what you see? Visit the ' +\n",
              "            '<a target=\"_blank\" href=https://colab.research.google.com/notebooks/data_table.ipynb>data table notebook</a>'\n",
              "            + ' to learn more about interactive tables.';\n",
              "          element.innerHTML = '';\n",
              "          dataTable['output_type'] = 'display_data';\n",
              "          await google.colab.output.renderOutput(dataTable, element);\n",
              "          const docLink = document.createElement('div');\n",
              "          docLink.innerHTML = docLinkHtml;\n",
              "          element.appendChild(docLink);\n",
              "        }\n",
              "      </script>\n",
              "    </div>\n",
              "  </div>\n",
              "  "
            ]
          },
          "metadata": {},
          "execution_count": 43
        }
      ]
    },
    {
      "cell_type": "markdown",
      "source": [
        "Split the data into trainset and test set for model building"
      ],
      "metadata": {
        "id": "ZL4bkd1lBPPY"
      }
    },
    {
      "cell_type": "code",
      "source": [
        "#split the data into train and  test set\n",
        "trainset1 = deseasonal[:-12]\n",
        "testset1 = deseasonal[-12:]"
      ],
      "metadata": {
        "id": "EfXbchA6-gx-"
      },
      "execution_count": 44,
      "outputs": []
    },
    {
      "cell_type": "markdown",
      "source": [
        "#### Linear Regression in Decomposion technique"
      ],
      "metadata": {
        "id": "2d_uoZi9D106"
      }
    },
    {
      "cell_type": "code",
      "source": [
        "#xtrain is the range of number of occurence, ie 1-48\n",
        "x_train = np.arange(1, 1 + len(trainset1)).reshape(-1,1)\n",
        "#ytrain is the deseasonalized revenue value of the trainset\n",
        "y_train = trainset1['d_Revenue']\n",
        "\n",
        "#Linear regression model is built using xtrain and ytrain values\n",
        "model = LinearRegression().fit(x_train, y_train)"
      ],
      "metadata": {
        "id": "AWuLrnUnDtC8"
      },
      "execution_count": 45,
      "outputs": []
    },
    {
      "cell_type": "code",
      "source": [
        "#This linear regression model is used to predict the dseasonalised revenue for the testset\n",
        "#x_test is the range of the number of occurence, from 49-60\n",
        "x_test = np.arange(1 + len(trainset1), 1 +  len(trainset1) +len(testset1)).reshape(-1,1)\n",
        "y_pred_des = model.predict(x_test)"
      ],
      "metadata": {
        "id": "piiEUEHYH7sN"
      },
      "execution_count": 46,
      "outputs": []
    },
    {
      "cell_type": "markdown",
      "source": [
        "The seasonal component is added to the predicted deseasonal revenue"
      ],
      "metadata": {
        "id": "BmORiEB1K62v"
      }
    },
    {
      "cell_type": "code",
      "source": [
        "y_pred = y_pred_des * decomposition.seasonal[-12:]"
      ],
      "metadata": {
        "id": "YelcRGf3LXv-"
      },
      "execution_count": 47,
      "outputs": []
    },
    {
      "cell_type": "markdown",
      "source": [
        "A plot to show the actual and forecasted values"
      ],
      "metadata": {
        "id": "ypFrewMuMBOA"
      }
    },
    {
      "cell_type": "code",
      "source": [
        "fig, ax = plt.subplots(figsize=(10,8))\n",
        "\n",
        "ax.plot(testset1.index, total_month_rev[-12:], color = 'red', label='Actual')\n",
        "ax.plot(testset1.index, y_pred, color = 'green', label='Forecast')\n",
        "ax.set_xlabel('Time')\n",
        "ax.set_ylabel('Revenue')\n",
        "ax.set_title('Linear Regression Forecast')\n",
        "ax.legend()\n",
        "plt.show()"
      ],
      "metadata": {
        "id": "Xpz4ONI9MJpe",
        "colab": {
          "base_uri": "https://localhost:8080/",
          "height": 551
        },
        "outputId": "313cbec9-bf5f-4dfd-ffa4-112d432bf529"
      },
      "execution_count": 48,
      "outputs": [
        {
          "output_type": "display_data",
          "data": {
            "text/plain": [
              "<Figure size 1000x800 with 1 Axes>"
            ],
            "image/png": "[encoded data removed]"
          },
          "metadata": {}
        }
      ]
    },
    {
      "cell_type": "markdown",
      "source": [
        "The performance of the model is inspected."
      ],
      "metadata": {
        "id": "Qxl7QdE0P5NS"
      }
    },
    {
      "cell_type": "code",
      "source": [
        "#function that checks the performance of models \n",
        "def perf_m (r,d, word=''):\n",
        "  print(word)\n",
        "  # Calculate MSE\n",
        "  mse = mean_squared_error(r, d)\n",
        "  print(\"MSE:\", mse)\n",
        "\n",
        "  # Calculate RMSE\n",
        "  rmse = np.sqrt(mse)\n",
        "  print(\"RMSE:\", rmse)\n",
        "\n",
        "  # Calculate MAE\n",
        "  mae = mean_absolute_error(r, d)\n",
        "  print(\"MAE:\", mae,'\\n')"
      ],
      "metadata": {
        "id": "h2JM1Fr0PoWC"
      },
      "execution_count": 49,
      "outputs": []
    },
    {
      "cell_type": "code",
      "source": [
        "linear_decomposition_performance = perf_m(total_month_rev['Revenue'][-12:], y_pred)\n",
        "linear_decomposition_performance"
      ],
      "metadata": {
        "colab": {
          "base_uri": "https://localhost:8080/"
        },
        "id": "B9zzvMOCQbEK",
        "outputId": "6346c869-e0bd-480e-c06b-0a017633a63d"
      },
      "execution_count": 50,
      "outputs": [
        {
          "output_type": "stream",
          "name": "stdout",
          "text": [
            "\n",
            "MSE: 52645064268714.35\n",
            "RMSE: 7255691.853208372\n",
            "MAE: 6349500.261848393 \n",
            "\n"
          ]
        }
      ]
    },
    {
      "cell_type": "markdown",
      "source": [
        "It should be noted that the performance of the model is not so good, but the forecasted value, followed the trend of the actual value. The forecasted value dipped when the actual value dipped and rose when the actual value rose. This is observed in the figure above."
      ],
      "metadata": {
        "id": "yiVBMMEURbND"
      }
    },
    {
      "cell_type": "markdown",
      "source": [
        "#### Long Short-Term Memory (LSTM)"
      ],
      "metadata": {
        "id": "Yu79m04MSNpZ"
      }
    },
    {
      "cell_type": "markdown",
      "source": [
        "The deseasonalised data is scaled from 0-1."
      ],
      "metadata": {
        "id": "0jLiVG8DZEly"
      }
    },
    {
      "cell_type": "code",
      "source": [
        "#scale the deseasonal data\n",
        "scaler = MinMaxScaler(feature_range = (0,5))\n",
        "scaled_data = scaler.fit_transform(pd.DataFrame(deseasonal))"
      ],
      "metadata": {
        "id": "WW17b3M_Uu16"
      },
      "execution_count": 351,
      "outputs": []
    },
    {
      "cell_type": "code",
      "source": [
        "#the scaled data is split into trainset and testset\n",
        "trainset2 = scaled_data[:-12]\n",
        "testset2 = scaled_data[-12:]\n",
        "testset2"
      ],
      "metadata": {
        "id": "Zq0mJxmcUo5m",
        "colab": {
          "base_uri": "https://localhost:8080/"
        },
        "outputId": "977316d6-e464-407d-ec09-19e8585571e7"
      },
      "execution_count": 352,
      "outputs": [
        {
          "output_type": "execute_result",
          "data": {
            "text/plain": [
              "array([[1.97260467],\n",
              "       [2.09888999],\n",
              "       [2.21102852],\n",
              "       [2.30485136],\n",
              "       [2.37568353],\n",
              "       [2.57805831],\n",
              "       [2.77360198],\n",
              "       [3.11721368],\n",
              "       [3.62708616],\n",
              "       [3.9914675 ],\n",
              "       [4.43948348],\n",
              "       [5.        ]])"
            ]
          },
          "metadata": {},
          "execution_count": 352
        }
      ]
    },
    {
      "cell_type": "markdown",
      "source": [
        "We are interested in predicting the revenue for a year, 12 months."
      ],
      "metadata": {
        "id": "IpPRLZEhb2k1"
      }
    },
    {
      "cell_type": "code",
      "source": [
        "n_input = 20\n",
        "n_features = 1\n",
        "generator = TimeseriesGenerator(trainset2, trainset2, length = n_input, batch_size = 1)\n",
        "generator"
      ],
      "metadata": {
        "id": "rskf65-YSNBc",
        "colab": {
          "base_uri": "https://localhost:8080/"
        },
        "outputId": "f42b3314-8062-42c8-f8c8-01db00722493"
      },
      "execution_count": 398,
      "outputs": [
        {
          "output_type": "execute_result",
          "data": {
            "text/plain": [
              "<keras.preprocessing.sequence.TimeseriesGenerator at 0x7fb8c864a5b0>"
            ]
          },
          "metadata": {},
          "execution_count": 398
        }
      ]
    },
    {
      "cell_type": "code",
      "source": [
        "model = Sequential()\n",
        "# model.add(LSTM(1, input_shape = (20, 1)))\n",
        "model.add(LSTM(1,activation = 'tanh', input_shape = (20, 1)))\n",
        "model.add(Dense(1))\n",
        "model.compile(loss='mean_squared_error', optimizer = 'adam')\n",
        "model.fit(generator, epochs = 200, batch_size = 2)"
      ],
      "metadata": {
        "colab": {
          "base_uri": "https://localhost:8080/"
        },
        "id": "mq4LKHyGglMi",
        "outputId": "599086f8-f7f6-44d6-a1cf-e6edc9d7c3b0"
      },
      "execution_count": 399,
      "outputs": [
        {
          "output_type": "stream",
          "name": "stdout",
          "text": [
            "Epoch 1/200\n",
            "28/28 [==============================] - 2s 9ms/step - loss: 2.4887\n",
            "Epoch 2/200\n",
            "28/28 [==============================] - 0s 9ms/step - loss: 2.3744\n",
            "Epoch 3/200\n",
            "28/28 [==============================] - 0s 10ms/step - loss: 2.2656\n",
            "Epoch 4/200\n",
            "28/28 [==============================] - 0s 9ms/step - loss: 2.1587\n",
            "Epoch 5/200\n",
            "28/28 [==============================] - 0s 10ms/step - loss: 2.0519\n",
            "Epoch 6/200\n",
            "28/28 [==============================] - 0s 8ms/step - loss: 1.9475\n",
            "Epoch 7/200\n",
            "28/28 [==============================] - 0s 8ms/step - loss: 1.8518\n",
            "Epoch 8/200\n",
            "28/28 [==============================] - 0s 12ms/step - loss: 1.7504\n",
            "Epoch 9/200\n",
            "28/28 [==============================] - 0s 12ms/step - loss: 1.6580\n",
            "Epoch 10/200\n",
            "28/28 [==============================] - 0s 12ms/step - loss: 1.5685\n",
            "Epoch 11/200\n",
            "28/28 [==============================] - 0s 14ms/step - loss: 1.4797\n",
            "Epoch 12/200\n",
            "28/28 [==============================] - 0s 15ms/step - loss: 1.4056\n",
            "Epoch 13/200\n",
            "28/28 [==============================] - 0s 12ms/step - loss: 1.3219\n",
            "Epoch 14/200\n",
            "28/28 [==============================] - 0s 11ms/step - loss: 1.2516\n",
            "Epoch 15/200\n",
            "28/28 [==============================] - 0s 9ms/step - loss: 1.1826\n",
            "Epoch 16/200\n",
            "28/28 [==============================] - 0s 9ms/step - loss: 1.1216\n",
            "Epoch 17/200\n",
            "28/28 [==============================] - 0s 8ms/step - loss: 1.0618\n",
            "Epoch 18/200\n",
            "28/28 [==============================] - 0s 10ms/step - loss: 1.0067\n",
            "Epoch 19/200\n",
            "28/28 [==============================] - 0s 8ms/step - loss: 0.9584\n",
            "Epoch 20/200\n",
            "28/28 [==============================] - 0s 8ms/step - loss: 0.9111\n",
            "Epoch 21/200\n",
            "28/28 [==============================] - 0s 8ms/step - loss: 0.8716\n",
            "Epoch 22/200\n",
            "28/28 [==============================] - 0s 8ms/step - loss: 0.8307\n",
            "Epoch 23/200\n",
            "28/28 [==============================] - 0s 10ms/step - loss: 0.7954\n",
            "Epoch 24/200\n",
            "28/28 [==============================] - 0s 9ms/step - loss: 0.7617\n",
            "Epoch 25/200\n",
            "28/28 [==============================] - 0s 9ms/step - loss: 0.7322\n",
            "Epoch 26/200\n",
            "28/28 [==============================] - 0s 9ms/step - loss: 0.6910\n",
            "Epoch 27/200\n",
            "28/28 [==============================] - 0s 8ms/step - loss: 0.6510\n",
            "Epoch 28/200\n",
            "28/28 [==============================] - 0s 8ms/step - loss: 0.6189\n",
            "Epoch 29/200\n",
            "28/28 [==============================] - 0s 7ms/step - loss: 0.5935\n",
            "Epoch 30/200\n",
            "28/28 [==============================] - 0s 9ms/step - loss: 0.5642\n",
            "Epoch 31/200\n",
            "28/28 [==============================] - 0s 9ms/step - loss: 0.5403\n",
            "Epoch 32/200\n",
            "28/28 [==============================] - 0s 8ms/step - loss: 0.5184\n",
            "Epoch 33/200\n",
            "28/28 [==============================] - 0s 9ms/step - loss: 0.4980\n",
            "Epoch 34/200\n",
            "28/28 [==============================] - 0s 9ms/step - loss: 0.4765\n",
            "Epoch 35/200\n",
            "28/28 [==============================] - 0s 8ms/step - loss: 0.4579\n",
            "Epoch 36/200\n",
            "28/28 [==============================] - 0s 9ms/step - loss: 0.4425\n",
            "Epoch 37/200\n",
            "28/28 [==============================] - 0s 10ms/step - loss: 0.4243\n",
            "Epoch 38/200\n",
            "28/28 [==============================] - 0s 9ms/step - loss: 0.4094\n",
            "Epoch 39/200\n",
            "28/28 [==============================] - 0s 9ms/step - loss: 0.3942\n",
            "Epoch 40/200\n",
            "28/28 [==============================] - 0s 9ms/step - loss: 0.3832\n",
            "Epoch 41/200\n",
            "28/28 [==============================] - 0s 9ms/step - loss: 0.3681\n",
            "Epoch 42/200\n",
            "28/28 [==============================] - 0s 8ms/step - loss: 0.3555\n",
            "Epoch 43/200\n",
            "28/28 [==============================] - 0s 9ms/step - loss: 0.3446\n",
            "Epoch 44/200\n",
            "28/28 [==============================] - 0s 10ms/step - loss: 0.3334\n",
            "Epoch 45/200\n",
            "28/28 [==============================] - 0s 9ms/step - loss: 0.3222\n",
            "Epoch 46/200\n",
            "28/28 [==============================] - 0s 13ms/step - loss: 0.3126\n",
            "Epoch 47/200\n",
            "28/28 [==============================] - 0s 12ms/step - loss: 0.3031\n",
            "Epoch 48/200\n",
            "28/28 [==============================] - 0s 12ms/step - loss: 0.2949\n",
            "Epoch 49/200\n",
            "28/28 [==============================] - 0s 13ms/step - loss: 0.2866\n",
            "Epoch 50/200\n",
            "28/28 [==============================] - 0s 12ms/step - loss: 0.2801\n",
            "Epoch 51/200\n",
            "28/28 [==============================] - 0s 13ms/step - loss: 0.2707\n",
            "Epoch 52/200\n",
            "28/28 [==============================] - 0s 8ms/step - loss: 0.2638\n",
            "Epoch 53/200\n",
            "28/28 [==============================] - 0s 7ms/step - loss: 0.2571\n",
            "Epoch 54/200\n",
            "28/28 [==============================] - 0s 8ms/step - loss: 0.2517\n",
            "Epoch 55/200\n",
            "28/28 [==============================] - 0s 8ms/step - loss: 0.2447\n",
            "Epoch 56/200\n",
            "28/28 [==============================] - 0s 7ms/step - loss: 0.2392\n",
            "Epoch 57/200\n",
            "28/28 [==============================] - 0s 8ms/step - loss: 0.2343\n",
            "Epoch 58/200\n",
            "28/28 [==============================] - 0s 8ms/step - loss: 0.2289\n",
            "Epoch 59/200\n",
            "28/28 [==============================] - 0s 8ms/step - loss: 0.2237\n",
            "Epoch 60/200\n",
            "28/28 [==============================] - 0s 8ms/step - loss: 0.2200\n",
            "Epoch 61/200\n",
            "28/28 [==============================] - 0s 7ms/step - loss: 0.2154\n",
            "Epoch 62/200\n",
            "28/28 [==============================] - 0s 9ms/step - loss: 0.2115\n",
            "Epoch 63/200\n",
            "28/28 [==============================] - 0s 8ms/step - loss: 0.2066\n",
            "Epoch 64/200\n",
            "28/28 [==============================] - 0s 9ms/step - loss: 0.2036\n",
            "Epoch 65/200\n",
            "28/28 [==============================] - 0s 11ms/step - loss: 0.1993\n",
            "Epoch 66/200\n",
            "28/28 [==============================] - 0s 10ms/step - loss: 0.1972\n",
            "Epoch 67/200\n",
            "28/28 [==============================] - 0s 9ms/step - loss: 0.1934\n",
            "Epoch 68/200\n",
            "28/28 [==============================] - 0s 8ms/step - loss: 0.1903\n",
            "Epoch 69/200\n",
            "28/28 [==============================] - 0s 8ms/step - loss: 0.1868\n",
            "Epoch 70/200\n",
            "28/28 [==============================] - 0s 8ms/step - loss: 0.1840\n",
            "Epoch 71/200\n",
            "28/28 [==============================] - 0s 8ms/step - loss: 0.1813\n",
            "Epoch 72/200\n",
            "28/28 [==============================] - 0s 8ms/step - loss: 0.1787\n",
            "Epoch 73/200\n",
            "28/28 [==============================] - 0s 10ms/step - loss: 0.1758\n",
            "Epoch 74/200\n",
            "28/28 [==============================] - 0s 9ms/step - loss: 0.1741\n",
            "Epoch 75/200\n",
            "28/28 [==============================] - 0s 9ms/step - loss: 0.1708\n",
            "Epoch 76/200\n",
            "28/28 [==============================] - 0s 10ms/step - loss: 0.1690\n",
            "Epoch 77/200\n",
            "28/28 [==============================] - 0s 10ms/step - loss: 0.1667\n",
            "Epoch 78/200\n",
            "28/28 [==============================] - 0s 9ms/step - loss: 0.1651\n",
            "Epoch 79/200\n",
            "28/28 [==============================] - 0s 10ms/step - loss: 0.1623\n",
            "Epoch 80/200\n",
            "28/28 [==============================] - 0s 9ms/step - loss: 0.1607\n",
            "Epoch 81/200\n",
            "28/28 [==============================] - 0s 9ms/step - loss: 0.1585\n",
            "Epoch 82/200\n",
            "28/28 [==============================] - 0s 8ms/step - loss: 0.1561\n",
            "Epoch 83/200\n",
            "28/28 [==============================] - 0s 14ms/step - loss: 0.1542\n",
            "Epoch 84/200\n",
            "28/28 [==============================] - 0s 13ms/step - loss: 0.1529\n",
            "Epoch 85/200\n",
            "28/28 [==============================] - 0s 14ms/step - loss: 0.1523\n",
            "Epoch 86/200\n",
            "28/28 [==============================] - 0s 13ms/step - loss: 0.1498\n",
            "Epoch 87/200\n",
            "28/28 [==============================] - 0s 12ms/step - loss: 0.1475\n",
            "Epoch 88/200\n",
            "28/28 [==============================] - 0s 12ms/step - loss: 0.1476\n",
            "Epoch 89/200\n",
            "28/28 [==============================] - 0s 10ms/step - loss: 0.1445\n",
            "Epoch 90/200\n",
            "28/28 [==============================] - 0s 10ms/step - loss: 0.1438\n",
            "Epoch 91/200\n",
            "28/28 [==============================] - 0s 10ms/step - loss: 0.1416\n",
            "Epoch 92/200\n",
            "28/28 [==============================] - 0s 8ms/step - loss: 0.1399\n",
            "Epoch 93/200\n",
            "28/28 [==============================] - 0s 7ms/step - loss: 0.1384\n",
            "Epoch 94/200\n",
            "28/28 [==============================] - 0s 7ms/step - loss: 0.1372\n",
            "Epoch 95/200\n",
            "28/28 [==============================] - 0s 9ms/step - loss: 0.1383\n",
            "Epoch 96/200\n",
            "28/28 [==============================] - 0s 10ms/step - loss: 0.1341\n",
            "Epoch 97/200\n",
            "28/28 [==============================] - 0s 8ms/step - loss: 0.1340\n",
            "Epoch 98/200\n",
            "28/28 [==============================] - 0s 9ms/step - loss: 0.1316\n",
            "Epoch 99/200\n",
            "28/28 [==============================] - 0s 9ms/step - loss: 0.1309\n",
            "Epoch 100/200\n",
            "28/28 [==============================] - 0s 9ms/step - loss: 0.1317\n",
            "Epoch 101/200\n",
            "28/28 [==============================] - 0s 9ms/step - loss: 0.1287\n",
            "Epoch 102/200\n",
            "28/28 [==============================] - 0s 9ms/step - loss: 0.1285\n",
            "Epoch 103/200\n",
            "28/28 [==============================] - 0s 9ms/step - loss: 0.1292\n",
            "Epoch 104/200\n",
            "28/28 [==============================] - 0s 11ms/step - loss: 0.1266\n",
            "Epoch 105/200\n",
            "28/28 [==============================] - 0s 9ms/step - loss: 0.1249\n",
            "Epoch 106/200\n",
            "28/28 [==============================] - 0s 9ms/step - loss: 0.1236\n",
            "Epoch 107/200\n",
            "28/28 [==============================] - 0s 9ms/step - loss: 0.1221\n",
            "Epoch 108/200\n",
            "28/28 [==============================] - 0s 9ms/step - loss: 0.1238\n",
            "Epoch 109/200\n",
            "28/28 [==============================] - 0s 11ms/step - loss: 0.1236\n",
            "Epoch 110/200\n",
            "28/28 [==============================] - 0s 8ms/step - loss: 0.1202\n",
            "Epoch 111/200\n",
            "28/28 [==============================] - 0s 9ms/step - loss: 0.1190\n",
            "Epoch 112/200\n",
            "28/28 [==============================] - 0s 9ms/step - loss: 0.1170\n",
            "Epoch 113/200\n",
            "28/28 [==============================] - 0s 9ms/step - loss: 0.1204\n",
            "Epoch 114/200\n",
            "28/28 [==============================] - 0s 10ms/step - loss: 0.1171\n",
            "Epoch 115/200\n",
            "28/28 [==============================] - 0s 9ms/step - loss: 0.1135\n",
            "Epoch 116/200\n",
            "28/28 [==============================] - 0s 7ms/step - loss: 0.1125\n",
            "Epoch 117/200\n",
            "28/28 [==============================] - 0s 9ms/step - loss: 0.1122\n",
            "Epoch 118/200\n",
            "28/28 [==============================] - 0s 7ms/step - loss: 0.1136\n",
            "Epoch 119/200\n",
            "28/28 [==============================] - 0s 12ms/step - loss: 0.1125\n",
            "Epoch 120/200\n",
            "28/28 [==============================] - 0s 12ms/step - loss: 0.1086\n",
            "Epoch 121/200\n",
            "28/28 [==============================] - 0s 12ms/step - loss: 0.1087\n",
            "Epoch 122/200\n",
            "28/28 [==============================] - 0s 13ms/step - loss: 0.1078\n",
            "Epoch 123/200\n",
            "28/28 [==============================] - 0s 13ms/step - loss: 0.1074\n",
            "Epoch 124/200\n",
            "28/28 [==============================] - 0s 12ms/step - loss: 0.1068\n",
            "Epoch 125/200\n",
            "28/28 [==============================] - 0s 10ms/step - loss: 0.1053\n",
            "Epoch 126/200\n",
            "28/28 [==============================] - 0s 9ms/step - loss: 0.1052\n",
            "Epoch 127/200\n",
            "28/28 [==============================] - 0s 11ms/step - loss: 0.1045\n",
            "Epoch 128/200\n",
            "28/28 [==============================] - 0s 8ms/step - loss: 0.1034\n",
            "Epoch 129/200\n",
            "28/28 [==============================] - 0s 9ms/step - loss: 0.1025\n",
            "Epoch 130/200\n",
            "28/28 [==============================] - 0s 9ms/step - loss: 0.1054\n",
            "Epoch 131/200\n",
            "28/28 [==============================] - 0s 8ms/step - loss: 0.1004\n",
            "Epoch 132/200\n",
            "28/28 [==============================] - 0s 7ms/step - loss: 0.1037\n",
            "Epoch 133/200\n",
            "28/28 [==============================] - 0s 8ms/step - loss: 0.1020\n",
            "Epoch 134/200\n",
            "28/28 [==============================] - 0s 8ms/step - loss: 0.0980\n",
            "Epoch 135/200\n",
            "28/28 [==============================] - 0s 7ms/step - loss: 0.0977\n",
            "Epoch 136/200\n",
            "28/28 [==============================] - 0s 8ms/step - loss: 0.0996\n",
            "Epoch 137/200\n",
            "28/28 [==============================] - 0s 8ms/step - loss: 0.0965\n",
            "Epoch 138/200\n",
            "28/28 [==============================] - 0s 8ms/step - loss: 0.0953\n",
            "Epoch 139/200\n",
            "28/28 [==============================] - 0s 9ms/step - loss: 0.0959\n",
            "Epoch 140/200\n",
            "28/28 [==============================] - 0s 8ms/step - loss: 0.0978\n",
            "Epoch 141/200\n",
            "28/28 [==============================] - 0s 9ms/step - loss: 0.0941\n",
            "Epoch 142/200\n",
            "28/28 [==============================] - 0s 9ms/step - loss: 0.0927\n",
            "Epoch 143/200\n",
            "28/28 [==============================] - 0s 10ms/step - loss: 0.0944\n",
            "Epoch 144/200\n",
            "28/28 [==============================] - 0s 9ms/step - loss: 0.0931\n",
            "Epoch 145/200\n",
            "28/28 [==============================] - 0s 9ms/step - loss: 0.0914\n",
            "Epoch 146/200\n",
            "28/28 [==============================] - 0s 9ms/step - loss: 0.0907\n",
            "Epoch 147/200\n",
            "28/28 [==============================] - 0s 9ms/step - loss: 0.0930\n",
            "Epoch 148/200\n",
            "28/28 [==============================] - 0s 9ms/step - loss: 0.0886\n",
            "Epoch 149/200\n",
            "28/28 [==============================] - 0s 8ms/step - loss: 0.0893\n",
            "Epoch 150/200\n",
            "28/28 [==============================] - 0s 9ms/step - loss: 0.0897\n",
            "Epoch 151/200\n",
            "28/28 [==============================] - 0s 8ms/step - loss: 0.0883\n",
            "Epoch 152/200\n",
            "28/28 [==============================] - 0s 7ms/step - loss: 0.0882\n",
            "Epoch 153/200\n",
            "28/28 [==============================] - 0s 9ms/step - loss: 0.0879\n",
            "Epoch 154/200\n",
            "28/28 [==============================] - 0s 9ms/step - loss: 0.0870\n",
            "Epoch 155/200\n",
            "28/28 [==============================] - 0s 9ms/step - loss: 0.0869\n",
            "Epoch 156/200\n",
            "28/28 [==============================] - 0s 10ms/step - loss: 0.0844\n",
            "Epoch 157/200\n",
            "28/28 [==============================] - 0s 14ms/step - loss: 0.0844\n",
            "Epoch 158/200\n",
            "28/28 [==============================] - 0s 12ms/step - loss: 0.0858\n",
            "Epoch 159/200\n",
            "28/28 [==============================] - 0s 13ms/step - loss: 0.0894\n",
            "Epoch 160/200\n",
            "28/28 [==============================] - 0s 12ms/step - loss: 0.0827\n",
            "Epoch 161/200\n",
            "28/28 [==============================] - 0s 13ms/step - loss: 0.0831\n",
            "Epoch 162/200\n",
            "28/28 [==============================] - 0s 14ms/step - loss: 0.0824\n",
            "Epoch 163/200\n",
            "28/28 [==============================] - 0s 13ms/step - loss: 0.0806\n",
            "Epoch 164/200\n",
            "28/28 [==============================] - 0s 9ms/step - loss: 0.0812\n",
            "Epoch 165/200\n",
            "28/28 [==============================] - 0s 9ms/step - loss: 0.0809\n",
            "Epoch 166/200\n",
            "28/28 [==============================] - 0s 9ms/step - loss: 0.0793\n",
            "Epoch 167/200\n",
            "28/28 [==============================] - 0s 9ms/step - loss: 0.0798\n",
            "Epoch 168/200\n",
            "28/28 [==============================] - 0s 9ms/step - loss: 0.0801\n",
            "Epoch 169/200\n",
            "28/28 [==============================] - 0s 9ms/step - loss: 0.0802\n",
            "Epoch 170/200\n",
            "28/28 [==============================] - 0s 10ms/step - loss: 0.0786\n",
            "Epoch 171/200\n",
            "28/28 [==============================] - 0s 10ms/step - loss: 0.0795\n",
            "Epoch 172/200\n",
            "28/28 [==============================] - 0s 10ms/step - loss: 0.0757\n",
            "Epoch 173/200\n",
            "28/28 [==============================] - 0s 12ms/step - loss: 0.0764\n",
            "Epoch 174/200\n",
            "28/28 [==============================] - 0s 9ms/step - loss: 0.0805\n",
            "Epoch 175/200\n",
            "28/28 [==============================] - 0s 9ms/step - loss: 0.0754\n",
            "Epoch 176/200\n",
            "28/28 [==============================] - 0s 9ms/step - loss: 0.0753\n",
            "Epoch 177/200\n",
            "28/28 [==============================] - 0s 8ms/step - loss: 0.0758\n",
            "Epoch 178/200\n",
            "28/28 [==============================] - 0s 7ms/step - loss: 0.0751\n",
            "Epoch 179/200\n",
            "28/28 [==============================] - 0s 9ms/step - loss: 0.0781\n",
            "Epoch 180/200\n",
            "28/28 [==============================] - 0s 10ms/step - loss: 0.0757\n",
            "Epoch 181/200\n",
            "28/28 [==============================] - 0s 9ms/step - loss: 0.0739\n",
            "Epoch 182/200\n",
            "28/28 [==============================] - 0s 8ms/step - loss: 0.0735\n",
            "Epoch 183/200\n",
            "28/28 [==============================] - 0s 10ms/step - loss: 0.0729\n",
            "Epoch 184/200\n",
            "28/28 [==============================] - 0s 8ms/step - loss: 0.0727\n",
            "Epoch 185/200\n",
            "28/28 [==============================] - 0s 9ms/step - loss: 0.0724\n",
            "Epoch 186/200\n",
            "28/28 [==============================] - 0s 10ms/step - loss: 0.0735\n",
            "Epoch 187/200\n",
            "28/28 [==============================] - 0s 9ms/step - loss: 0.0715\n",
            "Epoch 188/200\n",
            "28/28 [==============================] - 0s 10ms/step - loss: 0.0718\n",
            "Epoch 189/200\n",
            "28/28 [==============================] - 0s 10ms/step - loss: 0.0701\n",
            "Epoch 190/200\n",
            "28/28 [==============================] - 0s 8ms/step - loss: 0.0703\n",
            "Epoch 191/200\n",
            "28/28 [==============================] - 0s 10ms/step - loss: 0.0685\n",
            "Epoch 192/200\n",
            "28/28 [==============================] - 0s 10ms/step - loss: 0.0688\n",
            "Epoch 193/200\n",
            "28/28 [==============================] - 0s 9ms/step - loss: 0.0678\n",
            "Epoch 194/200\n",
            "28/28 [==============================] - 0s 12ms/step - loss: 0.0682\n",
            "Epoch 195/200\n",
            "28/28 [==============================] - 0s 13ms/step - loss: 0.0676\n",
            "Epoch 196/200\n",
            "28/28 [==============================] - 0s 14ms/step - loss: 0.0687\n",
            "Epoch 197/200\n",
            "28/28 [==============================] - 0s 14ms/step - loss: 0.0662\n",
            "Epoch 198/200\n",
            "28/28 [==============================] - 0s 14ms/step - loss: 0.0678\n",
            "Epoch 199/200\n",
            "28/28 [==============================] - 0s 13ms/step - loss: 0.0657\n",
            "Epoch 200/200\n",
            "28/28 [==============================] - 0s 13ms/step - loss: 0.0664\n"
          ]
        },
        {
          "output_type": "execute_result",
          "data": {
            "text/plain": [
              "<keras.callbacks.History at 0x7fb8c839caf0>"
            ]
          },
          "metadata": {},
          "execution_count": 399
        }
      ]
    },
    {
      "cell_type": "code",
      "source": [
        "# n_input = 4\n",
        "# n_features = 1\n",
        "# generator_test = TimeseriesGenerator(testset2, testset2, length = n_input, batch_size = 1)"
      ],
      "metadata": {
        "id": "AOs87y5mjIb1"
      },
      "execution_count": 284,
      "outputs": []
    },
    {
      "cell_type": "code",
      "source": [
        "test_prediction = []\n",
        "first_eval_batch = trainset2[-n_input:]\n",
        "current_batch = first_eval_batch.reshape((1, n_input, n_features))\n",
        "\n",
        "for i in range(len(testset2)):\n",
        "  current_pred = model.predict(current_batch)[0]\n",
        "\n",
        "  test_prediction.append(current_pred)\n",
        "\n",
        "  current_batch = np.append(current_batch[:,1:,:], [[current_pred]], axis = 1)\n"
      ],
      "metadata": {
        "colab": {
          "base_uri": "https://localhost:8080/"
        },
        "id": "0JSvNMFxuONE",
        "outputId": "a0668512-762f-4f40-8336-0bab399cc3d8"
      },
      "execution_count": 400,
      "outputs": [
        {
          "output_type": "stream",
          "name": "stdout",
          "text": [
            "1/1 [==============================] - 1s 672ms/step\n",
            "1/1 [==============================] - 0s 34ms/step\n",
            "1/1 [==============================] - 0s 38ms/step\n",
            "1/1 [==============================] - 0s 33ms/step\n",
            "1/1 [==============================] - 0s 35ms/step\n",
            "1/1 [==============================] - 0s 41ms/step\n",
            "1/1 [==============================] - 0s 39ms/step\n",
            "1/1 [==============================] - 0s 36ms/step\n",
            "1/1 [==============================] - 0s 34ms/step\n",
            "1/1 [==============================] - 0s 33ms/step\n",
            "1/1 [==============================] - 0s 24ms/step\n",
            "1/1 [==============================] - 0s 26ms/step\n"
          ]
        }
      ]
    },
    {
      "cell_type": "code",
      "source": [
        "#y_pred_des_lstm = scaler.inverse_transform(model.predict_generator(generator_test))\n",
        "y_pred_des_lstm = scaler.inverse_transform(test_prediction)\n",
        "y_pred_des_lstm = pd.DataFrame(list(y_pred_des_lstm), columns = ['P_Revenue'])\n",
        "y_pred_des_lstm = y_pred_des_lstm.set_index(decomposition.seasonal[-12:].index)\n",
        "y_pred_des_lstm"
      ],
      "metadata": {
        "colab": {
          "base_uri": "https://localhost:8080/",
          "height": 425
        },
        "id": "AyI2bGc1jy4r",
        "outputId": "25e57d2d-b8a5-4ecb-e05d-c532e10b5dbc"
      },
      "execution_count": 401,
      "outputs": [
        {
          "output_type": "execute_result",
          "data": {
            "text/plain": [
              "               P_Revenue\n",
              "2021-01-31  4.204333e+07\n",
              "2021-02-28  4.218675e+07\n",
              "2021-03-31  4.240752e+07\n",
              "2021-04-30  4.256821e+07\n",
              "2021-05-31  4.268541e+07\n",
              "2021-06-30  4.277018e+07\n",
              "2021-07-31  4.283132e+07\n",
              "2021-08-31  4.287851e+07\n",
              "2021-09-30  4.291362e+07\n",
              "2021-10-31  4.295090e+07\n",
              "2021-11-30  4.298017e+07\n",
              "2021-12-31  4.300349e+07"
            ],
            "text/html": [
              "\n",
              "  <div id=\"df-bcbd3f70-fdca-4a20-a919-b62b270ff32a\">\n",
              "    <div class=\"colab-df-container\">\n",
              "      <div>\n",
              "<style scoped>\n",
              "    .dataframe tbody tr th:only-of-type {\n",
              "        vertical-align: middle;\n",
              "    }\n",
              "\n",
              "    .dataframe tbody tr th {\n",
              "        vertical-align: top;\n",
              "    }\n",
              "\n",
              "    .dataframe thead th {\n",
              "        text-align: right;\n",
              "    }\n",
              "</style>\n",
              "<table border=\"1\" class=\"dataframe\">\n",
              "  <thead>\n",
              "    <tr style=\"text-align: right;\">\n",
              "      <th></th>\n",
              "      <th>P_Revenue</th>\n",
              "    </tr>\n",
              "  </thead>\n",
              "  <tbody>\n",
              "    <tr>\n",
              "      <th>2021-01-31</th>\n",
              "      <td>4.204333e+07</td>\n",
              "    </tr>\n",
              "    <tr>\n",
              "      <th>2021-02-28</th>\n",
              "      <td>4.218675e+07</td>\n",
              "    </tr>\n",
              "    <tr>\n",
              "      <th>2021-03-31</th>\n",
              "      <td>4.240752e+07</td>\n",
              "    </tr>\n",
              "    <tr>\n",
              "      <th>2021-04-30</th>\n",
              "      <td>4.256821e+07</td>\n",
              "    </tr>\n",
              "    <tr>\n",
              "      <th>2021-05-31</th>\n",
              "      <td>4.268541e+07</td>\n",
              "    </tr>\n",
              "    <tr>\n",
              "      <th>2021-06-30</th>\n",
              "      <td>4.277018e+07</td>\n",
              "    </tr>\n",
              "    <tr>\n",
              "      <th>2021-07-31</th>\n",
              "      <td>4.283132e+07</td>\n",
              "    </tr>\n",
              "    <tr>\n",
              "      <th>2021-08-31</th>\n",
              "      <td>4.287851e+07</td>\n",
              "    </tr>\n",
              "    <tr>\n",
              "      <th>2021-09-30</th>\n",
              "      <td>4.291362e+07</td>\n",
              "    </tr>\n",
              "    <tr>\n",
              "      <th>2021-10-31</th>\n",
              "      <td>4.295090e+07</td>\n",
              "    </tr>\n",
              "    <tr>\n",
              "      <th>2021-11-30</th>\n",
              "      <td>4.298017e+07</td>\n",
              "    </tr>\n",
              "    <tr>\n",
              "      <th>2021-12-31</th>\n",
              "      <td>4.300349e+07</td>\n",
              "    </tr>\n",
              "  </tbody>\n",
              "</table>\n",
              "</div>\n",
              "      <button class=\"colab-df-convert\" onclick=\"convertToInteractive('df-bcbd3f70-fdca-4a20-a919-b62b270ff32a')\"\n",
              "              title=\"Convert this dataframe to an interactive table.\"\n",
              "              style=\"display:none;\">\n",
              "        \n",
              "  <svg xmlns=\"http://www.w3.org/2000/svg\" height=\"24px\"viewBox=\"0 0 24 24\"\n",
              "       width=\"24px\">\n",
              "    <path d=\"M0 0h24v24H0V0z\" fill=\"none\"/>\n",
              "    <path d=\"M18.56 5.44l.94 2.06.94-2.06 2.06-.94-2.06-.94-.94-2.06-.94 2.06-2.06.94zm-11 1L8.5 8.5l.94-2.06 2.06-.94-2.06-.94L8.5 2.5l-.94 2.06-2.06.94zm10 10l.94 2.06.94-2.06 2.06-.94-2.06-.94-.94-2.06-.94 2.06-2.06.94z\"/><path d=\"M17.41 7.96l-1.37-1.37c-.4-.4-.92-.59-1.43-.59-.52 0-1.04.2-1.43.59L10.3 9.45l-7.72 7.72c-.78.78-.78 2.05 0 2.83L4 21.41c.39.39.9.59 1.41.59.51 0 1.02-.2 1.41-.59l7.78-7.78 2.81-2.81c.8-.78.8-2.07 0-2.86zM5.41 20L4 18.59l7.72-7.72 1.47 1.35L5.41 20z\"/>\n",
              "  </svg>\n",
              "      </button>\n",
              "      \n",
              "  <style>\n",
              "    .colab-df-container {\n",
              "      display:flex;\n",
              "      flex-wrap:wrap;\n",
              "      gap: 12px;\n",
              "    }\n",
              "\n",
              "    .colab-df-convert {\n",
              "      background-color: #E8F0FE;\n",
              "      border: none;\n",
              "      border-radius: 50%;\n",
              "      cursor: pointer;\n",
              "      display: none;\n",
              "      fill: #1967D2;\n",
              "      height: 32px;\n",
              "      padding: 0 0 0 0;\n",
              "      width: 32px;\n",
              "    }\n",
              "\n",
              "    .colab-df-convert:hover {\n",
              "      background-color: #E2EBFA;\n",
              "      box-shadow: 0px 1px 2px rgba(60, 64, 67, 0.3), 0px 1px 3px 1px rgba(60, 64, 67, 0.15);\n",
              "      fill: #174EA6;\n",
              "    }\n",
              "\n",
              "    [theme=dark] .colab-df-convert {\n",
              "      background-color: #3B4455;\n",
              "      fill: #D2E3FC;\n",
              "    }\n",
              "\n",
              "    [theme=dark] .colab-df-convert:hover {\n",
              "      background-color: #434B5C;\n",
              "      box-shadow: 0px 1px 3px 1px rgba(0, 0, 0, 0.15);\n",
              "      filter: drop-shadow(0px 1px 2px rgba(0, 0, 0, 0.3));\n",
              "      fill: #FFFFFF;\n",
              "    }\n",
              "  </style>\n",
              "\n",
              "      <script>\n",
              "        const buttonEl =\n",
              "          document.querySelector('#df-bcbd3f70-fdca-4a20-a919-b62b270ff32a button.colab-df-convert');\n",
              "        buttonEl.style.display =\n",
              "          google.colab.kernel.accessAllowed ? 'block' : 'none';\n",
              "\n",
              "        async function convertToInteractive(key) {\n",
              "          const element = document.querySelector('#df-bcbd3f70-fdca-4a20-a919-b62b270ff32a');\n",
              "          const dataTable =\n",
              "            await google.colab.kernel.invokeFunction('convertToInteractive',\n",
              "                                                     [key], {});\n",
              "          if (!dataTable) return;\n",
              "\n",
              "          const docLinkHtml = 'Like what you see? Visit the ' +\n",
              "            '<a target=\"_blank\" href=https://colab.research.google.com/notebooks/data_table.ipynb>data table notebook</a>'\n",
              "            + ' to learn more about interactive tables.';\n",
              "          element.innerHTML = '';\n",
              "          dataTable['output_type'] = 'display_data';\n",
              "          await google.colab.output.renderOutput(dataTable, element);\n",
              "          const docLink = document.createElement('div');\n",
              "          docLink.innerHTML = docLinkHtml;\n",
              "          element.appendChild(docLink);\n",
              "        }\n",
              "      </script>\n",
              "    </div>\n",
              "  </div>\n",
              "  "
            ]
          },
          "metadata": {},
          "execution_count": 401
        }
      ]
    },
    {
      "cell_type": "markdown",
      "source": [
        "The seasonal component is added to the predicted deseasonal revenue"
      ],
      "metadata": {
        "id": "R2UDwpoflCd-"
      }
    },
    {
      "cell_type": "code",
      "source": [
        "\n",
        "y_pred_lstm = pd.DataFrame(y_pred_des_lstm['P_Revenue'] * decomposition.seasonal[-12:], columns = ['Revenue']).round()"
      ],
      "metadata": {
        "id": "cXX_AWgMlDoL"
      },
      "execution_count": 402,
      "outputs": []
    },
    {
      "cell_type": "code",
      "source": [
        "y_pred_lstm"
      ],
      "metadata": {
        "colab": {
          "base_uri": "https://localhost:8080/",
          "height": 425
        },
        "id": "apGVabXNmJ5m",
        "outputId": "5e4b1337-039b-48f0-ab82-4012708ec90b"
      },
      "execution_count": 403,
      "outputs": [
        {
          "output_type": "execute_result",
          "data": {
            "text/plain": [
              "               Revenue\n",
              "2021-01-31  60438009.0\n",
              "2021-02-28  54534842.0\n",
              "2021-03-31  57674048.0\n",
              "2021-04-30  55788706.0\n",
              "2021-05-31  54695890.0\n",
              "2021-06-30  48890690.0\n",
              "2021-07-31  45129101.0\n",
              "2021-08-31  37688618.0\n",
              "2021-09-30  30363343.0\n",
              "2021-10-31  26192513.0\n",
              "2021-11-30  21576408.0\n",
              "2021-12-31  18179784.0"
            ],
            "text/html": [
              "\n",
              "  <div id=\"df-9f0cff17-c90f-486f-a102-186b520a48e4\">\n",
              "    <div class=\"colab-df-container\">\n",
              "      <div>\n",
              "<style scoped>\n",
              "    .dataframe tbody tr th:only-of-type {\n",
              "        vertical-align: middle;\n",
              "    }\n",
              "\n",
              "    .dataframe tbody tr th {\n",
              "        vertical-align: top;\n",
              "    }\n",
              "\n",
              "    .dataframe thead th {\n",
              "        text-align: right;\n",
              "    }\n",
              "</style>\n",
              "<table border=\"1\" class=\"dataframe\">\n",
              "  <thead>\n",
              "    <tr style=\"text-align: right;\">\n",
              "      <th></th>\n",
              "      <th>Revenue</th>\n",
              "    </tr>\n",
              "  </thead>\n",
              "  <tbody>\n",
              "    <tr>\n",
              "      <th>2021-01-31</th>\n",
              "      <td>60438009.0</td>\n",
              "    </tr>\n",
              "    <tr>\n",
              "      <th>2021-02-28</th>\n",
              "      <td>54534842.0</td>\n",
              "    </tr>\n",
              "    <tr>\n",
              "      <th>2021-03-31</th>\n",
              "      <td>57674048.0</td>\n",
              "    </tr>\n",
              "    <tr>\n",
              "      <th>2021-04-30</th>\n",
              "      <td>55788706.0</td>\n",
              "    </tr>\n",
              "    <tr>\n",
              "      <th>2021-05-31</th>\n",
              "      <td>54695890.0</td>\n",
              "    </tr>\n",
              "    <tr>\n",
              "      <th>2021-06-30</th>\n",
              "      <td>48890690.0</td>\n",
              "    </tr>\n",
              "    <tr>\n",
              "      <th>2021-07-31</th>\n",
              "      <td>45129101.0</td>\n",
              "    </tr>\n",
              "    <tr>\n",
              "      <th>2021-08-31</th>\n",
              "      <td>37688618.0</td>\n",
              "    </tr>\n",
              "    <tr>\n",
              "      <th>2021-09-30</th>\n",
              "      <td>30363343.0</td>\n",
              "    </tr>\n",
              "    <tr>\n",
              "      <th>2021-10-31</th>\n",
              "      <td>26192513.0</td>\n",
              "    </tr>\n",
              "    <tr>\n",
              "      <th>2021-11-30</th>\n",
              "      <td>21576408.0</td>\n",
              "    </tr>\n",
              "    <tr>\n",
              "      <th>2021-12-31</th>\n",
              "      <td>18179784.0</td>\n",
              "    </tr>\n",
              "  </tbody>\n",
              "</table>\n",
              "</div>\n",
              "      <button class=\"colab-df-convert\" onclick=\"convertToInteractive('df-9f0cff17-c90f-486f-a102-186b520a48e4')\"\n",
              "              title=\"Convert this dataframe to an interactive table.\"\n",
              "              style=\"display:none;\">\n",
              "        \n",
              "  <svg xmlns=\"http://www.w3.org/2000/svg\" height=\"24px\"viewBox=\"0 0 24 24\"\n",
              "       width=\"24px\">\n",
              "    <path d=\"M0 0h24v24H0V0z\" fill=\"none\"/>\n",
              "    <path d=\"M18.56 5.44l.94 2.06.94-2.06 2.06-.94-2.06-.94-.94-2.06-.94 2.06-2.06.94zm-11 1L8.5 8.5l.94-2.06 2.06-.94-2.06-.94L8.5 2.5l-.94 2.06-2.06.94zm10 10l.94 2.06.94-2.06 2.06-.94-2.06-.94-.94-2.06-.94 2.06-2.06.94z\"/><path d=\"M17.41 7.96l-1.37-1.37c-.4-.4-.92-.59-1.43-.59-.52 0-1.04.2-1.43.59L10.3 9.45l-7.72 7.72c-.78.78-.78 2.05 0 2.83L4 21.41c.39.39.9.59 1.41.59.51 0 1.02-.2 1.41-.59l7.78-7.78 2.81-2.81c.8-.78.8-2.07 0-2.86zM5.41 20L4 18.59l7.72-7.72 1.47 1.35L5.41 20z\"/>\n",
              "  </svg>\n",
              "      </button>\n",
              "      \n",
              "  <style>\n",
              "    .colab-df-container {\n",
              "      display:flex;\n",
              "      flex-wrap:wrap;\n",
              "      gap: 12px;\n",
              "    }\n",
              "\n",
              "    .colab-df-convert {\n",
              "      background-color: #E8F0FE;\n",
              "      border: none;\n",
              "      border-radius: 50%;\n",
              "      cursor: pointer;\n",
              "      display: none;\n",
              "      fill: #1967D2;\n",
              "      height: 32px;\n",
              "      padding: 0 0 0 0;\n",
              "      width: 32px;\n",
              "    }\n",
              "\n",
              "    .colab-df-convert:hover {\n",
              "      background-color: #E2EBFA;\n",
              "      box-shadow: 0px 1px 2px rgba(60, 64, 67, 0.3), 0px 1px 3px 1px rgba(60, 64, 67, 0.15);\n",
              "      fill: #174EA6;\n",
              "    }\n",
              "\n",
              "    [theme=dark] .colab-df-convert {\n",
              "      background-color: #3B4455;\n",
              "      fill: #D2E3FC;\n",
              "    }\n",
              "\n",
              "    [theme=dark] .colab-df-convert:hover {\n",
              "      background-color: #434B5C;\n",
              "      box-shadow: 0px 1px 3px 1px rgba(0, 0, 0, 0.15);\n",
              "      filter: drop-shadow(0px 1px 2px rgba(0, 0, 0, 0.3));\n",
              "      fill: #FFFFFF;\n",
              "    }\n",
              "  </style>\n",
              "\n",
              "      <script>\n",
              "        const buttonEl =\n",
              "          document.querySelector('#df-9f0cff17-c90f-486f-a102-186b520a48e4 button.colab-df-convert');\n",
              "        buttonEl.style.display =\n",
              "          google.colab.kernel.accessAllowed ? 'block' : 'none';\n",
              "\n",
              "        async function convertToInteractive(key) {\n",
              "          const element = document.querySelector('#df-9f0cff17-c90f-486f-a102-186b520a48e4');\n",
              "          const dataTable =\n",
              "            await google.colab.kernel.invokeFunction('convertToInteractive',\n",
              "                                                     [key], {});\n",
              "          if (!dataTable) return;\n",
              "\n",
              "          const docLinkHtml = 'Like what you see? Visit the ' +\n",
              "            '<a target=\"_blank\" href=https://colab.research.google.com/notebooks/data_table.ipynb>data table notebook</a>'\n",
              "            + ' to learn more about interactive tables.';\n",
              "          element.innerHTML = '';\n",
              "          dataTable['output_type'] = 'display_data';\n",
              "          await google.colab.output.renderOutput(dataTable, element);\n",
              "          const docLink = document.createElement('div');\n",
              "          docLink.innerHTML = docLinkHtml;\n",
              "          element.appendChild(docLink);\n",
              "        }\n",
              "      </script>\n",
              "    </div>\n",
              "  </div>\n",
              "  "
            ]
          },
          "metadata": {},
          "execution_count": 403
        }
      ]
    },
    {
      "cell_type": "markdown",
      "source": [
        "A plot to show the actual and forecasted values"
      ],
      "metadata": {
        "id": "dqCUj2BNpGx3"
      }
    },
    {
      "cell_type": "code",
      "source": [
        "fig, ax = plt.subplots(figsize=(10,8))\n",
        "\n",
        "ax.plot(testset1.index, total_month_rev[-12:], color = 'red', label='Actual')\n",
        "ax.plot(testset1.index, y_pred_lstm['Revenue'], color = 'green', label='Forecast')\n",
        "ax.set_xlabel('Time')\n",
        "ax.set_ylabel('Revenue')\n",
        "ax.set_title('LSTM Regression Forecast')\n",
        "ax.legend()\n",
        "plt.show()"
      ],
      "metadata": {
        "colab": {
          "base_uri": "https://localhost:8080/",
          "height": 560
        },
        "id": "cQXsuP4aqVWA",
        "outputId": "55e4e2ea-6b0e-4029-d103-a6653415e839"
      },
      "execution_count": 404,
      "outputs": [
        {
          "output_type": "display_data",
          "data": {
            "text/plain": [
              "<Figure size 1000x800 with 1 Axes>"
            ],
            "image/png": "[encoded data removed]"
          },
          "metadata": {}
        }
      ]
    },
    {
      "cell_type": "code",
      "source": [
        "lstm_decomposition_performance = perf_m(total_month_rev['Revenue'][-12:], y_pred_lstm['Revenue'])\n",
        "lstm_decomposition_performance"
      ],
      "metadata": {
        "colab": {
          "base_uri": "https://localhost:8080/"
        },
        "id": "bp2rwJgrrQjT",
        "outputId": "99b96df4-95ba-4fea-872f-981f606bd2cb"
      },
      "execution_count": 405,
      "outputs": [
        {
          "output_type": "stream",
          "name": "stdout",
          "text": [
            "\n",
            "MSE: 95763467102672.75\n",
            "RMSE: 9785881.007996814\n",
            "MAE: 8803328.583333334 \n",
            "\n"
          ]
        }
      ]
    },
    {
      "cell_type": "markdown",
      "source": [
        "##Long Short-Term Memory (LSTM)"
      ],
      "metadata": {
        "id": "yPyXNHOJ5sDa"
      }
    },
    {
      "cell_type": "markdown",
      "source": [
        "In this section we will be using the LSTM model directly on our dataset without the use of decomposition method"
      ],
      "metadata": {
        "id": "kqltFb9C67g7"
      }
    },
    {
      "cell_type": "code",
      "source": [
        "df_lstm_dir = total_month_rev\n"
      ],
      "metadata": {
        "id": "zmVn7Xr17IM6"
      },
      "execution_count": 487,
      "outputs": []
    },
    {
      "cell_type": "code",
      "source": [
        "#scale the data\n",
        "scaler = MinMaxScaler(feature_range = (-1,1))\n",
        "scaled_data2 = scaler.fit_transform(df_lstm_dir)"
      ],
      "metadata": {
        "id": "pyYOhV2x6uVn"
      },
      "execution_count": 489,
      "outputs": []
    },
    {
      "cell_type": "code",
      "source": [
        "#the scaled data is split into trainset and testset\n",
        "trainset3 = scaled_data2[:-12]\n",
        "testset3 = scaled_data2[-12:]\n",
        "testset3"
      ],
      "metadata": {
        "colab": {
          "base_uri": "https://localhost:8080/"
        },
        "id": "2AbXKAd0729F",
        "outputId": "b41e990c-4290-4d55-d09d-c17240e07981"
      },
      "execution_count": 544,
      "outputs": [
        {
          "output_type": "execute_result",
          "data": {
            "text/plain": [
              "array([[0.88667642],\n",
              "       [0.79350603],\n",
              "       [0.98552929],\n",
              "       [0.98855703],\n",
              "       [1.        ],\n",
              "       [0.92343137],\n",
              "       [0.89792168],\n",
              "       [0.76367329],\n",
              "       [0.63537884],\n",
              "       [0.54134705],\n",
              "       [0.40021492],\n",
              "       [0.31914477]])"
            ]
          },
          "metadata": {},
          "execution_count": 544
        }
      ]
    },
    {
      "cell_type": "markdown",
      "source": [
        "We will follow the same steps as above buit this time without deseasonalizing the data"
      ],
      "metadata": {
        "id": "yqgeqqvR8F5d"
      }
    },
    {
      "cell_type": "code",
      "source": [
        "n_input = 12\n",
        "n_features = 1\n",
        "generator2 = TimeseriesGenerator(trainset3, trainset3, length = n_input, batch_size = 1)\n"
      ],
      "metadata": {
        "id": "SoodPWJ-8NBr"
      },
      "execution_count": 585,
      "outputs": []
    },
    {
      "cell_type": "code",
      "source": [
        "model = Sequential()\n",
        "# model.add(LSTM(1, input_shape = (24, 1)))\n",
        "model.add(LSTM(132,activation = 'tanh', input_shape = (12, 1)))\n",
        "model.add(Dense(1))\n",
        "model.compile(loss='mean_squared_error', optimizer = 'adam')\n",
        "model.fit(generator2, epochs = 1200, batch_size =2)"
      ],
      "metadata": {
        "colab": {
          "base_uri": "https://localhost:8080/"
        },
        "id": "6pApmdX38e41",
        "outputId": "33fec73f-7a94-4c97-8fd1-c3904ae62cf4"
      },
      "execution_count": null,
      "outputs": [
        {
          "output_type": "stream",
          "name": "stdout",
          "text": [
            "Epoch 1/1200\n",
            "36/36 [==============================] - 3s 13ms/step - loss: 0.1038\n",
            "Epoch 2/1200\n",
            "36/36 [==============================] - 0s 13ms/step - loss: 0.0806\n",
            "Epoch 3/1200\n",
            "36/36 [==============================] - 0s 13ms/step - loss: 0.0754\n",
            "Epoch 4/1200\n",
            "36/36 [==============================] - 0s 13ms/step - loss: 0.0717\n",
            "Epoch 5/1200\n",
            "36/36 [==============================] - 0s 9ms/step - loss: 0.0776\n",
            "Epoch 6/1200\n",
            "36/36 [==============================] - 0s 9ms/step - loss: 0.0749\n",
            "Epoch 7/1200\n",
            "36/36 [==============================] - 0s 10ms/step - loss: 0.0700\n",
            "Epoch 8/1200\n",
            "36/36 [==============================] - 0s 9ms/step - loss: 0.0575\n",
            "Epoch 9/1200\n",
            "36/36 [==============================] - 0s 10ms/step - loss: 0.0583\n",
            "Epoch 10/1200\n",
            "36/36 [==============================] - 0s 10ms/step - loss: 0.0500\n",
            "Epoch 11/1200\n",
            "36/36 [==============================] - 0s 10ms/step - loss: 0.0351\n",
            "Epoch 12/1200\n",
            "36/36 [==============================] - 0s 9ms/step - loss: 0.0373\n",
            "Epoch 13/1200\n",
            "36/36 [==============================] - 0s 9ms/step - loss: 0.0298\n",
            "Epoch 14/1200\n",
            "36/36 [==============================] - 0s 10ms/step - loss: 0.0251\n",
            "Epoch 15/1200\n",
            "36/36 [==============================] - 0s 10ms/step - loss: 0.0290\n",
            "Epoch 16/1200\n",
            "36/36 [==============================] - 0s 9ms/step - loss: 0.0270\n",
            "Epoch 17/1200\n",
            "36/36 [==============================] - 0s 9ms/step - loss: 0.0262\n",
            "Epoch 18/1200\n",
            "36/36 [==============================] - 0s 9ms/step - loss: 0.0217\n",
            "Epoch 19/1200\n",
            "36/36 [==============================] - 0s 9ms/step - loss: 0.0207\n",
            "Epoch 20/1200\n",
            "36/36 [==============================] - 0s 9ms/step - loss: 0.0185\n",
            "Epoch 21/1200\n",
            "36/36 [==============================] - 0s 9ms/step - loss: 0.0187\n",
            "Epoch 22/1200\n",
            "36/36 [==============================] - 0s 13ms/step - loss: 0.0315\n",
            "Epoch 23/1200\n",
            "36/36 [==============================] - 0s 12ms/step - loss: 0.0194\n",
            "Epoch 24/1200\n",
            "36/36 [==============================] - 0s 12ms/step - loss: 0.0179\n",
            "Epoch 25/1200\n",
            "36/36 [==============================] - 0s 12ms/step - loss: 0.0175\n",
            "Epoch 26/1200\n",
            "36/36 [==============================] - 0s 12ms/step - loss: 0.0193\n",
            "Epoch 27/1200\n",
            "36/36 [==============================] - 0s 12ms/step - loss: 0.0149\n",
            "Epoch 28/1200\n",
            "36/36 [==============================] - 0s 12ms/step - loss: 0.0196\n",
            "Epoch 29/1200\n",
            "36/36 [==============================] - 0s 9ms/step - loss: 0.0133\n",
            "Epoch 30/1200\n",
            "36/36 [==============================] - 0s 10ms/step - loss: 0.0129\n",
            "Epoch 31/1200\n",
            "36/36 [==============================] - 0s 8ms/step - loss: 0.0126\n",
            "Epoch 32/1200\n",
            "36/36 [==============================] - 0s 9ms/step - loss: 0.0108\n",
            "Epoch 33/1200\n",
            "36/36 [==============================] - 0s 9ms/step - loss: 0.0194\n",
            "Epoch 34/1200\n",
            "36/36 [==============================] - 0s 9ms/step - loss: 0.0126\n",
            "Epoch 35/1200\n",
            "36/36 [==============================] - 0s 9ms/step - loss: 0.0246\n",
            "Epoch 36/1200\n",
            "36/36 [==============================] - 0s 9ms/step - loss: 0.0207\n",
            "Epoch 37/1200\n",
            "36/36 [==============================] - 0s 10ms/step - loss: 0.0169\n",
            "Epoch 38/1200\n",
            "36/36 [==============================] - 0s 9ms/step - loss: 0.0137\n",
            "Epoch 39/1200\n",
            "36/36 [==============================] - 0s 10ms/step - loss: 0.0112\n",
            "Epoch 40/1200\n",
            "36/36 [==============================] - 0s 10ms/step - loss: 0.0118\n",
            "Epoch 41/1200\n",
            "36/36 [==============================] - 0s 10ms/step - loss: 0.0112\n",
            "Epoch 42/1200\n",
            "36/36 [==============================] - 0s 10ms/step - loss: 0.0153\n",
            "Epoch 43/1200\n",
            "36/36 [==============================] - 0s 9ms/step - loss: 0.0139\n",
            "Epoch 44/1200\n",
            "36/36 [==============================] - 0s 9ms/step - loss: 0.0128\n",
            "Epoch 45/1200\n",
            "36/36 [==============================] - 0s 9ms/step - loss: 0.0095\n",
            "Epoch 46/1200\n",
            "36/36 [==============================] - 0s 12ms/step - loss: 0.0099\n",
            "Epoch 47/1200\n",
            "36/36 [==============================] - 0s 13ms/step - loss: 0.0107\n",
            "Epoch 48/1200\n",
            "36/36 [==============================] - 0s 13ms/step - loss: 0.0155\n",
            "Epoch 49/1200\n",
            "36/36 [==============================] - 1s 15ms/step - loss: 0.0135\n",
            "Epoch 50/1200\n",
            "36/36 [==============================] - 0s 13ms/step - loss: 0.0135\n",
            "Epoch 51/1200\n",
            "36/36 [==============================] - 0s 12ms/step - loss: 0.0081\n",
            "Epoch 52/1200\n",
            "36/36 [==============================] - 0s 11ms/step - loss: 0.0110\n",
            "Epoch 53/1200\n",
            "36/36 [==============================] - 0s 9ms/step - loss: 0.0090\n",
            "Epoch 54/1200\n",
            "36/36 [==============================] - 0s 9ms/step - loss: 0.0069\n",
            "Epoch 55/1200\n",
            "36/36 [==============================] - 0s 9ms/step - loss: 0.0086\n",
            "Epoch 56/1200\n",
            "36/36 [==============================] - 0s 9ms/step - loss: 0.0062\n",
            "Epoch 57/1200\n",
            "36/36 [==============================] - 0s 9ms/step - loss: 0.0095\n",
            "Epoch 58/1200\n",
            "36/36 [==============================] - 0s 9ms/step - loss: 0.0099\n",
            "Epoch 59/1200\n",
            "36/36 [==============================] - 0s 9ms/step - loss: 0.0074\n",
            "Epoch 60/1200\n",
            "36/36 [==============================] - 0s 9ms/step - loss: 0.0102\n",
            "Epoch 61/1200\n",
            "36/36 [==============================] - 0s 10ms/step - loss: 0.0099\n",
            "Epoch 62/1200\n",
            "36/36 [==============================] - 0s 10ms/step - loss: 0.0078\n",
            "Epoch 63/1200\n",
            "36/36 [==============================] - 0s 9ms/step - loss: 0.0069\n",
            "Epoch 64/1200\n",
            "36/36 [==============================] - 0s 9ms/step - loss: 0.0051\n",
            "Epoch 65/1200\n",
            "36/36 [==============================] - 0s 9ms/step - loss: 0.0061\n",
            "Epoch 66/1200\n",
            "36/36 [==============================] - 0s 10ms/step - loss: 0.0046\n",
            "Epoch 67/1200\n",
            "36/36 [==============================] - 0s 10ms/step - loss: 0.0072\n",
            "Epoch 68/1200\n",
            "36/36 [==============================] - 0s 9ms/step - loss: 0.0065\n",
            "Epoch 69/1200\n",
            "36/36 [==============================] - 0s 10ms/step - loss: 0.0080\n",
            "Epoch 70/1200\n",
            "36/36 [==============================] - 0s 9ms/step - loss: 0.0071\n",
            "Epoch 71/1200\n",
            "36/36 [==============================] - 0s 9ms/step - loss: 0.0066\n",
            "Epoch 72/1200\n",
            "36/36 [==============================] - 1s 13ms/step - loss: 0.0055\n",
            "Epoch 73/1200\n",
            "36/36 [==============================] - 1s 14ms/step - loss: 0.0046\n",
            "Epoch 74/1200\n",
            "36/36 [==============================] - 1s 13ms/step - loss: 0.0048\n",
            "Epoch 75/1200\n",
            "36/36 [==============================] - 0s 13ms/step - loss: 0.0046\n",
            "Epoch 76/1200\n",
            "36/36 [==============================] - 0s 12ms/step - loss: 0.0071\n",
            "Epoch 77/1200\n",
            "36/36 [==============================] - 0s 12ms/step - loss: 0.0056\n",
            "Epoch 78/1200\n",
            "36/36 [==============================] - 0s 10ms/step - loss: 0.0071\n",
            "Epoch 79/1200\n",
            "36/36 [==============================] - 0s 9ms/step - loss: 0.0065\n",
            "Epoch 80/1200\n",
            "36/36 [==============================] - 0s 9ms/step - loss: 0.0036\n",
            "Epoch 81/1200\n",
            "36/36 [==============================] - 0s 9ms/step - loss: 0.0030\n",
            "Epoch 82/1200\n",
            "36/36 [==============================] - 0s 9ms/step - loss: 0.0074\n",
            "Epoch 83/1200\n",
            "36/36 [==============================] - 0s 9ms/step - loss: 0.0058\n",
            "Epoch 84/1200\n",
            "36/36 [==============================] - 0s 9ms/step - loss: 0.0033\n",
            "Epoch 85/1200\n",
            "36/36 [==============================] - 0s 9ms/step - loss: 0.0064\n",
            "Epoch 86/1200\n",
            "36/36 [==============================] - 0s 9ms/step - loss: 0.0130\n",
            "Epoch 87/1200\n",
            "36/36 [==============================] - 0s 9ms/step - loss: 0.0210\n",
            "Epoch 88/1200\n",
            "36/36 [==============================] - 0s 9ms/step - loss: 0.0212\n",
            "Epoch 89/1200\n",
            "36/36 [==============================] - 0s 8ms/step - loss: 0.0078\n",
            "Epoch 90/1200\n",
            "36/36 [==============================] - 0s 9ms/step - loss: 0.0049\n",
            "Epoch 91/1200\n",
            "36/36 [==============================] - 0s 9ms/step - loss: 0.0054\n",
            "Epoch 92/1200\n",
            " 1/36 [..............................] - ETA: 0s - loss: 0.0044"
          ]
        }
      ]
    },
    {
      "cell_type": "code",
      "source": [
        "test_prediction = []\n",
        "first_eval_batch = trainset3[-n_input:]\n",
        "current_batch = first_eval_batch.reshape((1, n_input, n_features))\n",
        "\n",
        "for i in range(len(testset3)):\n",
        "  current_pred = model.predict(current_batch)[0]\n",
        "\n",
        "  test_prediction.append(current_pred)\n",
        "\n",
        "  current_batch = np.append(current_batch[:,1:,:], [[current_pred]], axis = 1)"
      ],
      "metadata": {
        "colab": {
          "base_uri": "https://localhost:8080/"
        },
        "id": "22nFkxx98vks",
        "outputId": "89f1cc84-d0a9-48b2-f2c1-19d47896b4aa"
      },
      "execution_count": 587,
      "outputs": [
        {
          "output_type": "stream",
          "name": "stdout",
          "text": [
            "1/1 [==============================] - 0s 266ms/step\n",
            "1/1 [==============================] - 0s 33ms/step\n",
            "1/1 [==============================] - 0s 55ms/step\n",
            "1/1 [==============================] - 0s 42ms/step\n",
            "1/1 [==============================] - 0s 33ms/step\n",
            "1/1 [==============================] - 0s 39ms/step\n",
            "1/1 [==============================] - 0s 38ms/step\n",
            "1/1 [==============================] - 0s 41ms/step\n",
            "1/1 [==============================] - 0s 40ms/step\n",
            "1/1 [==============================] - 0s 36ms/step\n",
            "1/1 [==============================] - 0s 36ms/step\n",
            "1/1 [==============================] - 0s 50ms/step\n"
          ]
        }
      ]
    },
    {
      "cell_type": "code",
      "source": [
        "y_pred_lstm = scaler.inverse_transform(test_prediction)\n",
        "y_pred_lstm = pd.DataFrame(list(y_pred_lstm), columns = ['P_Revenue']).round()\n",
        "y_pred_lstm = y_pred_lstm.set_index(total_month_rev[-12:].index)\n",
        "y_pred_lstm"
      ],
      "metadata": {
        "colab": {
          "base_uri": "https://localhost:8080/",
          "height": 425
        },
        "id": "MBfQJcLY9N-F",
        "outputId": "d4abc1b1-d782-468f-94cc-ba23a9140227"
      },
      "execution_count": 588,
      "outputs": [
        {
          "output_type": "execute_result",
          "data": {
            "text/plain": [
              "             P_Revenue\n",
              "2021-01-31  21392495.0\n",
              "2021-02-28  20162956.0\n",
              "2021-03-31  19431441.0\n",
              "2021-04-30  30453273.0\n",
              "2021-05-31  34787512.0\n",
              "2021-06-30  36105293.0\n",
              "2021-07-31  36244959.0\n",
              "2021-08-31  36082536.0\n",
              "2021-09-30  35478695.0\n",
              "2021-10-31  35130920.0\n",
              "2021-11-30  34137623.0\n",
              "2021-12-31  32536702.0"
            ],
            "text/html": [
              "\n",
              "  <div id=\"df-dcf55e75-870d-40ea-8b31-84ce6c4b3d1a\">\n",
              "    <div class=\"colab-df-container\">\n",
              "      <div>\n",
              "<style scoped>\n",
              "    .dataframe tbody tr th:only-of-type {\n",
              "        vertical-align: middle;\n",
              "    }\n",
              "\n",
              "    .dataframe tbody tr th {\n",
              "        vertical-align: top;\n",
              "    }\n",
              "\n",
              "    .dataframe thead th {\n",
              "        text-align: right;\n",
              "    }\n",
              "</style>\n",
              "<table border=\"1\" class=\"dataframe\">\n",
              "  <thead>\n",
              "    <tr style=\"text-align: right;\">\n",
              "      <th></th>\n",
              "      <th>P_Revenue</th>\n",
              "    </tr>\n",
              "  </thead>\n",
              "  <tbody>\n",
              "    <tr>\n",
              "      <th>2021-01-31</th>\n",
              "      <td>21392495.0</td>\n",
              "    </tr>\n",
              "    <tr>\n",
              "      <th>2021-02-28</th>\n",
              "      <td>20162956.0</td>\n",
              "    </tr>\n",
              "    <tr>\n",
              "      <th>2021-03-31</th>\n",
              "      <td>19431441.0</td>\n",
              "    </tr>\n",
              "    <tr>\n",
              "      <th>2021-04-30</th>\n",
              "      <td>30453273.0</td>\n",
              "    </tr>\n",
              "    <tr>\n",
              "      <th>2021-05-31</th>\n",
              "      <td>34787512.0</td>\n",
              "    </tr>\n",
              "    <tr>\n",
              "      <th>2021-06-30</th>\n",
              "      <td>36105293.0</td>\n",
              "    </tr>\n",
              "    <tr>\n",
              "      <th>2021-07-31</th>\n",
              "      <td>36244959.0</td>\n",
              "    </tr>\n",
              "    <tr>\n",
              "      <th>2021-08-31</th>\n",
              "      <td>36082536.0</td>\n",
              "    </tr>\n",
              "    <tr>\n",
              "      <th>2021-09-30</th>\n",
              "      <td>35478695.0</td>\n",
              "    </tr>\n",
              "    <tr>\n",
              "      <th>2021-10-31</th>\n",
              "      <td>35130920.0</td>\n",
              "    </tr>\n",
              "    <tr>\n",
              "      <th>2021-11-30</th>\n",
              "      <td>34137623.0</td>\n",
              "    </tr>\n",
              "    <tr>\n",
              "      <th>2021-12-31</th>\n",
              "      <td>32536702.0</td>\n",
              "    </tr>\n",
              "  </tbody>\n",
              "</table>\n",
              "</div>\n",
              "      <button class=\"colab-df-convert\" onclick=\"convertToInteractive('df-dcf55e75-870d-40ea-8b31-84ce6c4b3d1a')\"\n",
              "              title=\"Convert this dataframe to an interactive table.\"\n",
              "              style=\"display:none;\">\n",
              "        \n",
              "  <svg xmlns=\"http://www.w3.org/2000/svg\" height=\"24px\"viewBox=\"0 0 24 24\"\n",
              "       width=\"24px\">\n",
              "    <path d=\"M0 0h24v24H0V0z\" fill=\"none\"/>\n",
              "    <path d=\"M18.56 5.44l.94 2.06.94-2.06 2.06-.94-2.06-.94-.94-2.06-.94 2.06-2.06.94zm-11 1L8.5 8.5l.94-2.06 2.06-.94-2.06-.94L8.5 2.5l-.94 2.06-2.06.94zm10 10l.94 2.06.94-2.06 2.06-.94-2.06-.94-.94-2.06-.94 2.06-2.06.94z\"/><path d=\"M17.41 7.96l-1.37-1.37c-.4-.4-.92-.59-1.43-.59-.52 0-1.04.2-1.43.59L10.3 9.45l-7.72 7.72c-.78.78-.78 2.05 0 2.83L4 21.41c.39.39.9.59 1.41.59.51 0 1.02-.2 1.41-.59l7.78-7.78 2.81-2.81c.8-.78.8-2.07 0-2.86zM5.41 20L4 18.59l7.72-7.72 1.47 1.35L5.41 20z\"/>\n",
              "  </svg>\n",
              "      </button>\n",
              "      \n",
              "  <style>\n",
              "    .colab-df-container {\n",
              "      display:flex;\n",
              "      flex-wrap:wrap;\n",
              "      gap: 12px;\n",
              "    }\n",
              "\n",
              "    .colab-df-convert {\n",
              "      background-color: #E8F0FE;\n",
              "      border: none;\n",
              "      border-radius: 50%;\n",
              "      cursor: pointer;\n",
              "      display: none;\n",
              "      fill: #1967D2;\n",
              "      height: 32px;\n",
              "      padding: 0 0 0 0;\n",
              "      width: 32px;\n",
              "    }\n",
              "\n",
              "    .colab-df-convert:hover {\n",
              "      background-color: #E2EBFA;\n",
              "      box-shadow: 0px 1px 2px rgba(60, 64, 67, 0.3), 0px 1px 3px 1px rgba(60, 64, 67, 0.15);\n",
              "      fill: #174EA6;\n",
              "    }\n",
              "\n",
              "    [theme=dark] .colab-df-convert {\n",
              "      background-color: #3B4455;\n",
              "      fill: #D2E3FC;\n",
              "    }\n",
              "\n",
              "    [theme=dark] .colab-df-convert:hover {\n",
              "      background-color: #434B5C;\n",
              "      box-shadow: 0px 1px 3px 1px rgba(0, 0, 0, 0.15);\n",
              "      filter: drop-shadow(0px 1px 2px rgba(0, 0, 0, 0.3));\n",
              "      fill: #FFFFFF;\n",
              "    }\n",
              "  </style>\n",
              "\n",
              "      <script>\n",
              "        const buttonEl =\n",
              "          document.querySelector('#df-dcf55e75-870d-40ea-8b31-84ce6c4b3d1a button.colab-df-convert');\n",
              "        buttonEl.style.display =\n",
              "          google.colab.kernel.accessAllowed ? 'block' : 'none';\n",
              "\n",
              "        async function convertToInteractive(key) {\n",
              "          const element = document.querySelector('#df-dcf55e75-870d-40ea-8b31-84ce6c4b3d1a');\n",
              "          const dataTable =\n",
              "            await google.colab.kernel.invokeFunction('convertToInteractive',\n",
              "                                                     [key], {});\n",
              "          if (!dataTable) return;\n",
              "\n",
              "          const docLinkHtml = 'Like what you see? Visit the ' +\n",
              "            '<a target=\"_blank\" href=https://colab.research.google.com/notebooks/data_table.ipynb>data table notebook</a>'\n",
              "            + ' to learn more about interactive tables.';\n",
              "          element.innerHTML = '';\n",
              "          dataTable['output_type'] = 'display_data';\n",
              "          await google.colab.output.renderOutput(dataTable, element);\n",
              "          const docLink = document.createElement('div');\n",
              "          docLink.innerHTML = docLinkHtml;\n",
              "          element.appendChild(docLink);\n",
              "        }\n",
              "      </script>\n",
              "    </div>\n",
              "  </div>\n",
              "  "
            ]
          },
          "metadata": {},
          "execution_count": 588
        }
      ]
    },
    {
      "cell_type": "code",
      "source": [
        "fig, ax = plt.subplots(figsize=(10,8))\n",
        "\n",
        "ax.plot(total_month_rev[-12:].index, total_month_rev[-12:], color = 'red', label='Actual')\n",
        "ax.plot(total_month_rev[-12:].index, y_pred_lstm['P_Revenue'], color = 'green', label='Forecast')\n",
        "ax.set_xlabel('Time')\n",
        "ax.set_ylabel('Revenue')\n",
        "ax.set_title('LSTM Forecast')\n",
        "ax.legend()\n",
        "plt.show()"
      ],
      "metadata": {
        "colab": {
          "base_uri": "https://localhost:8080/",
          "height": 551
        },
        "id": "rpOf4OE6-B4e",
        "outputId": "d79062b9-f21a-4530-ca81-df00be417cf8"
      },
      "execution_count": 589,
      "outputs": [
        {
          "output_type": "display_data",
          "data": {
            "text/plain": [
              "<Figure size 1000x800 with 1 Axes>"
            ],
            "image/png": "[encoded data removed]"
          },
          "metadata": {}
        }
      ]
    },
    {
      "cell_type": "code",
      "source": [
        "lstm_decomposition_performance = perf_m(total_month_rev['Revenue'][-12:], y_pred_lstm['P_Revenue'])\n",
        "lstm_decomposition_performance"
      ],
      "metadata": {
        "colab": {
          "base_uri": "https://localhost:8080/"
        },
        "id": "a1vRVdv5Dm6h",
        "outputId": "ff234575-aa24-4920-9aa5-b78b64fb89dc"
      },
      "execution_count": 590,
      "outputs": [
        {
          "output_type": "stream",
          "name": "stdout",
          "text": [
            "\n",
            "MSE: 220708614582147.84\n",
            "RMSE: 14856265.162622396\n",
            "MAE: 11583360.0 \n",
            "\n"
          ]
        }
      ]
    }
  ],
  "metadata": {
    "colab": {
      "toc_visible": true,
      "provenance": [],
      "collapsed_sections": [
        "iG21qF_wkax2",
        "igv3DqOI2QAp"
      ],
      "authorship_tag": "ABX9TyPjmA0t4LfnLyY3Egf8PMuY",
      "include_colab_link": true
    },
    "kernelspec": {
      "display_name": "Python 3",
      "name": "python3"
    },
    "language_info": {
      "name": "python"
    }
  },
  "nbformat": 4,
  "nbformat_minor": 0
}