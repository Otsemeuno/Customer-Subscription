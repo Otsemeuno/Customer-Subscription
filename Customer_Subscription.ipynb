{
  "nbformat": 4,
  "nbformat_minor": 0,
  "metadata": {
    "colab": {
      "provenance": [],
      "authorship_tag": "ABX9TyOTv/j+ow09BPJkCLGkdkvn",
      "include_colab_link": true
    },
    "kernelspec": {
      "name": "python3",
      "display_name": "Python 3"
    },
    "language_info": {
      "name": "python"
    }
  },
  "cells": [
    {
      "cell_type": "markdown",
      "metadata": {
        "id": "view-in-github",
        "colab_type": "text"
      },
      "source": [
        "<a href=\"https://colab.research.google.com/github/Otsemeuno/Customer-Subscription/blob/main/Customer_Subscription.ipynb\" target=\"_parent\"><img src=\"https://colab.research.google.com/assets/colab-badge.svg\" alt=\"Open In Colab\"/></a>"
      ]
    },
    {
      "cell_type": "markdown",
      "source": [
        "##Customer Subscription\n",
        "$(Adapted from Kaggle)$"
      ],
      "metadata": {
        "id": "psycZWevvbGs"
      }
    },
    {
      "cell_type": "markdown",
      "source": [
        "\n",
        "## Project Statement\n",
        "This data is about a subscription-based digital product offering for financial advisory that includes newsletters, webinars, and investment recommendations. The offering has a couple of varieties, annual subscription, and digital subscription. The product also provides daytime support for customers to reach out to a care team that can help them with any product-related questions and signup/cancellation-related queries.\n",
        "\n",
        "The data set contains the following information:\n",
        "\n",
        "<ul><li>customer sign-up and cancellation dates at the product level\n",
        "<li>call center activity\n",
        "<li>customer demographics\n",
        "<li>product pricing info<ul>"
      ],
      "metadata": {
        "id": "0h4tCrvJvZSZ"
      }
    },
    {
      "cell_type": "markdown",
      "source": [
        "## Objectives\n",
        "\n",
        "Forecast 2022 year revenue if the company expects to add the same number of new customers as the previous year\n",
        "\n",
        "In 2022, one of the company's key initiatives is to improve the customer experience, one of the capabilities is superior customer care service, and they are thinking about enhancing in-product support better but that takes beyond 2022 to happen. It is very important to forecast call center case volume accurately so that they can make appropriate staffing decisions. Need to predict daily call volumes and make recommendations on how to staff on an hourly basis."
      ],
      "metadata": {
        "id": "cyt6YUp2hymw"
      }
    },
    {
      "cell_type": "code",
      "source": [
        "#importing drive\n",
        "from google.colab import drive"
      ],
      "metadata": {
        "id": "KhfRRXSmcbq8"
      },
      "execution_count": null,
      "outputs": []
    },
    {
      "cell_type": "code",
      "source": [
        "#importing all necessary libraries\n",
        "import pandas as pd\n",
        "import numpy as np"
      ],
      "metadata": {
        "id": "xGIZU3VojMgC"
      },
      "execution_count": null,
      "outputs": []
    },
    {
      "cell_type": "markdown",
      "source": [
        "##Data Preparation"
      ],
      "metadata": {
        "id": "iG21qF_wkax2"
      }
    },
    {
      "cell_type": "markdown",
      "source": [
        "####Load the dataset"
      ],
      "metadata": {
        "id": "HVhyCMbjkglw"
      }
    },
    {
      "cell_type": "code",
      "source": [
        "# Mount Google Drive on Kernel\n",
        "drive.mount('/content/drive')"
      ],
      "metadata": {
        "colab": {
          "base_uri": "https://localhost:8080/"
        },
        "id": "NG7JKEJskpo3",
        "outputId": "aab32990-eb6a-4d1f-aa9c-88bc8481d9c3"
      },
      "execution_count": null,
      "outputs": [
        {
          "output_type": "stream",
          "name": "stdout",
          "text": [
            "Mounted at /content/drive\n"
          ]
        }
      ]
    },
    {
      "cell_type": "code",
      "source": [
        "customer_cases = pd.read_csv('/content/drive/MyDrive/Kaggle project/customer_cases.csv')"
      ],
      "metadata": {
        "id": "abhZC8DMkzy6"
      },
      "execution_count": 13,
      "outputs": []
    },
    {
      "cell_type": "code",
      "source": [
        "customer_info = pd.read_csv('/content/drive/MyDrive/Kaggle project/customer_info.csv')"
      ],
      "metadata": {
        "id": "PcNotRM1mODM"
      },
      "execution_count": 5,
      "outputs": []
    },
    {
      "cell_type": "code",
      "source": [
        "customer_product = pd.read_csv('/content/drive/MyDrive/Kaggle project/customer_product.csv')"
      ],
      "metadata": {
        "id": "aQk7owaCmXet"
      },
      "execution_count": 6,
      "outputs": []
    },
    {
      "cell_type": "code",
      "source": [
        "product_info = pd.read_csv('/content/drive/MyDrive/Kaggle project/product_info.csv')"
      ],
      "metadata": {
        "id": "0tp8WoBbmhOb"
      },
      "execution_count": 7,
      "outputs": []
    },
    {
      "cell_type": "code",
      "source": [
        "customer_cases.info()"
      ],
      "metadata": {
        "colab": {
          "base_uri": "https://localhost:8080/"
        },
        "id": "GcSxTk8Vm6HT",
        "outputId": "89dc6c46-e445-4877-f478-30ad095aaa1a"
      },
      "execution_count": 10,
      "outputs": [
        {
          "output_type": "stream",
          "name": "stdout",
          "text": [
            "<class 'pandas.core.frame.DataFrame'>\n",
            "RangeIndex: 330512 entries, 0 to 330511\n",
            "Data columns (total 6 columns):\n",
            " #   Column       Non-Null Count   Dtype \n",
            "---  ------       --------------   ----- \n",
            " 0   Unnamed: 0   330512 non-null  int64 \n",
            " 1   case_id      330512 non-null  object\n",
            " 2   date_time    330512 non-null  object\n",
            " 3   customer_id  330512 non-null  object\n",
            " 4   channel      330512 non-null  object\n",
            " 5   reason       330512 non-null  object\n",
            "dtypes: int64(1), object(5)\n",
            "memory usage: 15.1+ MB\n"
          ]
        }
      ]
    }
  ]
}